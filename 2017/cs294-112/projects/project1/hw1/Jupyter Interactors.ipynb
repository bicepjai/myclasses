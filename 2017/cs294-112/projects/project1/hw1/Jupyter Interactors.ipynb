





<!DOCTYPE html>
<html lang="en">
  <head>
    <meta charset="utf-8">



  <link crossorigin="anonymous" href="https://assets-cdn.github.com/assets/frameworks-d311c4a37b4a480a760dda55c72eb656b70f39154f15e1b7a7f6506e143d7ec0.css" integrity="sha256-0xHEo3tKSAp2DdpVxy62VrcPORVPFeG3p/ZQbhQ9fsA=" media="all" rel="stylesheet" />
  <link crossorigin="anonymous" href="https://assets-cdn.github.com/assets/github-5f9b35cedfc79777aca47137798257f30e25a604574d53e002ae26b3c9930bf7.css" integrity="sha256-X5s1zt/Hl3espHE3eYJX8w4lpgRXTVPgAq4ms8mTC/c=" media="all" rel="stylesheet" />
  
  
  <link crossorigin="anonymous" href="https://assets-cdn.github.com/assets/site-7b63da03f09e96bbc0cc73ccdc359a70e6e50464763a01e9dad2be433480d7ac.css" integrity="sha256-e2PaA/CelrvAzHPM3DWacOblBGR2OgHp2tK+QzSA16w=" media="all" rel="stylesheet" />
  

  <meta name="viewport" content="width=device-width">
  
  <title>bokeh/Jupyter Interactors.ipynb at 0.12.4 · bokeh/bokeh · GitHub</title>
  <link rel="search" type="application/opensearchdescription+xml" href="/opensearch.xml" title="GitHub">
  <link rel="fluid-icon" href="https://github.com/fluidicon.png" title="GitHub">
  <meta property="fb:app_id" content="1401488693436528">


  <link rel="assets" href="https://assets-cdn.github.com/">
  
  <meta name="pjax-timeout" content="1000">
  
  <meta name="request-id" content="CD5C:2F9A1:62AA58C:9F127CD:58A6C58C" data-pjax-transient>
  

  <meta name="selected-link" value="repo_source" data-pjax-transient>

  <meta name="google-site-verification" content="KT5gs8h0wvaagLKAVWq8bbeNwnZZK1r1XQysX3xurLU">
<meta name="google-site-verification" content="ZzhVyEFwb7w3e0-uOTltm8Jsck2F5StVihD0exw2fsA">
    <meta name="google-analytics" content="UA-3769691-2">

<meta content="collector.githubapp.com" name="octolytics-host" /><meta content="github" name="octolytics-app-id" /><meta content="https://collector.githubapp.com/github-external/browser_event" name="octolytics-event-url" /><meta content="CD5C:2F9A1:62AA58C:9F127CD:58A6C58C" name="octolytics-dimension-request_id" />
<meta content="/&lt;user-name&gt;/&lt;repo-name&gt;/blob/show" data-pjax-transient="true" name="analytics-location" />



  <meta class="js-ga-set" name="dimension1" content="Logged Out">



      <meta name="hostname" content="github.com">
  <meta name="user-login" content="">

      <meta name="expected-hostname" content="github.com">
    <meta name="js-proxy-site-detection-payload" content="NTY2YzhiMmY5ZDFkOGNlZGFlMzViMWIwMzdjYmY4ZTAzYjg4NjRkY2MzNTQ5MzA2NzZiMzRmZDU5YWNjNDhmYXx7InJlbW90ZV9hZGRyZXNzIjoiNTAuMTYxLjI0OC4yNDMiLCJyZXF1ZXN0X2lkIjoiQ0Q1QzoyRjlBMTo2MkFBNThDOjlGMTI3Q0Q6NThBNkM1OEMiLCJ0aW1lc3RhbXAiOjE0ODczMjQ1NTksImhvc3QiOiJnaXRodWIuY29tIn0=">


  <meta name="html-safe-nonce" content="21c7ddad90f43e403d8377ef52544dc95d90328d">

  <meta http-equiv="x-pjax-version" content="23929be193bd223d06c6c0868f90d120">
  

    
  <meta name="description" content="bokeh - Interactive Web Plotting for Python">
  <meta name="go-import" content="github.com/bokeh/bokeh git https://github.com/bokeh/bokeh.git">

  <meta content="8440965" name="octolytics-dimension-user_id" /><meta content="bokeh" name="octolytics-dimension-user_login" /><meta content="3834332" name="octolytics-dimension-repository_id" /><meta content="bokeh/bokeh" name="octolytics-dimension-repository_nwo" /><meta content="true" name="octolytics-dimension-repository_public" /><meta content="false" name="octolytics-dimension-repository_is_fork" /><meta content="3834332" name="octolytics-dimension-repository_network_root_id" /><meta content="bokeh/bokeh" name="octolytics-dimension-repository_network_root_nwo" />
  <link href="https://github.com/bokeh/bokeh/commits/0.12.4.atom" rel="alternate" title="Recent Commits to bokeh:0.12.4" type="application/atom+xml">


    <link rel="canonical" href="https://github.com/bokeh/bokeh/blob/0.12.4/examples/howto/notebook_comms/Jupyter%20Interactors.ipynb" data-pjax-transient>


  <meta name="browser-stats-url" content="https://api.github.com/_private/browser/stats">

  <meta name="browser-errors-url" content="https://api.github.com/_private/browser/errors">

  <link rel="mask-icon" href="https://assets-cdn.github.com/pinned-octocat.svg" color="#000000">
  <link rel="icon" type="image/x-icon" href="https://assets-cdn.github.com/favicon.ico">

<meta name="theme-color" content="#1e2327">


  <meta name="u2f-support" content="true">

  </head>

  <body class="logged-out env-production linux vis-public page-blob">
    

  <div class="position-relative js-header-wrapper ">
    <a href="#start-of-content" tabindex="1" class="accessibility-aid js-skip-to-content">Skip to content</a>
    <div id="js-pjax-loader-bar" class="pjax-loader-bar"><div class="progress"></div></div>

    
    
    



          <header class="site-header js-details-container Details" role="banner">
  <div class="container-responsive">
    <a class="header-logo-invertocat" href="https://github.com/" aria-label="Homepage" data-ga-click="(Logged out) Header, go to homepage, icon:logo-wordmark">
      <svg aria-hidden="true" class="octicon octicon-mark-github" height="32" version="1.1" viewBox="0 0 16 16" width="32"><path fill-rule="evenodd" d="M8 0C3.58 0 0 3.58 0 8c0 3.54 2.29 6.53 5.47 7.59.4.07.55-.17.55-.38 0-.19-.01-.82-.01-1.49-2.01.37-2.53-.49-2.69-.94-.09-.23-.48-.94-.82-1.13-.28-.15-.68-.52-.01-.53.63-.01 1.08.58 1.23.82.72 1.21 1.87.87 2.33.66.07-.52.28-.87.51-1.07-1.78-.2-3.64-.89-3.64-3.95 0-.87.31-1.59.82-2.15-.08-.2-.36-1.02.08-2.12 0 0 .67-.21 2.2.82.64-.18 1.32-.27 2-.27.68 0 1.36.09 2 .27 1.53-1.04 2.2-.82 2.2-.82.44 1.1.16 1.92.08 2.12.51.56.82 1.27.82 2.15 0 3.07-1.87 3.75-3.65 3.95.29.25.54.73.54 1.48 0 1.07-.01 1.93-.01 2.2 0 .21.15.46.55.38A8.013 8.013 0 0 0 16 8c0-4.42-3.58-8-8-8z"/></svg>
    </a>

    <button class="btn-link float-right site-header-toggle js-details-target" type="button" aria-label="Toggle navigation">
      <svg aria-hidden="true" class="octicon octicon-three-bars" height="24" version="1.1" viewBox="0 0 12 16" width="18"><path fill-rule="evenodd" d="M11.41 9H.59C0 9 0 8.59 0 8c0-.59 0-1 .59-1H11.4c.59 0 .59.41.59 1 0 .59 0 1-.59 1h.01zm0-4H.59C0 5 0 4.59 0 4c0-.59 0-1 .59-1H11.4c.59 0 .59.41.59 1 0 .59 0 1-.59 1h.01zM.59 11H11.4c.59 0 .59.41.59 1 0 .59 0 1-.59 1H.59C0 13 0 12.59 0 12c0-.59 0-1 .59-1z"/></svg>
    </button>

    <div class="site-header-menu">
      <nav class="site-header-nav">
        <a href="/personal" class="js-selected-navigation-item nav-item" data-ga-click="Header, click, Nav menu - item:personal" data-selected-links="/personal /personal">
          Personal
</a>        <a href="/open-source" class="js-selected-navigation-item nav-item" data-ga-click="Header, click, Nav menu - item:opensource" data-selected-links="/open-source /open-source/stories /open-source">
          Open source
</a>        <a href="/business" class="js-selected-navigation-item nav-item" data-ga-click="Header, click, Nav menu - item:business" data-selected-links="/business /business/partners /business/features /business/customers /business/why-github-for-work /business/security /business">
          Business
</a>        <a href="/explore" class="js-selected-navigation-item nav-item" data-ga-click="Header, click, Nav menu - item:explore" data-selected-links="/explore /trending /trending/developers /integrations /integrations/feature/code /integrations/feature/collaborate /integrations/feature/ship /showcases /explore">
          Explore
</a>        <a href="/pricing" class="js-selected-navigation-item nav-item" data-ga-click="Header, click, Nav menu - item:pricing" data-selected-links="/pricing /pricing">
          Pricing
</a>      </nav>

      <div class="site-header-actions">
          <div class="header-search scoped-search site-scoped-search js-site-search" role="search">
  <!-- '"` --><!-- </textarea></xmp> --></option></form><form accept-charset="UTF-8" action="/bokeh/bokeh/search" class="js-site-search-form" data-scoped-search-url="/bokeh/bokeh/search" data-unscoped-search-url="/search" method="get"><div style="margin:0;padding:0;display:inline"><input name="utf8" type="hidden" value="&#x2713;" /></div>
    <label class="form-control header-search-wrapper js-chromeless-input-container">
      <div class="header-search-scope">This repository</div>
      <input type="text"
        class="form-control header-search-input js-site-search-focus js-site-search-field is-clearable"
        data-hotkey="s"
        name="q"
        placeholder="Search"
        aria-label="Search this repository"
        data-unscoped-placeholder="Search GitHub"
        data-scoped-placeholder="Search"
        autocapitalize="off">
    </label>
</form></div>


          <a class="text-bold" href="/login?return_to=%2Fbokeh%2Fbokeh%2Fblob%2F0.12.4%2Fexamples%2Fhowto%2Fnotebook_comms%2FJupyter%2520Interactors.ipynb" data-ga-click="(Logged out) Header, clicked Sign in, text:sign-in">Sign in</a>
            <span class="text-gray">or</span>
            <a class="text-bold" href="/join?source=header-repo" data-ga-click="(Logged out) Header, clicked Sign up, text:sign-up">Sign up</a>
      </div>
    </div>
  </div>
</header>


  </div>

  <div id="start-of-content" class="accessibility-aid"></div>

    <div id="js-flash-container">
</div>



  <div role="main">
      <div itemscope itemtype="http://schema.org/SoftwareSourceCode">
    <div id="js-repo-pjax-container" data-pjax-container>
      



<div class="pagehead repohead instapaper_ignore readability-menu experiment-repo-nav">
  <div class="container repohead-details-container">

    

<ul class="pagehead-actions">

  <li>
      <a href="/login?return_to=%2Fbokeh%2Fbokeh"
    class="btn btn-sm btn-with-count tooltipped tooltipped-n"
    aria-label="You must be signed in to watch a repository" rel="nofollow">
    <svg aria-hidden="true" class="octicon octicon-eye" height="16" version="1.1" viewBox="0 0 16 16" width="16"><path fill-rule="evenodd" d="M8.06 2C3 2 0 8 0 8s3 6 8.06 6C13 14 16 8 16 8s-3-6-7.94-6zM8 12c-2.2 0-4-1.78-4-4 0-2.2 1.8-4 4-4 2.22 0 4 1.8 4 4 0 2.22-1.78 4-4 4zm2-4c0 1.11-.89 2-2 2-1.11 0-2-.89-2-2 0-1.11.89-2 2-2 1.11 0 2 .89 2 2z"/></svg>
    Watch
  </a>
  <a class="social-count" href="/bokeh/bokeh/watchers"
     aria-label="308 users are watching this repository">
    308
  </a>

  </li>

  <li>
      <a href="/login?return_to=%2Fbokeh%2Fbokeh"
    class="btn btn-sm btn-with-count tooltipped tooltipped-n"
    aria-label="You must be signed in to star a repository" rel="nofollow">
    <svg aria-hidden="true" class="octicon octicon-star" height="16" version="1.1" viewBox="0 0 14 16" width="14"><path fill-rule="evenodd" d="M14 6l-4.9-.64L7 1 4.9 5.36 0 6l3.6 3.26L2.67 14 7 11.67 11.33 14l-.93-4.74z"/></svg>
    Star
  </a>

    <a class="social-count js-social-count" href="/bokeh/bokeh/stargazers"
      aria-label="5421 users starred this repository">
      5,421
    </a>

  </li>

  <li>
      <a href="/login?return_to=%2Fbokeh%2Fbokeh"
        class="btn btn-sm btn-with-count tooltipped tooltipped-n"
        aria-label="You must be signed in to fork a repository" rel="nofollow">
        <svg aria-hidden="true" class="octicon octicon-repo-forked" height="16" version="1.1" viewBox="0 0 10 16" width="10"><path fill-rule="evenodd" d="M8 1a1.993 1.993 0 0 0-1 3.72V6L5 8 3 6V4.72A1.993 1.993 0 0 0 2 1a1.993 1.993 0 0 0-1 3.72V6.5l3 3v1.78A1.993 1.993 0 0 0 5 15a1.993 1.993 0 0 0 1-3.72V9.5l3-3V4.72A1.993 1.993 0 0 0 8 1zM2 4.2C1.34 4.2.8 3.65.8 3c0-.65.55-1.2 1.2-1.2.65 0 1.2.55 1.2 1.2 0 .65-.55 1.2-1.2 1.2zm3 10c-.66 0-1.2-.55-1.2-1.2 0-.65.55-1.2 1.2-1.2.65 0 1.2.55 1.2 1.2 0 .65-.55 1.2-1.2 1.2zm3-10c-.66 0-1.2-.55-1.2-1.2 0-.65.55-1.2 1.2-1.2.65 0 1.2.55 1.2 1.2 0 .65-.55 1.2-1.2 1.2z"/></svg>
        Fork
      </a>

    <a href="/bokeh/bokeh/network" class="social-count"
       aria-label="1282 users forked this repository">
      1,282
    </a>
  </li>
</ul>

    <h1 class="public ">
  <svg aria-hidden="true" class="octicon octicon-repo" height="16" version="1.1" viewBox="0 0 12 16" width="12"><path fill-rule="evenodd" d="M4 9H3V8h1v1zm0-3H3v1h1V6zm0-2H3v1h1V4zm0-2H3v1h1V2zm8-1v12c0 .55-.45 1-1 1H6v2l-1.5-1.5L3 16v-2H1c-.55 0-1-.45-1-1V1c0-.55.45-1 1-1h10c.55 0 1 .45 1 1zm-1 10H1v2h2v-1h3v1h5v-2zm0-10H2v9h9V1z"/></svg>
  <span class="author" itemprop="author"><a href="/bokeh" class="url fn" rel="author">bokeh</a></span><!--
--><span class="path-divider">/</span><!--
--><strong itemprop="name"><a href="/bokeh/bokeh" data-pjax="#js-repo-pjax-container">bokeh</a></strong>

</h1>

  </div>
  <div class="container">
    
<nav class="reponav js-repo-nav js-sidenav-container-pjax"
     itemscope
     itemtype="http://schema.org/BreadcrumbList"
     role="navigation"
     data-pjax="#js-repo-pjax-container">

  <span itemscope itemtype="http://schema.org/ListItem" itemprop="itemListElement">
    <a href="/bokeh/bokeh/tree/0.12.4" class="js-selected-navigation-item selected reponav-item" data-hotkey="g c" data-selected-links="repo_source repo_downloads repo_commits repo_releases repo_tags repo_branches /bokeh/bokeh/tree/0.12.4" itemprop="url">
      <svg aria-hidden="true" class="octicon octicon-code" height="16" version="1.1" viewBox="0 0 14 16" width="14"><path fill-rule="evenodd" d="M9.5 3L8 4.5 11.5 8 8 11.5 9.5 13 14 8 9.5 3zm-5 0L0 8l4.5 5L6 11.5 2.5 8 6 4.5 4.5 3z"/></svg>
      <span itemprop="name">Code</span>
      <meta itemprop="position" content="1">
</a>  </span>

    <span itemscope itemtype="http://schema.org/ListItem" itemprop="itemListElement">
      <a href="/bokeh/bokeh/issues" class="js-selected-navigation-item reponav-item" data-hotkey="g i" data-selected-links="repo_issues repo_labels repo_milestones /bokeh/bokeh/issues" itemprop="url">
        <svg aria-hidden="true" class="octicon octicon-issue-opened" height="16" version="1.1" viewBox="0 0 14 16" width="14"><path fill-rule="evenodd" d="M7 2.3c3.14 0 5.7 2.56 5.7 5.7s-2.56 5.7-5.7 5.7A5.71 5.71 0 0 1 1.3 8c0-3.14 2.56-5.7 5.7-5.7zM7 1C3.14 1 0 4.14 0 8s3.14 7 7 7 7-3.14 7-7-3.14-7-7-7zm1 3H6v5h2V4zm0 6H6v2h2v-2z"/></svg>
        <span itemprop="name">Issues</span>
        <span class="counter">775</span>
        <meta itemprop="position" content="2">
</a>    </span>

  <span itemscope itemtype="http://schema.org/ListItem" itemprop="itemListElement">
    <a href="/bokeh/bokeh/pulls" class="js-selected-navigation-item reponav-item" data-hotkey="g p" data-selected-links="repo_pulls /bokeh/bokeh/pulls" itemprop="url">
      <svg aria-hidden="true" class="octicon octicon-git-pull-request" height="16" version="1.1" viewBox="0 0 12 16" width="12"><path fill-rule="evenodd" d="M11 11.28V5c-.03-.78-.34-1.47-.94-2.06C9.46 2.35 8.78 2.03 8 2H7V0L4 3l3 3V4h1c.27.02.48.11.69.31.21.2.3.42.31.69v6.28A1.993 1.993 0 0 0 10 15a1.993 1.993 0 0 0 1-3.72zm-1 2.92c-.66 0-1.2-.55-1.2-1.2 0-.65.55-1.2 1.2-1.2.65 0 1.2.55 1.2 1.2 0 .65-.55 1.2-1.2 1.2zM4 3c0-1.11-.89-2-2-2a1.993 1.993 0 0 0-1 3.72v6.56A1.993 1.993 0 0 0 2 15a1.993 1.993 0 0 0 1-3.72V4.72c.59-.34 1-.98 1-1.72zm-.8 10c0 .66-.55 1.2-1.2 1.2-.65 0-1.2-.55-1.2-1.2 0-.65.55-1.2 1.2-1.2.65 0 1.2.55 1.2 1.2zM2 4.2C1.34 4.2.8 3.65.8 3c0-.65.55-1.2 1.2-1.2.65 0 1.2.55 1.2 1.2 0 .65-.55 1.2-1.2 1.2z"/></svg>
      <span itemprop="name">Pull requests</span>
      <span class="counter">19</span>
      <meta itemprop="position" content="3">
</a>  </span>

  <a href="/bokeh/bokeh/projects" class="js-selected-navigation-item reponav-item" data-selected-links="repo_projects new_repo_project repo_project /bokeh/bokeh/projects">
    <svg aria-hidden="true" class="octicon octicon-project" height="16" version="1.1" viewBox="0 0 15 16" width="15"><path fill-rule="evenodd" d="M10 12h3V2h-3v10zm-4-2h3V2H6v8zm-4 4h3V2H2v12zm-1 1h13V1H1v14zM14 0H1a1 1 0 0 0-1 1v14a1 1 0 0 0 1 1h13a1 1 0 0 0 1-1V1a1 1 0 0 0-1-1z"/></svg>
    Projects
    <span class="counter">8</span>
</a>
    <a href="/bokeh/bokeh/wiki" class="js-selected-navigation-item reponav-item" data-hotkey="g w" data-selected-links="repo_wiki /bokeh/bokeh/wiki">
      <svg aria-hidden="true" class="octicon octicon-book" height="16" version="1.1" viewBox="0 0 16 16" width="16"><path fill-rule="evenodd" d="M3 5h4v1H3V5zm0 3h4V7H3v1zm0 2h4V9H3v1zm11-5h-4v1h4V5zm0 2h-4v1h4V7zm0 2h-4v1h4V9zm2-6v9c0 .55-.45 1-1 1H9.5l-1 1-1-1H2c-.55 0-1-.45-1-1V3c0-.55.45-1 1-1h5.5l1 1 1-1H15c.55 0 1 .45 1 1zm-8 .5L7.5 3H2v9h6V3.5zm7-.5H9.5l-.5.5V12h6V3z"/></svg>
      Wiki
</a>

  <a href="/bokeh/bokeh/pulse" class="js-selected-navigation-item reponav-item" data-selected-links="pulse /bokeh/bokeh/pulse">
    <svg aria-hidden="true" class="octicon octicon-pulse" height="16" version="1.1" viewBox="0 0 14 16" width="14"><path fill-rule="evenodd" d="M11.5 8L8.8 5.4 6.6 8.5 5.5 1.6 2.38 8H0v2h3.6l.9-1.8.9 5.4L9 8.5l1.6 1.5H14V8z"/></svg>
    Pulse
</a>
  <a href="/bokeh/bokeh/graphs" class="js-selected-navigation-item reponav-item" data-selected-links="repo_graphs repo_contributors /bokeh/bokeh/graphs">
    <svg aria-hidden="true" class="octicon octicon-graph" height="16" version="1.1" viewBox="0 0 16 16" width="16"><path fill-rule="evenodd" d="M16 14v1H0V0h1v14h15zM5 13H3V8h2v5zm4 0H7V3h2v10zm4 0h-2V6h2v7z"/></svg>
    Graphs
</a>

</nav>

  </div>
</div>

<div class="container new-discussion-timeline experiment-repo-nav">
  <div class="repository-content">

    

<a href="/bokeh/bokeh/blob/760396a6f253dd5f906db457d24bafaa1e3c2540/examples/howto/notebook_comms/Jupyter%20Interactors.ipynb" class="d-none js-permalink-shortcut" data-hotkey="y">Permalink</a>

<!-- blob contrib key: blob_contributors:v21:02c54c2a829c1514930c1ef033dc02bd -->

<div class="file-navigation js-zeroclipboard-container">
  
<div class="select-menu branch-select-menu js-menu-container js-select-menu float-left">
  <button class="btn btn-sm select-menu-button js-menu-target css-truncate" data-hotkey="w"
    
    type="button" aria-label="Switch branches or tags" tabindex="0" aria-haspopup="true">
    <i>Tag:</i>
    <span class="js-select-button css-truncate-target">0.12.4</span>
  </button>

  <div class="select-menu-modal-holder js-menu-content js-navigation-container" data-pjax aria-hidden="true">

    <div class="select-menu-modal">
      <div class="select-menu-header">
        <svg aria-label="Close" class="octicon octicon-x js-menu-close" height="16" role="img" version="1.1" viewBox="0 0 12 16" width="12"><path fill-rule="evenodd" d="M7.48 8l3.75 3.75-1.48 1.48L6 9.48l-3.75 3.75-1.48-1.48L4.52 8 .77 4.25l1.48-1.48L6 6.52l3.75-3.75 1.48 1.48z"/></svg>
        <span class="select-menu-title">Switch branches/tags</span>
      </div>

      <div class="select-menu-filters">
        <div class="select-menu-text-filter">
          <input type="text" aria-label="Filter branches/tags" id="context-commitish-filter-field" class="form-control js-filterable-field js-navigation-enable" placeholder="Filter branches/tags">
        </div>
        <div class="select-menu-tabs">
          <ul>
            <li class="select-menu-tab">
              <a href="#" data-tab-filter="branches" data-filter-placeholder="Filter branches/tags" class="js-select-menu-tab" role="tab">Branches</a>
            </li>
            <li class="select-menu-tab">
              <a href="#" data-tab-filter="tags" data-filter-placeholder="Find a tag…" class="js-select-menu-tab" role="tab">Tags</a>
            </li>
          </ul>
        </div>
      </div>

      <div class="select-menu-list select-menu-tab-bucket js-select-menu-tab-bucket" data-tab-filter="branches" role="menu">

        <div data-filterable-for="context-commitish-filter-field" data-filterable-type="substring">


            <a class="select-menu-item js-navigation-item js-navigation-open "
               href="/bokeh/bokeh/blob/916_add_zoom_buttons/examples/howto/notebook_comms/Jupyter%20Interactors.ipynb"
               data-name="916_add_zoom_buttons"
               data-skip-pjax="true"
               rel="nofollow">
              <svg aria-hidden="true" class="octicon octicon-check select-menu-item-icon" height="16" version="1.1" viewBox="0 0 12 16" width="12"><path fill-rule="evenodd" d="M12 5l-8 8-4-4 1.5-1.5L4 10l6.5-6.5z"/></svg>
              <span class="select-menu-item-text css-truncate-target js-select-menu-filter-text">
                916_add_zoom_buttons
              </span>
            </a>
            <a class="select-menu-item js-navigation-item js-navigation-open "
               href="/bokeh/bokeh/blob/almarklein/arraybuffers/examples/howto/notebook_comms/Jupyter%20Interactors.ipynb"
               data-name="almarklein/arraybuffers"
               data-skip-pjax="true"
               rel="nofollow">
              <svg aria-hidden="true" class="octicon octicon-check select-menu-item-icon" height="16" version="1.1" viewBox="0 0 12 16" width="12"><path fill-rule="evenodd" d="M12 5l-8 8-4-4 1.5-1.5L4 10l6.5-6.5z"/></svg>
              <span class="select-menu-item-text css-truncate-target js-select-menu-filter-text">
                almarklein/arraybuffers
              </span>
            </a>
            <a class="select-menu-item js-navigation-item js-navigation-open "
               href="/bokeh/bokeh/blob/almarklein/webgl-refactor/examples/howto/notebook_comms/Jupyter%20Interactors.ipynb"
               data-name="almarklein/webgl-refactor"
               data-skip-pjax="true"
               rel="nofollow">
              <svg aria-hidden="true" class="octicon octicon-check select-menu-item-icon" height="16" version="1.1" viewBox="0 0 12 16" width="12"><path fill-rule="evenodd" d="M12 5l-8 8-4-4 1.5-1.5L4 10l6.5-6.5z"/></svg>
              <span class="select-menu-item-text css-truncate-target js-select-menu-filter-text">
                almarklein/webgl-refactor
              </span>
            </a>
            <a class="select-menu-item js-navigation-item js-navigation-open "
               href="/bokeh/bokeh/blob/async-load-fix/examples/howto/notebook_comms/Jupyter%20Interactors.ipynb"
               data-name="async-load-fix"
               data-skip-pjax="true"
               rel="nofollow">
              <svg aria-hidden="true" class="octicon octicon-check select-menu-item-icon" height="16" version="1.1" viewBox="0 0 12 16" width="12"><path fill-rule="evenodd" d="M12 5l-8 8-4-4 1.5-1.5L4 10l6.5-6.5z"/></svg>
              <span class="select-menu-item-text css-truncate-target js-select-menu-filter-text">
                async-load-fix
              </span>
            </a>
            <a class="select-menu-item js-navigation-item js-navigation-open "
               href="/bokeh/bokeh/blob/bhard/function_signatures/examples/howto/notebook_comms/Jupyter%20Interactors.ipynb"
               data-name="bhard/function_signatures"
               data-skip-pjax="true"
               rel="nofollow">
              <svg aria-hidden="true" class="octicon octicon-check select-menu-item-icon" height="16" version="1.1" viewBox="0 0 12 16" width="12"><path fill-rule="evenodd" d="M12 5l-8 8-4-4 1.5-1.5L4 10l6.5-6.5z"/></svg>
              <span class="select-menu-item-text css-truncate-target js-select-menu-filter-text">
                bhard/function_signatures
              </span>
            </a>
            <a class="select-menu-item js-navigation-item js-navigation-open "
               href="/bokeh/bokeh/blob/birdsarah/color_mapper_with_color_bar/examples/howto/notebook_comms/Jupyter%20Interactors.ipynb"
               data-name="birdsarah/color_mapper_with_color_bar"
               data-skip-pjax="true"
               rel="nofollow">
              <svg aria-hidden="true" class="octicon octicon-check select-menu-item-icon" height="16" version="1.1" viewBox="0 0 12 16" width="12"><path fill-rule="evenodd" d="M12 5l-8 8-4-4 1.5-1.5L4 10l6.5-6.5z"/></svg>
              <span class="select-menu-item-text css-truncate-target js-select-menu-filter-text">
                birdsarah/color_mapper_with_color_bar
              </span>
            </a>
            <a class="select-menu-item js-navigation-item js-navigation-open "
               href="/bokeh/bokeh/blob/birdsarah/custom_line_legend/examples/howto/notebook_comms/Jupyter%20Interactors.ipynb"
               data-name="birdsarah/custom_line_legend"
               data-skip-pjax="true"
               rel="nofollow">
              <svg aria-hidden="true" class="octicon octicon-check select-menu-item-icon" height="16" version="1.1" viewBox="0 0 12 16" width="12"><path fill-rule="evenodd" d="M12 5l-8 8-4-4 1.5-1.5L4 10l6.5-6.5z"/></svg>
              <span class="select-menu-item-text css-truncate-target js-select-menu-filter-text">
                birdsarah/custom_line_legend
              </span>
            </a>
            <a class="select-menu-item js-navigation-item js-navigation-open "
               href="/bokeh/bokeh/blob/birdsarah/fix_grid_modes_after_bad_defaults_commit/examples/howto/notebook_comms/Jupyter%20Interactors.ipynb"
               data-name="birdsarah/fix_grid_modes_after_bad_defaults_commit"
               data-skip-pjax="true"
               rel="nofollow">
              <svg aria-hidden="true" class="octicon octicon-check select-menu-item-icon" height="16" version="1.1" viewBox="0 0 12 16" width="12"><path fill-rule="evenodd" d="M12 5l-8 8-4-4 1.5-1.5L4 10l6.5-6.5z"/></svg>
              <span class="select-menu-item-text css-truncate-target js-select-menu-filter-text">
                birdsarah/fix_grid_modes_after_bad_defaults_commit
              </span>
            </a>
            <a class="select-menu-item js-navigation-item js-navigation-open "
               href="/bokeh/bokeh/blob/birdsarah/hotfix_print_out_examples_log_on_fail/examples/howto/notebook_comms/Jupyter%20Interactors.ipynb"
               data-name="birdsarah/hotfix_print_out_examples_log_on_fail"
               data-skip-pjax="true"
               rel="nofollow">
              <svg aria-hidden="true" class="octicon octicon-check select-menu-item-icon" height="16" version="1.1" viewBox="0 0 12 16" width="12"><path fill-rule="evenodd" d="M12 5l-8 8-4-4 1.5-1.5L4 10l6.5-6.5z"/></svg>
              <span class="select-menu-item-text css-truncate-target js-select-menu-filter-text">
                birdsarah/hotfix_print_out_examples_log_on_fail
              </span>
            </a>
            <a class="select-menu-item js-navigation-item js-navigation-open "
               href="/bokeh/bokeh/blob/birdsarah/hotfix_print_out_examples_log_on_fail_2/examples/howto/notebook_comms/Jupyter%20Interactors.ipynb"
               data-name="birdsarah/hotfix_print_out_examples_log_on_fail_2"
               data-skip-pjax="true"
               rel="nofollow">
              <svg aria-hidden="true" class="octicon octicon-check select-menu-item-icon" height="16" version="1.1" viewBox="0 0 12 16" width="12"><path fill-rule="evenodd" d="M12 5l-8 8-4-4 1.5-1.5L4 10l6.5-6.5z"/></svg>
              <span class="select-menu-item-text css-truncate-target js-select-menu-filter-text">
                birdsarah/hotfix_print_out_examples_log_on_fail_2
              </span>
            </a>
            <a class="select-menu-item js-navigation-item js-navigation-open "
               href="/bokeh/bokeh/blob/birdsarah/new_layout_with_responsive_plot/examples/howto/notebook_comms/Jupyter%20Interactors.ipynb"
               data-name="birdsarah/new_layout_with_responsive_plot"
               data-skip-pjax="true"
               rel="nofollow">
              <svg aria-hidden="true" class="octicon octicon-check select-menu-item-icon" height="16" version="1.1" viewBox="0 0 12 16" width="12"><path fill-rule="evenodd" d="M12 5l-8 8-4-4 1.5-1.5L4 10l6.5-6.5z"/></svg>
              <span class="select-menu-item-text css-truncate-target js-select-menu-filter-text">
                birdsarah/new_layout_with_responsive_plot
              </span>
            </a>
            <a class="select-menu-item js-navigation-item js-navigation-open "
               href="/bokeh/bokeh/blob/birdsarah/patches_with_holes/examples/howto/notebook_comms/Jupyter%20Interactors.ipynb"
               data-name="birdsarah/patches_with_holes"
               data-skip-pjax="true"
               rel="nofollow">
              <svg aria-hidden="true" class="octicon octicon-check select-menu-item-icon" height="16" version="1.1" viewBox="0 0 12 16" width="12"><path fill-rule="evenodd" d="M12 5l-8 8-4-4 1.5-1.5L4 10l6.5-6.5z"/></svg>
              <span class="select-menu-item-text css-truncate-target js-select-menu-filter-text">
                birdsarah/patches_with_holes
              </span>
            </a>
            <a class="select-menu-item js-navigation-item js-navigation-open "
               href="/bokeh/bokeh/blob/birdsarah/scratch_data_legend/examples/howto/notebook_comms/Jupyter%20Interactors.ipynb"
               data-name="birdsarah/scratch_data_legend"
               data-skip-pjax="true"
               rel="nofollow">
              <svg aria-hidden="true" class="octicon octicon-check select-menu-item-icon" height="16" version="1.1" viewBox="0 0 12 16" width="12"><path fill-rule="evenodd" d="M12 5l-8 8-4-4 1.5-1.5L4 10l6.5-6.5z"/></svg>
              <span class="select-menu-item-text css-truncate-target js-select-menu-filter-text">
                birdsarah/scratch_data_legend
              </span>
            </a>
            <a class="select-menu-item js-navigation-item js-navigation-open "
               href="/bokeh/bokeh/blob/birdsarah/svg_generation/examples/howto/notebook_comms/Jupyter%20Interactors.ipynb"
               data-name="birdsarah/svg_generation"
               data-skip-pjax="true"
               rel="nofollow">
              <svg aria-hidden="true" class="octicon octicon-check select-menu-item-icon" height="16" version="1.1" viewBox="0 0 12 16" width="12"><path fill-rule="evenodd" d="M12 5l-8 8-4-4 1.5-1.5L4 10l6.5-6.5z"/></svg>
              <span class="select-menu-item-text css-truncate-target js-select-menu-filter-text">
                birdsarah/svg_generation
              </span>
            </a>
            <a class="select-menu-item js-navigation-item js-navigation-open "
               href="/bokeh/bokeh/blob/birdsarah/wh_branch/examples/howto/notebook_comms/Jupyter%20Interactors.ipynb"
               data-name="birdsarah/wh_branch"
               data-skip-pjax="true"
               rel="nofollow">
              <svg aria-hidden="true" class="octicon octicon-check select-menu-item-icon" height="16" version="1.1" viewBox="0 0 12 16" width="12"><path fill-rule="evenodd" d="M12 5l-8 8-4-4 1.5-1.5L4 10l6.5-6.5z"/></svg>
              <span class="select-menu-item-text css-truncate-target js-select-menu-filter-text">
                birdsarah/wh_branch
              </span>
            </a>
            <a class="select-menu-item js-navigation-item js-navigation-open "
               href="/bokeh/bokeh/blob/birdsarah/4395_notebook_performance_one_solver_per_root/examples/howto/notebook_comms/Jupyter%20Interactors.ipynb"
               data-name="birdsarah/4395_notebook_performance_one_solver_per_root"
               data-skip-pjax="true"
               rel="nofollow">
              <svg aria-hidden="true" class="octicon octicon-check select-menu-item-icon" height="16" version="1.1" viewBox="0 0 12 16" width="12"><path fill-rule="evenodd" d="M12 5l-8 8-4-4 1.5-1.5L4 10l6.5-6.5z"/></svg>
              <span class="select-menu-item-text css-truncate-target js-select-menu-filter-text">
                birdsarah/4395_notebook_performance_one_solver_per_root
              </span>
            </a>
            <a class="select-menu-item js-navigation-item js-navigation-open "
               href="/bokeh/bokeh/blob/birdsarah/4395_notebook_performance/examples/howto/notebook_comms/Jupyter%20Interactors.ipynb"
               data-name="birdsarah/4395_notebook_performance"
               data-skip-pjax="true"
               rel="nofollow">
              <svg aria-hidden="true" class="octicon octicon-check select-menu-item-icon" height="16" version="1.1" viewBox="0 0 12 16" width="12"><path fill-rule="evenodd" d="M12 5l-8 8-4-4 1.5-1.5L4 10l6.5-6.5z"/></svg>
              <span class="select-menu-item-text css-truncate-target js-select-menu-filter-text">
                birdsarah/4395_notebook_performance
              </span>
            </a>
            <a class="select-menu-item js-navigation-item js-navigation-open "
               href="/bokeh/bokeh/blob/birdsarah/4578_bad_above_toolbar/examples/howto/notebook_comms/Jupyter%20Interactors.ipynb"
               data-name="birdsarah/4578_bad_above_toolbar"
               data-skip-pjax="true"
               rel="nofollow">
              <svg aria-hidden="true" class="octicon octicon-check select-menu-item-icon" height="16" version="1.1" viewBox="0 0 12 16" width="12"><path fill-rule="evenodd" d="M12 5l-8 8-4-4 1.5-1.5L4 10l6.5-6.5z"/></svg>
              <span class="select-menu-item-text css-truncate-target js-select-menu-filter-text">
                birdsarah/4578_bad_above_toolbar
              </span>
            </a>
            <a class="select-menu-item js-navigation-item js-navigation-open "
               href="/bokeh/bokeh/blob/birdsarah/4652_fix_dialog_box/examples/howto/notebook_comms/Jupyter%20Interactors.ipynb"
               data-name="birdsarah/4652_fix_dialog_box"
               data-skip-pjax="true"
               rel="nofollow">
              <svg aria-hidden="true" class="octicon octicon-check select-menu-item-icon" height="16" version="1.1" viewBox="0 0 12 16" width="12"><path fill-rule="evenodd" d="M12 5l-8 8-4-4 1.5-1.5L4 10l6.5-6.5z"/></svg>
              <span class="select-menu-item-text css-truncate-target js-select-menu-filter-text">
                birdsarah/4652_fix_dialog_box
              </span>
            </a>
            <a class="select-menu-item js-navigation-item js-navigation-open "
               href="/bokeh/bokeh/blob/birdsarah/4981_color_mapper_data_transform_2/examples/howto/notebook_comms/Jupyter%20Interactors.ipynb"
               data-name="birdsarah/4981_color_mapper_data_transform_2"
               data-skip-pjax="true"
               rel="nofollow">
              <svg aria-hidden="true" class="octicon octicon-check select-menu-item-icon" height="16" version="1.1" viewBox="0 0 12 16" width="12"><path fill-rule="evenodd" d="M12 5l-8 8-4-4 1.5-1.5L4 10l6.5-6.5z"/></svg>
              <span class="select-menu-item-text css-truncate-target js-select-menu-filter-text">
                birdsarah/4981_color_mapper_data_transform_2
              </span>
            </a>
            <a class="select-menu-item js-navigation-item js-navigation-open "
               href="/bokeh/bokeh/blob/birdsarah/5021_switch_resource_order/examples/howto/notebook_comms/Jupyter%20Interactors.ipynb"
               data-name="birdsarah/5021_switch_resource_order"
               data-skip-pjax="true"
               rel="nofollow">
              <svg aria-hidden="true" class="octicon octicon-check select-menu-item-icon" height="16" version="1.1" viewBox="0 0 12 16" width="12"><path fill-rule="evenodd" d="M12 5l-8 8-4-4 1.5-1.5L4 10l6.5-6.5z"/></svg>
              <span class="select-menu-item-text css-truncate-target js-select-menu-filter-text">
                birdsarah/5021_switch_resource_order
              </span>
            </a>
            <a class="select-menu-item js-navigation-item js-navigation-open "
               href="/bokeh/bokeh/blob/birdsarah/5090_and_5089/examples/howto/notebook_comms/Jupyter%20Interactors.ipynb"
               data-name="birdsarah/5090_and_5089"
               data-skip-pjax="true"
               rel="nofollow">
              <svg aria-hidden="true" class="octicon octicon-check select-menu-item-icon" height="16" version="1.1" viewBox="0 0 12 16" width="12"><path fill-rule="evenodd" d="M12 5l-8 8-4-4 1.5-1.5L4 10l6.5-6.5z"/></svg>
              <span class="select-menu-item-text css-truncate-target js-select-menu-filter-text">
                birdsarah/5090_and_5089
              </span>
            </a>
            <a class="select-menu-item js-navigation-item js-navigation-open "
               href="/bokeh/bokeh/blob/birdsarah/5202_legend_merging_broken/examples/howto/notebook_comms/Jupyter%20Interactors.ipynb"
               data-name="birdsarah/5202_legend_merging_broken"
               data-skip-pjax="true"
               rel="nofollow">
              <svg aria-hidden="true" class="octicon octicon-check select-menu-item-icon" height="16" version="1.1" viewBox="0 0 12 16" width="12"><path fill-rule="evenodd" d="M12 5l-8 8-4-4 1.5-1.5L4 10l6.5-6.5z"/></svg>
              <span class="select-menu-item-text css-truncate-target js-select-menu-filter-text">
                birdsarah/5202_legend_merging_broken
              </span>
            </a>
            <a class="select-menu-item js-navigation-item js-navigation-open "
               href="/bokeh/bokeh/blob/bound-methods-fix/examples/howto/notebook_comms/Jupyter%20Interactors.ipynb"
               data-name="bound-methods-fix"
               data-skip-pjax="true"
               rel="nofollow">
              <svg aria-hidden="true" class="octicon octicon-check select-menu-item-icon" height="16" version="1.1" viewBox="0 0 12 16" width="12"><path fill-rule="evenodd" d="M12 5l-8 8-4-4 1.5-1.5L4 10l6.5-6.5z"/></svg>
              <span class="select-menu-item-text css-truncate-target js-select-menu-filter-text">
                bound-methods-fix
              </span>
            </a>
            <a class="select-menu-item js-navigation-item js-navigation-open "
               href="/bokeh/bokeh/blob/bryanv/fix_curl_upload/examples/howto/notebook_comms/Jupyter%20Interactors.ipynb"
               data-name="bryanv/fix_curl_upload"
               data-skip-pjax="true"
               rel="nofollow">
              <svg aria-hidden="true" class="octicon octicon-check select-menu-item-icon" height="16" version="1.1" viewBox="0 0 12 16" width="12"><path fill-rule="evenodd" d="M12 5l-8 8-4-4 1.5-1.5L4 10l6.5-6.5z"/></svg>
              <span class="select-menu-item-text css-truncate-target js-select-menu-filter-text">
                bryanv/fix_curl_upload
              </span>
            </a>
            <a class="select-menu-item js-navigation-item js-navigation-open "
               href="/bokeh/bokeh/blob/bryanv/improve_array_serialization/examples/howto/notebook_comms/Jupyter%20Interactors.ipynb"
               data-name="bryanv/improve_array_serialization"
               data-skip-pjax="true"
               rel="nofollow">
              <svg aria-hidden="true" class="octicon octicon-check select-menu-item-icon" height="16" version="1.1" viewBox="0 0 12 16" width="12"><path fill-rule="evenodd" d="M12 5l-8 8-4-4 1.5-1.5L4 10l6.5-6.5z"/></svg>
              <span class="select-menu-item-text css-truncate-target js-select-menu-filter-text">
                bryanv/improve_array_serialization
              </span>
            </a>
            <a class="select-menu-item js-navigation-item js-navigation-open "
               href="/bokeh/bokeh/blob/bryanv/2269_date_slider/examples/howto/notebook_comms/Jupyter%20Interactors.ipynb"
               data-name="bryanv/2269_date_slider"
               data-skip-pjax="true"
               rel="nofollow">
              <svg aria-hidden="true" class="octicon octicon-check select-menu-item-icon" height="16" version="1.1" viewBox="0 0 12 16" width="12"><path fill-rule="evenodd" d="M12 5l-8 8-4-4 1.5-1.5L4 10l6.5-6.5z"/></svg>
              <span class="select-menu-item-text css-truncate-target js-select-menu-filter-text">
                bryanv/2269_date_slider
              </span>
            </a>
            <a class="select-menu-item js-navigation-item js-navigation-open "
               href="/bokeh/bokeh/blob/bryanv/5372__devmode_stub/examples/howto/notebook_comms/Jupyter%20Interactors.ipynb"
               data-name="bryanv/5372__devmode_stub"
               data-skip-pjax="true"
               rel="nofollow">
              <svg aria-hidden="true" class="octicon octicon-check select-menu-item-icon" height="16" version="1.1" viewBox="0 0 12 16" width="12"><path fill-rule="evenodd" d="M12 5l-8 8-4-4 1.5-1.5L4 10l6.5-6.5z"/></svg>
              <span class="select-menu-item-text css-truncate-target js-select-menu-filter-text">
                bryanv/5372__devmode_stub
              </span>
            </a>
            <a class="select-menu-item js-navigation-item js-navigation-open "
               href="/bokeh/bokeh/blob/bryanv/5692_relative_urls/examples/howto/notebook_comms/Jupyter%20Interactors.ipynb"
               data-name="bryanv/5692_relative_urls"
               data-skip-pjax="true"
               rel="nofollow">
              <svg aria-hidden="true" class="octicon octicon-check select-menu-item-icon" height="16" version="1.1" viewBox="0 0 12 16" width="12"><path fill-rule="evenodd" d="M12 5l-8 8-4-4 1.5-1.5L4 10l6.5-6.5z"/></svg>
              <span class="select-menu-item-text css-truncate-target js-select-menu-filter-text">
                bryanv/5692_relative_urls
              </span>
            </a>
            <a class="select-menu-item js-navigation-item js-navigation-open "
               href="/bokeh/bokeh/blob/bug/1135_datetime_axis_timezone_handling/examples/howto/notebook_comms/Jupyter%20Interactors.ipynb"
               data-name="bug/1135_datetime_axis_timezone_handling"
               data-skip-pjax="true"
               rel="nofollow">
              <svg aria-hidden="true" class="octicon octicon-check select-menu-item-icon" height="16" version="1.1" viewBox="0 0 12 16" width="12"><path fill-rule="evenodd" d="M12 5l-8 8-4-4 1.5-1.5L4 10l6.5-6.5z"/></svg>
              <span class="select-menu-item-text css-truncate-target js-select-menu-filter-text">
                bug/1135_datetime_axis_timezone_handling
              </span>
            </a>
            <a class="select-menu-item js-navigation-item js-navigation-open "
               href="/bokeh/bokeh/blob/canavandl/color_bar_tool/examples/howto/notebook_comms/Jupyter%20Interactors.ipynb"
               data-name="canavandl/color_bar_tool"
               data-skip-pjax="true"
               rel="nofollow">
              <svg aria-hidden="true" class="octicon octicon-check select-menu-item-icon" height="16" version="1.1" viewBox="0 0 12 16" width="12"><path fill-rule="evenodd" d="M12 5l-8 8-4-4 1.5-1.5L4 10l6.5-6.5z"/></svg>
              <span class="select-menu-item-text css-truncate-target js-select-menu-filter-text">
                canavandl/color_bar_tool
              </span>
            </a>
            <a class="select-menu-item js-navigation-item js-navigation-open "
               href="/bokeh/bokeh/blob/canavandl/2136_branch_remove_selection_manager/examples/howto/notebook_comms/Jupyter%20Interactors.ipynb"
               data-name="canavandl/2136_branch_remove_selection_manager"
               data-skip-pjax="true"
               rel="nofollow">
              <svg aria-hidden="true" class="octicon octicon-check select-menu-item-icon" height="16" version="1.1" viewBox="0 0 12 16" width="12"><path fill-rule="evenodd" d="M12 5l-8 8-4-4 1.5-1.5L4 10l6.5-6.5z"/></svg>
              <span class="select-menu-item-text css-truncate-target js-select-menu-filter-text">
                canavandl/2136_branch_remove_selection_manager
              </span>
            </a>
            <a class="select-menu-item js-navigation-item js-navigation-open "
               href="/bokeh/bokeh/blob/canvas2svg/examples/howto/notebook_comms/Jupyter%20Interactors.ipynb"
               data-name="canvas2svg"
               data-skip-pjax="true"
               rel="nofollow">
              <svg aria-hidden="true" class="octicon octicon-check select-menu-item-icon" height="16" version="1.1" viewBox="0 0 12 16" width="12"><path fill-rule="evenodd" d="M12 5l-8 8-4-4 1.5-1.5L4 10l6.5-6.5z"/></svg>
              <span class="select-menu-item-text css-truncate-target js-select-menu-filter-text">
                canvas2svg
              </span>
            </a>
            <a class="select-menu-item js-navigation-item js-navigation-open "
               href="/bokeh/bokeh/blob/clairetang6/4070_table_data_source/examples/howto/notebook_comms/Jupyter%20Interactors.ipynb"
               data-name="clairetang6/4070_table_data_source"
               data-skip-pjax="true"
               rel="nofollow">
              <svg aria-hidden="true" class="octicon octicon-check select-menu-item-icon" height="16" version="1.1" viewBox="0 0 12 16" width="12"><path fill-rule="evenodd" d="M12 5l-8 8-4-4 1.5-1.5L4 10l6.5-6.5z"/></svg>
              <span class="select-menu-item-text css-truncate-target js-select-menu-filter-text">
                clairetang6/4070_table_data_source
              </span>
            </a>
            <a class="select-menu-item js-navigation-item js-navigation-open "
               href="/bokeh/bokeh/blob/clairetang6/5336_log_rect_bug/examples/howto/notebook_comms/Jupyter%20Interactors.ipynb"
               data-name="clairetang6/5336_log_rect_bug"
               data-skip-pjax="true"
               rel="nofollow">
              <svg aria-hidden="true" class="octicon octicon-check select-menu-item-icon" height="16" version="1.1" viewBox="0 0 12 16" width="12"><path fill-rule="evenodd" d="M12 5l-8 8-4-4 1.5-1.5L4 10l6.5-6.5z"/></svg>
              <span class="select-menu-item-text css-truncate-target js-select-menu-filter-text">
                clairetang6/5336_log_rect_bug
              </span>
            </a>
            <a class="select-menu-item js-navigation-item js-navigation-open "
               href="/bokeh/bokeh/blob/country-phenotyping/examples/howto/notebook_comms/Jupyter%20Interactors.ipynb"
               data-name="country-phenotyping"
               data-skip-pjax="true"
               rel="nofollow">
              <svg aria-hidden="true" class="octicon octicon-check select-menu-item-icon" height="16" version="1.1" viewBox="0 0 12 16" width="12"><path fill-rule="evenodd" d="M12 5l-8 8-4-4 1.5-1.5L4 10l6.5-6.5z"/></svg>
              <span class="select-menu-item-text css-truncate-target js-select-menu-filter-text">
                country-phenotyping
              </span>
            </a>
            <a class="select-menu-item js-navigation-item js-navigation-open "
               href="/bokeh/bokeh/blob/examples_runner/examples/howto/notebook_comms/Jupyter%20Interactors.ipynb"
               data-name="examples_runner"
               data-skip-pjax="true"
               rel="nofollow">
              <svg aria-hidden="true" class="octicon octicon-check select-menu-item-icon" height="16" version="1.1" viewBox="0 0 12 16" width="12"><path fill-rule="evenodd" d="M12 5l-8 8-4-4 1.5-1.5L4 10l6.5-6.5z"/></svg>
              <span class="select-menu-item-text css-truncate-target js-select-menu-filter-text">
                examples_runner
              </span>
            </a>
            <a class="select-menu-item js-navigation-item js-navigation-open "
               href="/bokeh/bokeh/blob/feature/charts_data_adapter/examples/howto/notebook_comms/Jupyter%20Interactors.ipynb"
               data-name="feature/charts_data_adapter"
               data-skip-pjax="true"
               rel="nofollow">
              <svg aria-hidden="true" class="octicon octicon-check select-menu-item-icon" height="16" version="1.1" viewBox="0 0 12 16" width="12"><path fill-rule="evenodd" d="M12 5l-8 8-4-4 1.5-1.5L4 10l6.5-6.5z"/></svg>
              <span class="select-menu-item-text css-truncate-target js-select-menu-filter-text">
                feature/charts_data_adapter
              </span>
            </a>
            <a class="select-menu-item js-navigation-item js-navigation-open "
               href="/bokeh/bokeh/blob/feature/dynamic-image-wrap-around/examples/howto/notebook_comms/Jupyter%20Interactors.ipynb"
               data-name="feature/dynamic-image-wrap-around"
               data-skip-pjax="true"
               rel="nofollow">
              <svg aria-hidden="true" class="octicon octicon-check select-menu-item-icon" height="16" version="1.1" viewBox="0 0 12 16" width="12"><path fill-rule="evenodd" d="M12 5l-8 8-4-4 1.5-1.5L4 10l6.5-6.5z"/></svg>
              <span class="select-menu-item-text css-truncate-target js-select-menu-filter-text">
                feature/dynamic-image-wrap-around
              </span>
            </a>
            <a class="select-menu-item js-navigation-item js-navigation-open "
               href="/bokeh/bokeh/blob/feature/geojson_renderer_1/examples/howto/notebook_comms/Jupyter%20Interactors.ipynb"
               data-name="feature/geojson_renderer_1"
               data-skip-pjax="true"
               rel="nofollow">
              <svg aria-hidden="true" class="octicon octicon-check select-menu-item-icon" height="16" version="1.1" viewBox="0 0 12 16" width="12"><path fill-rule="evenodd" d="M12 5l-8 8-4-4 1.5-1.5L4 10l6.5-6.5z"/></svg>
              <span class="select-menu-item-text css-truncate-target js-select-menu-filter-text">
                feature/geojson_renderer_1
              </span>
            </a>
            <a class="select-menu-item js-navigation-item js-navigation-open "
               href="/bokeh/bokeh/blob/feature/geojson_renderer_2/examples/howto/notebook_comms/Jupyter%20Interactors.ipynb"
               data-name="feature/geojson_renderer_2"
               data-skip-pjax="true"
               rel="nofollow">
              <svg aria-hidden="true" class="octicon octicon-check select-menu-item-icon" height="16" version="1.1" viewBox="0 0 12 16" width="12"><path fill-rule="evenodd" d="M12 5l-8 8-4-4 1.5-1.5L4 10l6.5-6.5z"/></svg>
              <span class="select-menu-item-text css-truncate-target js-select-menu-filter-text">
                feature/geojson_renderer_2
              </span>
            </a>
            <a class="select-menu-item js-navigation-item js-navigation-open "
               href="/bokeh/bokeh/blob/feature_2321_patches_with_hole/examples/howto/notebook_comms/Jupyter%20Interactors.ipynb"
               data-name="feature_2321_patches_with_hole"
               data-skip-pjax="true"
               rel="nofollow">
              <svg aria-hidden="true" class="octicon octicon-check select-menu-item-icon" height="16" version="1.1" viewBox="0 0 12 16" width="12"><path fill-rule="evenodd" d="M12 5l-8 8-4-4 1.5-1.5L4 10l6.5-6.5z"/></svg>
              <span class="select-menu-item-text css-truncate-target js-select-menu-filter-text">
                feature_2321_patches_with_hole
              </span>
            </a>
            <a class="select-menu-item js-navigation-item js-navigation-open "
               href="/bokeh/bokeh/blob/havocp/develop_mode_server_changes/examples/howto/notebook_comms/Jupyter%20Interactors.ipynb"
               data-name="havocp/develop_mode_server_changes"
               data-skip-pjax="true"
               rel="nofollow">
              <svg aria-hidden="true" class="octicon octicon-check select-menu-item-icon" height="16" version="1.1" viewBox="0 0 12 16" width="12"><path fill-rule="evenodd" d="M12 5l-8 8-4-4 1.5-1.5L4 10l6.5-6.5z"/></svg>
              <span class="select-menu-item-text css-truncate-target js-select-menu-filter-text">
                havocp/develop_mode_server_changes
              </span>
            </a>
            <a class="select-menu-item js-navigation-item js-navigation-open "
               href="/bokeh/bokeh/blob/havocp/develop_mode/examples/howto/notebook_comms/Jupyter%20Interactors.ipynb"
               data-name="havocp/develop_mode"
               data-skip-pjax="true"
               rel="nofollow">
              <svg aria-hidden="true" class="octicon octicon-check select-menu-item-icon" height="16" version="1.1" viewBox="0 0 12 16" width="12"><path fill-rule="evenodd" d="M12 5l-8 8-4-4 1.5-1.5L4 10l6.5-6.5z"/></svg>
              <span class="select-menu-item-text css-truncate-target js-select-menu-filter-text">
                havocp/develop_mode
              </span>
            </a>
            <a class="select-menu-item js-navigation-item js-navigation-open "
               href="/bokeh/bokeh/blob/havocp/develop_mode_2/examples/howto/notebook_comms/Jupyter%20Interactors.ipynb"
               data-name="havocp/develop_mode_2"
               data-skip-pjax="true"
               rel="nofollow">
              <svg aria-hidden="true" class="octicon octicon-check select-menu-item-icon" height="16" version="1.1" viewBox="0 0 12 16" width="12"><path fill-rule="evenodd" d="M12 5l-8 8-4-4 1.5-1.5L4 10l6.5-6.5z"/></svg>
              <span class="select-menu-item-text css-truncate-target js-select-menu-filter-text">
                havocp/develop_mode_2
              </span>
            </a>
            <a class="select-menu-item js-navigation-item js-navigation-open "
               href="/bokeh/bokeh/blob/havocp/develop_shell/examples/howto/notebook_comms/Jupyter%20Interactors.ipynb"
               data-name="havocp/develop_shell"
               data-skip-pjax="true"
               rel="nofollow">
              <svg aria-hidden="true" class="octicon octicon-check select-menu-item-icon" height="16" version="1.1" viewBox="0 0 12 16" width="12"><path fill-rule="evenodd" d="M12 5l-8 8-4-4 1.5-1.5L4 10l6.5-6.5z"/></svg>
              <span class="select-menu-item-text css-truncate-target js-select-menu-filter-text">
                havocp/develop_shell
              </span>
            </a>
            <a class="select-menu-item js-navigation-item js-navigation-open "
               href="/bokeh/bokeh/blob/jlstevens/notebook_server_destroy/examples/howto/notebook_comms/Jupyter%20Interactors.ipynb"
               data-name="jlstevens/notebook_server_destroy"
               data-skip-pjax="true"
               rel="nofollow">
              <svg aria-hidden="true" class="octicon octicon-check select-menu-item-icon" height="16" version="1.1" viewBox="0 0 12 16" width="12"><path fill-rule="evenodd" d="M12 5l-8 8-4-4 1.5-1.5L4 10l6.5-6.5z"/></svg>
              <span class="select-menu-item-text css-truncate-target js-select-menu-filter-text">
                jlstevens/notebook_server_destroy
              </span>
            </a>
            <a class="select-menu-item js-navigation-item js-navigation-open "
               href="/bokeh/bokeh/blob/layout-demo/examples/howto/notebook_comms/Jupyter%20Interactors.ipynb"
               data-name="layout-demo"
               data-skip-pjax="true"
               rel="nofollow">
              <svg aria-hidden="true" class="octicon octicon-check select-menu-item-icon" height="16" version="1.1" viewBox="0 0 12 16" width="12"><path fill-rule="evenodd" d="M12 5l-8 8-4-4 1.5-1.5L4 10l6.5-6.5z"/></svg>
              <span class="select-menu-item-text css-truncate-target js-select-menu-filter-text">
                layout-demo
              </span>
            </a>
            <a class="select-menu-item js-navigation-item js-navigation-open "
               href="/bokeh/bokeh/blob/maggie-m/tools_to_bokeh/examples/howto/notebook_comms/Jupyter%20Interactors.ipynb"
               data-name="maggie-m/tools_to_bokeh"
               data-skip-pjax="true"
               rel="nofollow">
              <svg aria-hidden="true" class="octicon octicon-check select-menu-item-icon" height="16" version="1.1" viewBox="0 0 12 16" width="12"><path fill-rule="evenodd" d="M12 5l-8 8-4-4 1.5-1.5L4 10l6.5-6.5z"/></svg>
              <span class="select-menu-item-text css-truncate-target js-select-menu-filter-text">
                maggie-m/tools_to_bokeh
              </span>
            </a>
            <a class="select-menu-item js-navigation-item js-navigation-open "
               href="/bokeh/bokeh/blob/master/examples/howto/notebook_comms/Jupyter%20Interactors.ipynb"
               data-name="master"
               data-skip-pjax="true"
               rel="nofollow">
              <svg aria-hidden="true" class="octicon octicon-check select-menu-item-icon" height="16" version="1.1" viewBox="0 0 12 16" width="12"><path fill-rule="evenodd" d="M12 5l-8 8-4-4 1.5-1.5L4 10l6.5-6.5z"/></svg>
              <span class="select-menu-item-text css-truncate-target js-select-menu-filter-text">
                master
              </span>
            </a>
            <a class="select-menu-item js-navigation-item js-navigation-open "
               href="/bokeh/bokeh/blob/mattpap/fix_embed_tests/examples/howto/notebook_comms/Jupyter%20Interactors.ipynb"
               data-name="mattpap/fix_embed_tests"
               data-skip-pjax="true"
               rel="nofollow">
              <svg aria-hidden="true" class="octicon octicon-check select-menu-item-icon" height="16" version="1.1" viewBox="0 0 12 16" width="12"><path fill-rule="evenodd" d="M12 5l-8 8-4-4 1.5-1.5L4 10l6.5-6.5z"/></svg>
              <span class="select-menu-item-text css-truncate-target js-select-menu-filter-text">
                mattpap/fix_embed_tests
              </span>
            </a>
            <a class="select-menu-item js-navigation-item js-navigation-open "
               href="/bokeh/bokeh/blob/mattpap/1589_nodejs/examples/howto/notebook_comms/Jupyter%20Interactors.ipynb"
               data-name="mattpap/1589_nodejs"
               data-skip-pjax="true"
               rel="nofollow">
              <svg aria-hidden="true" class="octicon octicon-check select-menu-item-icon" height="16" version="1.1" viewBox="0 0 12 16" width="12"><path fill-rule="evenodd" d="M12 5l-8 8-4-4 1.5-1.5L4 10l6.5-6.5z"/></svg>
              <span class="select-menu-item-text css-truncate-target js-select-menu-filter-text">
                mattpap/1589_nodejs
              </span>
            </a>
            <a class="select-menu-item js-navigation-item js-navigation-open "
               href="/bokeh/bokeh/blob/mattpap/2274_interactive_legends/examples/howto/notebook_comms/Jupyter%20Interactors.ipynb"
               data-name="mattpap/2274_interactive_legends"
               data-skip-pjax="true"
               rel="nofollow">
              <svg aria-hidden="true" class="octicon octicon-check select-menu-item-icon" height="16" version="1.1" viewBox="0 0 12 16" width="12"><path fill-rule="evenodd" d="M12 5l-8 8-4-4 1.5-1.5L4 10l6.5-6.5z"/></svg>
              <span class="select-menu-item-text css-truncate-target js-select-menu-filter-text">
                mattpap/2274_interactive_legends
              </span>
            </a>
            <a class="select-menu-item js-navigation-item js-navigation-open "
               href="/bokeh/bokeh/blob/mattpap/3674_namespaces/examples/howto/notebook_comms/Jupyter%20Interactors.ipynb"
               data-name="mattpap/3674_namespaces"
               data-skip-pjax="true"
               rel="nofollow">
              <svg aria-hidden="true" class="octicon octicon-check select-menu-item-icon" height="16" version="1.1" viewBox="0 0 12 16" width="12"><path fill-rule="evenodd" d="M12 5l-8 8-4-4 1.5-1.5L4 10l6.5-6.5z"/></svg>
              <span class="select-menu-item-text css-truncate-target js-select-menu-filter-text">
                mattpap/3674_namespaces
              </span>
            </a>
            <a class="select-menu-item js-navigation-item js-navigation-open "
               href="/bokeh/bokeh/blob/mattpap/3823_hover_management/examples/howto/notebook_comms/Jupyter%20Interactors.ipynb"
               data-name="mattpap/3823_hover_management"
               data-skip-pjax="true"
               rel="nofollow">
              <svg aria-hidden="true" class="octicon octicon-check select-menu-item-icon" height="16" version="1.1" viewBox="0 0 12 16" width="12"><path fill-rule="evenodd" d="M12 5l-8 8-4-4 1.5-1.5L4 10l6.5-6.5z"/></svg>
              <span class="select-menu-item-text css-truncate-target js-select-menu-filter-text">
                mattpap/3823_hover_management
              </span>
            </a>
            <a class="select-menu-item js-navigation-item js-navigation-open "
               href="/bokeh/bokeh/blob/mattpap/4290_less_toolbar/examples/howto/notebook_comms/Jupyter%20Interactors.ipynb"
               data-name="mattpap/4290_less_toolbar"
               data-skip-pjax="true"
               rel="nofollow">
              <svg aria-hidden="true" class="octicon octicon-check select-menu-item-icon" height="16" version="1.1" viewBox="0 0 12 16" width="12"><path fill-rule="evenodd" d="M12 5l-8 8-4-4 1.5-1.5L4 10l6.5-6.5z"/></svg>
              <span class="select-menu-item-text css-truncate-target js-select-menu-filter-text">
                mattpap/4290_less_toolbar
              </span>
            </a>
            <a class="select-menu-item js-navigation-item js-navigation-open "
               href="/bokeh/bokeh/blob/mattpap/4321_bokeh-gl_bundle/examples/howto/notebook_comms/Jupyter%20Interactors.ipynb"
               data-name="mattpap/4321_bokeh-gl_bundle"
               data-skip-pjax="true"
               rel="nofollow">
              <svg aria-hidden="true" class="octicon octicon-check select-menu-item-icon" height="16" version="1.1" viewBox="0 0 12 16" width="12"><path fill-rule="evenodd" d="M12 5l-8 8-4-4 1.5-1.5L4 10l6.5-6.5z"/></svg>
              <span class="select-menu-item-text css-truncate-target js-select-menu-filter-text">
                mattpap/4321_bokeh-gl_bundle
              </span>
            </a>
            <a class="select-menu-item js-navigation-item js-navigation-open "
               href="/bokeh/bokeh/blob/mattpap/5502_nouislider/examples/howto/notebook_comms/Jupyter%20Interactors.ipynb"
               data-name="mattpap/5502_nouislider"
               data-skip-pjax="true"
               rel="nofollow">
              <svg aria-hidden="true" class="octicon octicon-check select-menu-item-icon" height="16" version="1.1" viewBox="0 0 12 16" width="12"><path fill-rule="evenodd" d="M12 5l-8 8-4-4 1.5-1.5L4 10l6.5-6.5z"/></svg>
              <span class="select-menu-item-text css-truncate-target js-select-menu-filter-text">
                mattpap/5502_nouislider
              </span>
            </a>
            <a class="select-menu-item js-navigation-item js-navigation-open "
               href="/bokeh/bokeh/blob/mattpap/5668_border_box/examples/howto/notebook_comms/Jupyter%20Interactors.ipynb"
               data-name="mattpap/5668_border_box"
               data-skip-pjax="true"
               rel="nofollow">
              <svg aria-hidden="true" class="octicon octicon-check select-menu-item-icon" height="16" version="1.1" viewBox="0 0 12 16" width="12"><path fill-rule="evenodd" d="M12 5l-8 8-4-4 1.5-1.5L4 10l6.5-6.5z"/></svg>
              <span class="select-menu-item-text css-truncate-target js-select-menu-filter-text">
                mattpap/5668_border_box
              </span>
            </a>
            <a class="select-menu-item js-navigation-item js-navigation-open "
               href="/bokeh/bokeh/blob/mattpap/5880_flake8_all/examples/howto/notebook_comms/Jupyter%20Interactors.ipynb"
               data-name="mattpap/5880_flake8_all"
               data-skip-pjax="true"
               rel="nofollow">
              <svg aria-hidden="true" class="octicon octicon-check select-menu-item-icon" height="16" version="1.1" viewBox="0 0 12 16" width="12"><path fill-rule="evenodd" d="M12 5l-8 8-4-4 1.5-1.5L4 10l6.5-6.5z"/></svg>
              <span class="select-menu-item-text css-truncate-target js-select-menu-filter-text">
                mattpap/5880_flake8_all
              </span>
            </a>
            <a class="select-menu-item js-navigation-item js-navigation-open "
               href="/bokeh/bokeh/blob/mattpap/5882_bokehjs_travis_ci/examples/howto/notebook_comms/Jupyter%20Interactors.ipynb"
               data-name="mattpap/5882_bokehjs_travis_ci"
               data-skip-pjax="true"
               rel="nofollow">
              <svg aria-hidden="true" class="octicon octicon-check select-menu-item-icon" height="16" version="1.1" viewBox="0 0 12 16" width="12"><path fill-rule="evenodd" d="M12 5l-8 8-4-4 1.5-1.5L4 10l6.5-6.5z"/></svg>
              <span class="select-menu-item-text css-truncate-target js-select-menu-filter-text">
                mattpap/5882_bokehjs_travis_ci
              </span>
            </a>
            <a class="select-menu-item js-navigation-item js-navigation-open "
               href="/bokeh/bokeh/blob/revert-5755-bryanv/refactor_build/examples/howto/notebook_comms/Jupyter%20Interactors.ipynb"
               data-name="revert-5755-bryanv/refactor_build"
               data-skip-pjax="true"
               rel="nofollow">
              <svg aria-hidden="true" class="octicon octicon-check select-menu-item-icon" height="16" version="1.1" viewBox="0 0 12 16" width="12"><path fill-rule="evenodd" d="M12 5l-8 8-4-4 1.5-1.5L4 10l6.5-6.5z"/></svg>
              <span class="select-menu-item-text css-truncate-target js-select-menu-filter-text">
                revert-5755-bryanv/refactor_build
              </span>
            </a>
            <a class="select-menu-item js-navigation-item js-navigation-open "
               href="/bokeh/bokeh/blob/sandbox/appmaker2/examples/howto/notebook_comms/Jupyter%20Interactors.ipynb"
               data-name="sandbox/appmaker2"
               data-skip-pjax="true"
               rel="nofollow">
              <svg aria-hidden="true" class="octicon octicon-check select-menu-item-icon" height="16" version="1.1" viewBox="0 0 12 16" width="12"><path fill-rule="evenodd" d="M12 5l-8 8-4-4 1.5-1.5L4 10l6.5-6.5z"/></svg>
              <span class="select-menu-item-text css-truncate-target js-select-menu-filter-text">
                sandbox/appmaker2
              </span>
            </a>
            <a class="select-menu-item js-navigation-item js-navigation-open "
               href="/bokeh/bokeh/blob/scratch/geojson_data_source/examples/howto/notebook_comms/Jupyter%20Interactors.ipynb"
               data-name="scratch/geojson_data_source"
               data-skip-pjax="true"
               rel="nofollow">
              <svg aria-hidden="true" class="octicon octicon-check select-menu-item-icon" height="16" version="1.1" viewBox="0 0 12 16" width="12"><path fill-rule="evenodd" d="M12 5l-8 8-4-4 1.5-1.5L4 10l6.5-6.5z"/></svg>
              <span class="select-menu-item-text css-truncate-target js-select-menu-filter-text">
                scratch/geojson_data_source
              </span>
            </a>
            <a class="select-menu-item js-navigation-item js-navigation-open "
               href="/bokeh/bokeh/blob/stvn66_4786_hex_markers/examples/howto/notebook_comms/Jupyter%20Interactors.ipynb"
               data-name="stvn66_4786_hex_markers"
               data-skip-pjax="true"
               rel="nofollow">
              <svg aria-hidden="true" class="octicon octicon-check select-menu-item-icon" height="16" version="1.1" viewBox="0 0 12 16" width="12"><path fill-rule="evenodd" d="M12 5l-8 8-4-4 1.5-1.5L4 10l6.5-6.5z"/></svg>
              <span class="select-menu-item-text css-truncate-target js-select-menu-filter-text">
                stvn66_4786_hex_markers
              </span>
            </a>
            <a class="select-menu-item js-navigation-item js-navigation-open "
               href="/bokeh/bokeh/blob/stvn66_5317_add_seaborn_palettes/examples/howto/notebook_comms/Jupyter%20Interactors.ipynb"
               data-name="stvn66_5317_add_seaborn_palettes"
               data-skip-pjax="true"
               rel="nofollow">
              <svg aria-hidden="true" class="octicon octicon-check select-menu-item-icon" height="16" version="1.1" viewBox="0 0 12 16" width="12"><path fill-rule="evenodd" d="M12 5l-8 8-4-4 1.5-1.5L4 10l6.5-6.5z"/></svg>
              <span class="select-menu-item-text css-truncate-target js-select-menu-filter-text">
                stvn66_5317_add_seaborn_palettes
              </span>
            </a>
            <a class="select-menu-item js-navigation-item js-navigation-open "
               href="/bokeh/bokeh/blob/waterfall_chart/examples/howto/notebook_comms/Jupyter%20Interactors.ipynb"
               data-name="waterfall_chart"
               data-skip-pjax="true"
               rel="nofollow">
              <svg aria-hidden="true" class="octicon octicon-check select-menu-item-icon" height="16" version="1.1" viewBox="0 0 12 16" width="12"><path fill-rule="evenodd" d="M12 5l-8 8-4-4 1.5-1.5L4 10l6.5-6.5z"/></svg>
              <span class="select-menu-item-text css-truncate-target js-select-menu-filter-text">
                waterfall_chart
              </span>
            </a>
            <a class="select-menu-item js-navigation-item js-navigation-open "
               href="/bokeh/bokeh/blob/wip/not-serialized-props-broken/examples/howto/notebook_comms/Jupyter%20Interactors.ipynb"
               data-name="wip/not-serialized-props-broken"
               data-skip-pjax="true"
               rel="nofollow">
              <svg aria-hidden="true" class="octicon octicon-check select-menu-item-icon" height="16" version="1.1" viewBox="0 0 12 16" width="12"><path fill-rule="evenodd" d="M12 5l-8 8-4-4 1.5-1.5L4 10l6.5-6.5z"/></svg>
              <span class="select-menu-item-text css-truncate-target js-select-menu-filter-text">
                wip/not-serialized-props-broken
              </span>
            </a>
        </div>

          <div class="select-menu-no-results">Nothing to show</div>
      </div>

      <div class="select-menu-list select-menu-tab-bucket js-select-menu-tab-bucket" data-tab-filter="tags">
        <div data-filterable-for="context-commitish-filter-field" data-filterable-type="substring">


            <a class="select-menu-item js-navigation-item js-navigation-open "
              href="/bokeh/bokeh/tree/0.12.5dev12/examples/howto/notebook_comms/Jupyter%20Interactors.ipynb"
              data-name="0.12.5dev12"
              data-skip-pjax="true"
              rel="nofollow">
              <svg aria-hidden="true" class="octicon octicon-check select-menu-item-icon" height="16" version="1.1" viewBox="0 0 12 16" width="12"><path fill-rule="evenodd" d="M12 5l-8 8-4-4 1.5-1.5L4 10l6.5-6.5z"/></svg>
              <span class="select-menu-item-text css-truncate-target" title="0.12.5dev12">
                0.12.5dev12
              </span>
            </a>
            <a class="select-menu-item js-navigation-item js-navigation-open "
              href="/bokeh/bokeh/tree/0.12.5dev11/examples/howto/notebook_comms/Jupyter%20Interactors.ipynb"
              data-name="0.12.5dev11"
              data-skip-pjax="true"
              rel="nofollow">
              <svg aria-hidden="true" class="octicon octicon-check select-menu-item-icon" height="16" version="1.1" viewBox="0 0 12 16" width="12"><path fill-rule="evenodd" d="M12 5l-8 8-4-4 1.5-1.5L4 10l6.5-6.5z"/></svg>
              <span class="select-menu-item-text css-truncate-target" title="0.12.5dev11">
                0.12.5dev11
              </span>
            </a>
            <a class="select-menu-item js-navigation-item js-navigation-open "
              href="/bokeh/bokeh/tree/0.12.5dev10/examples/howto/notebook_comms/Jupyter%20Interactors.ipynb"
              data-name="0.12.5dev10"
              data-skip-pjax="true"
              rel="nofollow">
              <svg aria-hidden="true" class="octicon octicon-check select-menu-item-icon" height="16" version="1.1" viewBox="0 0 12 16" width="12"><path fill-rule="evenodd" d="M12 5l-8 8-4-4 1.5-1.5L4 10l6.5-6.5z"/></svg>
              <span class="select-menu-item-text css-truncate-target" title="0.12.5dev10">
                0.12.5dev10
              </span>
            </a>
            <a class="select-menu-item js-navigation-item js-navigation-open "
              href="/bokeh/bokeh/tree/0.12.5dev9/examples/howto/notebook_comms/Jupyter%20Interactors.ipynb"
              data-name="0.12.5dev9"
              data-skip-pjax="true"
              rel="nofollow">
              <svg aria-hidden="true" class="octicon octicon-check select-menu-item-icon" height="16" version="1.1" viewBox="0 0 12 16" width="12"><path fill-rule="evenodd" d="M12 5l-8 8-4-4 1.5-1.5L4 10l6.5-6.5z"/></svg>
              <span class="select-menu-item-text css-truncate-target" title="0.12.5dev9">
                0.12.5dev9
              </span>
            </a>
            <a class="select-menu-item js-navigation-item js-navigation-open "
              href="/bokeh/bokeh/tree/0.12.5dev8/examples/howto/notebook_comms/Jupyter%20Interactors.ipynb"
              data-name="0.12.5dev8"
              data-skip-pjax="true"
              rel="nofollow">
              <svg aria-hidden="true" class="octicon octicon-check select-menu-item-icon" height="16" version="1.1" viewBox="0 0 12 16" width="12"><path fill-rule="evenodd" d="M12 5l-8 8-4-4 1.5-1.5L4 10l6.5-6.5z"/></svg>
              <span class="select-menu-item-text css-truncate-target" title="0.12.5dev8">
                0.12.5dev8
              </span>
            </a>
            <a class="select-menu-item js-navigation-item js-navigation-open "
              href="/bokeh/bokeh/tree/0.12.5dev7/examples/howto/notebook_comms/Jupyter%20Interactors.ipynb"
              data-name="0.12.5dev7"
              data-skip-pjax="true"
              rel="nofollow">
              <svg aria-hidden="true" class="octicon octicon-check select-menu-item-icon" height="16" version="1.1" viewBox="0 0 12 16" width="12"><path fill-rule="evenodd" d="M12 5l-8 8-4-4 1.5-1.5L4 10l6.5-6.5z"/></svg>
              <span class="select-menu-item-text css-truncate-target" title="0.12.5dev7">
                0.12.5dev7
              </span>
            </a>
            <a class="select-menu-item js-navigation-item js-navigation-open "
              href="/bokeh/bokeh/tree/0.12.5dev6/examples/howto/notebook_comms/Jupyter%20Interactors.ipynb"
              data-name="0.12.5dev6"
              data-skip-pjax="true"
              rel="nofollow">
              <svg aria-hidden="true" class="octicon octicon-check select-menu-item-icon" height="16" version="1.1" viewBox="0 0 12 16" width="12"><path fill-rule="evenodd" d="M12 5l-8 8-4-4 1.5-1.5L4 10l6.5-6.5z"/></svg>
              <span class="select-menu-item-text css-truncate-target" title="0.12.5dev6">
                0.12.5dev6
              </span>
            </a>
            <a class="select-menu-item js-navigation-item js-navigation-open "
              href="/bokeh/bokeh/tree/0.12.5dev5/examples/howto/notebook_comms/Jupyter%20Interactors.ipynb"
              data-name="0.12.5dev5"
              data-skip-pjax="true"
              rel="nofollow">
              <svg aria-hidden="true" class="octicon octicon-check select-menu-item-icon" height="16" version="1.1" viewBox="0 0 12 16" width="12"><path fill-rule="evenodd" d="M12 5l-8 8-4-4 1.5-1.5L4 10l6.5-6.5z"/></svg>
              <span class="select-menu-item-text css-truncate-target" title="0.12.5dev5">
                0.12.5dev5
              </span>
            </a>
            <a class="select-menu-item js-navigation-item js-navigation-open "
              href="/bokeh/bokeh/tree/0.12.5dev4/examples/howto/notebook_comms/Jupyter%20Interactors.ipynb"
              data-name="0.12.5dev4"
              data-skip-pjax="true"
              rel="nofollow">
              <svg aria-hidden="true" class="octicon octicon-check select-menu-item-icon" height="16" version="1.1" viewBox="0 0 12 16" width="12"><path fill-rule="evenodd" d="M12 5l-8 8-4-4 1.5-1.5L4 10l6.5-6.5z"/></svg>
              <span class="select-menu-item-text css-truncate-target" title="0.12.5dev4">
                0.12.5dev4
              </span>
            </a>
            <a class="select-menu-item js-navigation-item js-navigation-open "
              href="/bokeh/bokeh/tree/0.12.5dev3/examples/howto/notebook_comms/Jupyter%20Interactors.ipynb"
              data-name="0.12.5dev3"
              data-skip-pjax="true"
              rel="nofollow">
              <svg aria-hidden="true" class="octicon octicon-check select-menu-item-icon" height="16" version="1.1" viewBox="0 0 12 16" width="12"><path fill-rule="evenodd" d="M12 5l-8 8-4-4 1.5-1.5L4 10l6.5-6.5z"/></svg>
              <span class="select-menu-item-text css-truncate-target" title="0.12.5dev3">
                0.12.5dev3
              </span>
            </a>
            <a class="select-menu-item js-navigation-item js-navigation-open "
              href="/bokeh/bokeh/tree/0.12.5dev2/examples/howto/notebook_comms/Jupyter%20Interactors.ipynb"
              data-name="0.12.5dev2"
              data-skip-pjax="true"
              rel="nofollow">
              <svg aria-hidden="true" class="octicon octicon-check select-menu-item-icon" height="16" version="1.1" viewBox="0 0 12 16" width="12"><path fill-rule="evenodd" d="M12 5l-8 8-4-4 1.5-1.5L4 10l6.5-6.5z"/></svg>
              <span class="select-menu-item-text css-truncate-target" title="0.12.5dev2">
                0.12.5dev2
              </span>
            </a>
            <a class="select-menu-item js-navigation-item js-navigation-open "
              href="/bokeh/bokeh/tree/0.12.5dev1/examples/howto/notebook_comms/Jupyter%20Interactors.ipynb"
              data-name="0.12.5dev1"
              data-skip-pjax="true"
              rel="nofollow">
              <svg aria-hidden="true" class="octicon octicon-check select-menu-item-icon" height="16" version="1.1" viewBox="0 0 12 16" width="12"><path fill-rule="evenodd" d="M12 5l-8 8-4-4 1.5-1.5L4 10l6.5-6.5z"/></svg>
              <span class="select-menu-item-text css-truncate-target" title="0.12.5dev1">
                0.12.5dev1
              </span>
            </a>
            <a class="select-menu-item js-navigation-item js-navigation-open selected"
              href="/bokeh/bokeh/tree/0.12.4/examples/howto/notebook_comms/Jupyter%20Interactors.ipynb"
              data-name="0.12.4"
              data-skip-pjax="true"
              rel="nofollow">
              <svg aria-hidden="true" class="octicon octicon-check select-menu-item-icon" height="16" version="1.1" viewBox="0 0 12 16" width="12"><path fill-rule="evenodd" d="M12 5l-8 8-4-4 1.5-1.5L4 10l6.5-6.5z"/></svg>
              <span class="select-menu-item-text css-truncate-target" title="0.12.4">
                0.12.4
              </span>
            </a>
            <a class="select-menu-item js-navigation-item js-navigation-open "
              href="/bokeh/bokeh/tree/0.12.3/examples/howto/notebook_comms/Jupyter%20Interactors.ipynb"
              data-name="0.12.3"
              data-skip-pjax="true"
              rel="nofollow">
              <svg aria-hidden="true" class="octicon octicon-check select-menu-item-icon" height="16" version="1.1" viewBox="0 0 12 16" width="12"><path fill-rule="evenodd" d="M12 5l-8 8-4-4 1.5-1.5L4 10l6.5-6.5z"/></svg>
              <span class="select-menu-item-text css-truncate-target" title="0.12.3">
                0.12.3
              </span>
            </a>
            <a class="select-menu-item js-navigation-item js-navigation-open "
              href="/bokeh/bokeh/tree/0.12.2/examples/howto/notebook_comms/Jupyter%20Interactors.ipynb"
              data-name="0.12.2"
              data-skip-pjax="true"
              rel="nofollow">
              <svg aria-hidden="true" class="octicon octicon-check select-menu-item-icon" height="16" version="1.1" viewBox="0 0 12 16" width="12"><path fill-rule="evenodd" d="M12 5l-8 8-4-4 1.5-1.5L4 10l6.5-6.5z"/></svg>
              <span class="select-menu-item-text css-truncate-target" title="0.12.2">
                0.12.2
              </span>
            </a>
            <a class="select-menu-item js-navigation-item js-navigation-open "
              href="/bokeh/bokeh/tree/0.12.1/examples/howto/notebook_comms/Jupyter%20Interactors.ipynb"
              data-name="0.12.1"
              data-skip-pjax="true"
              rel="nofollow">
              <svg aria-hidden="true" class="octicon octicon-check select-menu-item-icon" height="16" version="1.1" viewBox="0 0 12 16" width="12"><path fill-rule="evenodd" d="M12 5l-8 8-4-4 1.5-1.5L4 10l6.5-6.5z"/></svg>
              <span class="select-menu-item-text css-truncate-target" title="0.12.1">
                0.12.1
              </span>
            </a>
            <a class="select-menu-item js-navigation-item js-navigation-open "
              href="/bokeh/bokeh/tree/0.12.0/examples/howto/notebook_comms/Jupyter%20Interactors.ipynb"
              data-name="0.12.0"
              data-skip-pjax="true"
              rel="nofollow">
              <svg aria-hidden="true" class="octicon octicon-check select-menu-item-icon" height="16" version="1.1" viewBox="0 0 12 16" width="12"><path fill-rule="evenodd" d="M12 5l-8 8-4-4 1.5-1.5L4 10l6.5-6.5z"/></svg>
              <span class="select-menu-item-text css-truncate-target" title="0.12.0">
                0.12.0
              </span>
            </a>
            <a class="select-menu-item js-navigation-item js-navigation-open "
              href="/bokeh/bokeh/tree/0.11.1/examples/howto/notebook_comms/Jupyter%20Interactors.ipynb"
              data-name="0.11.1"
              data-skip-pjax="true"
              rel="nofollow">
              <svg aria-hidden="true" class="octicon octicon-check select-menu-item-icon" height="16" version="1.1" viewBox="0 0 12 16" width="12"><path fill-rule="evenodd" d="M12 5l-8 8-4-4 1.5-1.5L4 10l6.5-6.5z"/></svg>
              <span class="select-menu-item-text css-truncate-target" title="0.11.1">
                0.11.1
              </span>
            </a>
            <a class="select-menu-item js-navigation-item js-navigation-open "
              href="/bokeh/bokeh/tree/0.11.0/examples/howto/notebook_comms/Jupyter%20Interactors.ipynb"
              data-name="0.11.0"
              data-skip-pjax="true"
              rel="nofollow">
              <svg aria-hidden="true" class="octicon octicon-check select-menu-item-icon" height="16" version="1.1" viewBox="0 0 12 16" width="12"><path fill-rule="evenodd" d="M12 5l-8 8-4-4 1.5-1.5L4 10l6.5-6.5z"/></svg>
              <span class="select-menu-item-text css-truncate-target" title="0.11.0">
                0.11.0
              </span>
            </a>
            <a class="select-menu-item js-navigation-item js-navigation-open "
              href="/bokeh/bokeh/tree/0.10.0/examples/howto/notebook_comms/Jupyter%20Interactors.ipynb"
              data-name="0.10.0"
              data-skip-pjax="true"
              rel="nofollow">
              <svg aria-hidden="true" class="octicon octicon-check select-menu-item-icon" height="16" version="1.1" viewBox="0 0 12 16" width="12"><path fill-rule="evenodd" d="M12 5l-8 8-4-4 1.5-1.5L4 10l6.5-6.5z"/></svg>
              <span class="select-menu-item-text css-truncate-target" title="0.10.0">
                0.10.0
              </span>
            </a>
            <a class="select-menu-item js-navigation-item js-navigation-open "
              href="/bokeh/bokeh/tree/0.9.3/examples/howto/notebook_comms/Jupyter%20Interactors.ipynb"
              data-name="0.9.3"
              data-skip-pjax="true"
              rel="nofollow">
              <svg aria-hidden="true" class="octicon octicon-check select-menu-item-icon" height="16" version="1.1" viewBox="0 0 12 16" width="12"><path fill-rule="evenodd" d="M12 5l-8 8-4-4 1.5-1.5L4 10l6.5-6.5z"/></svg>
              <span class="select-menu-item-text css-truncate-target" title="0.9.3">
                0.9.3
              </span>
            </a>
            <a class="select-menu-item js-navigation-item js-navigation-open "
              href="/bokeh/bokeh/tree/0.9.2/examples/howto/notebook_comms/Jupyter%20Interactors.ipynb"
              data-name="0.9.2"
              data-skip-pjax="true"
              rel="nofollow">
              <svg aria-hidden="true" class="octicon octicon-check select-menu-item-icon" height="16" version="1.1" viewBox="0 0 12 16" width="12"><path fill-rule="evenodd" d="M12 5l-8 8-4-4 1.5-1.5L4 10l6.5-6.5z"/></svg>
              <span class="select-menu-item-text css-truncate-target" title="0.9.2">
                0.9.2
              </span>
            </a>
            <a class="select-menu-item js-navigation-item js-navigation-open "
              href="/bokeh/bokeh/tree/0.9.1/examples/howto/notebook_comms/Jupyter%20Interactors.ipynb"
              data-name="0.9.1"
              data-skip-pjax="true"
              rel="nofollow">
              <svg aria-hidden="true" class="octicon octicon-check select-menu-item-icon" height="16" version="1.1" viewBox="0 0 12 16" width="12"><path fill-rule="evenodd" d="M12 5l-8 8-4-4 1.5-1.5L4 10l6.5-6.5z"/></svg>
              <span class="select-menu-item-text css-truncate-target" title="0.9.1">
                0.9.1
              </span>
            </a>
            <a class="select-menu-item js-navigation-item js-navigation-open "
              href="/bokeh/bokeh/tree/0.9.0/examples/howto/notebook_comms/Jupyter%20Interactors.ipynb"
              data-name="0.9.0"
              data-skip-pjax="true"
              rel="nofollow">
              <svg aria-hidden="true" class="octicon octicon-check select-menu-item-icon" height="16" version="1.1" viewBox="0 0 12 16" width="12"><path fill-rule="evenodd" d="M12 5l-8 8-4-4 1.5-1.5L4 10l6.5-6.5z"/></svg>
              <span class="select-menu-item-text css-truncate-target" title="0.9.0">
                0.9.0
              </span>
            </a>
            <a class="select-menu-item js-navigation-item js-navigation-open "
              href="/bokeh/bokeh/tree/0.8.2/examples/howto/notebook_comms/Jupyter%20Interactors.ipynb"
              data-name="0.8.2"
              data-skip-pjax="true"
              rel="nofollow">
              <svg aria-hidden="true" class="octicon octicon-check select-menu-item-icon" height="16" version="1.1" viewBox="0 0 12 16" width="12"><path fill-rule="evenodd" d="M12 5l-8 8-4-4 1.5-1.5L4 10l6.5-6.5z"/></svg>
              <span class="select-menu-item-text css-truncate-target" title="0.8.2">
                0.8.2
              </span>
            </a>
            <a class="select-menu-item js-navigation-item js-navigation-open "
              href="/bokeh/bokeh/tree/0.8.1/examples/howto/notebook_comms/Jupyter%20Interactors.ipynb"
              data-name="0.8.1"
              data-skip-pjax="true"
              rel="nofollow">
              <svg aria-hidden="true" class="octicon octicon-check select-menu-item-icon" height="16" version="1.1" viewBox="0 0 12 16" width="12"><path fill-rule="evenodd" d="M12 5l-8 8-4-4 1.5-1.5L4 10l6.5-6.5z"/></svg>
              <span class="select-menu-item-text css-truncate-target" title="0.8.1">
                0.8.1
              </span>
            </a>
            <a class="select-menu-item js-navigation-item js-navigation-open "
              href="/bokeh/bokeh/tree/0.8.0/examples/howto/notebook_comms/Jupyter%20Interactors.ipynb"
              data-name="0.8.0"
              data-skip-pjax="true"
              rel="nofollow">
              <svg aria-hidden="true" class="octicon octicon-check select-menu-item-icon" height="16" version="1.1" viewBox="0 0 12 16" width="12"><path fill-rule="evenodd" d="M12 5l-8 8-4-4 1.5-1.5L4 10l6.5-6.5z"/></svg>
              <span class="select-menu-item-text css-truncate-target" title="0.8.0">
                0.8.0
              </span>
            </a>
            <a class="select-menu-item js-navigation-item js-navigation-open "
              href="/bokeh/bokeh/tree/0.7.1/examples/howto/notebook_comms/Jupyter%20Interactors.ipynb"
              data-name="0.7.1"
              data-skip-pjax="true"
              rel="nofollow">
              <svg aria-hidden="true" class="octicon octicon-check select-menu-item-icon" height="16" version="1.1" viewBox="0 0 12 16" width="12"><path fill-rule="evenodd" d="M12 5l-8 8-4-4 1.5-1.5L4 10l6.5-6.5z"/></svg>
              <span class="select-menu-item-text css-truncate-target" title="0.7.1">
                0.7.1
              </span>
            </a>
            <a class="select-menu-item js-navigation-item js-navigation-open "
              href="/bokeh/bokeh/tree/0.7.0/examples/howto/notebook_comms/Jupyter%20Interactors.ipynb"
              data-name="0.7.0"
              data-skip-pjax="true"
              rel="nofollow">
              <svg aria-hidden="true" class="octicon octicon-check select-menu-item-icon" height="16" version="1.1" viewBox="0 0 12 16" width="12"><path fill-rule="evenodd" d="M12 5l-8 8-4-4 1.5-1.5L4 10l6.5-6.5z"/></svg>
              <span class="select-menu-item-text css-truncate-target" title="0.7.0">
                0.7.0
              </span>
            </a>
            <a class="select-menu-item js-navigation-item js-navigation-open "
              href="/bokeh/bokeh/tree/0.6.1/examples/howto/notebook_comms/Jupyter%20Interactors.ipynb"
              data-name="0.6.1"
              data-skip-pjax="true"
              rel="nofollow">
              <svg aria-hidden="true" class="octicon octicon-check select-menu-item-icon" height="16" version="1.1" viewBox="0 0 12 16" width="12"><path fill-rule="evenodd" d="M12 5l-8 8-4-4 1.5-1.5L4 10l6.5-6.5z"/></svg>
              <span class="select-menu-item-text css-truncate-target" title="0.6.1">
                0.6.1
              </span>
            </a>
            <a class="select-menu-item js-navigation-item js-navigation-open "
              href="/bokeh/bokeh/tree/0.6.0/examples/howto/notebook_comms/Jupyter%20Interactors.ipynb"
              data-name="0.6.0"
              data-skip-pjax="true"
              rel="nofollow">
              <svg aria-hidden="true" class="octicon octicon-check select-menu-item-icon" height="16" version="1.1" viewBox="0 0 12 16" width="12"><path fill-rule="evenodd" d="M12 5l-8 8-4-4 1.5-1.5L4 10l6.5-6.5z"/></svg>
              <span class="select-menu-item-text css-truncate-target" title="0.6.0">
                0.6.0
              </span>
            </a>
            <a class="select-menu-item js-navigation-item js-navigation-open "
              href="/bokeh/bokeh/tree/0.5.2/examples/howto/notebook_comms/Jupyter%20Interactors.ipynb"
              data-name="0.5.2"
              data-skip-pjax="true"
              rel="nofollow">
              <svg aria-hidden="true" class="octicon octicon-check select-menu-item-icon" height="16" version="1.1" viewBox="0 0 12 16" width="12"><path fill-rule="evenodd" d="M12 5l-8 8-4-4 1.5-1.5L4 10l6.5-6.5z"/></svg>
              <span class="select-menu-item-text css-truncate-target" title="0.5.2">
                0.5.2
              </span>
            </a>
            <a class="select-menu-item js-navigation-item js-navigation-open "
              href="/bokeh/bokeh/tree/0.5.1/examples/howto/notebook_comms/Jupyter%20Interactors.ipynb"
              data-name="0.5.1"
              data-skip-pjax="true"
              rel="nofollow">
              <svg aria-hidden="true" class="octicon octicon-check select-menu-item-icon" height="16" version="1.1" viewBox="0 0 12 16" width="12"><path fill-rule="evenodd" d="M12 5l-8 8-4-4 1.5-1.5L4 10l6.5-6.5z"/></svg>
              <span class="select-menu-item-text css-truncate-target" title="0.5.1">
                0.5.1
              </span>
            </a>
            <a class="select-menu-item js-navigation-item js-navigation-open "
              href="/bokeh/bokeh/tree/0.5.0/examples/howto/notebook_comms/Jupyter%20Interactors.ipynb"
              data-name="0.5.0"
              data-skip-pjax="true"
              rel="nofollow">
              <svg aria-hidden="true" class="octicon octicon-check select-menu-item-icon" height="16" version="1.1" viewBox="0 0 12 16" width="12"><path fill-rule="evenodd" d="M12 5l-8 8-4-4 1.5-1.5L4 10l6.5-6.5z"/></svg>
              <span class="select-menu-item-text css-truncate-target" title="0.5.0">
                0.5.0
              </span>
            </a>
            <a class="select-menu-item js-navigation-item js-navigation-open "
              href="/bokeh/bokeh/tree/0.4.4/examples/howto/notebook_comms/Jupyter%20Interactors.ipynb"
              data-name="0.4.4"
              data-skip-pjax="true"
              rel="nofollow">
              <svg aria-hidden="true" class="octicon octicon-check select-menu-item-icon" height="16" version="1.1" viewBox="0 0 12 16" width="12"><path fill-rule="evenodd" d="M12 5l-8 8-4-4 1.5-1.5L4 10l6.5-6.5z"/></svg>
              <span class="select-menu-item-text css-truncate-target" title="0.4.4">
                0.4.4
              </span>
            </a>
            <a class="select-menu-item js-navigation-item js-navigation-open "
              href="/bokeh/bokeh/tree/0.4.3/examples/howto/notebook_comms/Jupyter%20Interactors.ipynb"
              data-name="0.4.3"
              data-skip-pjax="true"
              rel="nofollow">
              <svg aria-hidden="true" class="octicon octicon-check select-menu-item-icon" height="16" version="1.1" viewBox="0 0 12 16" width="12"><path fill-rule="evenodd" d="M12 5l-8 8-4-4 1.5-1.5L4 10l6.5-6.5z"/></svg>
              <span class="select-menu-item-text css-truncate-target" title="0.4.3">
                0.4.3
              </span>
            </a>
            <a class="select-menu-item js-navigation-item js-navigation-open "
              href="/bokeh/bokeh/tree/0.4.2/examples/howto/notebook_comms/Jupyter%20Interactors.ipynb"
              data-name="0.4.2"
              data-skip-pjax="true"
              rel="nofollow">
              <svg aria-hidden="true" class="octicon octicon-check select-menu-item-icon" height="16" version="1.1" viewBox="0 0 12 16" width="12"><path fill-rule="evenodd" d="M12 5l-8 8-4-4 1.5-1.5L4 10l6.5-6.5z"/></svg>
              <span class="select-menu-item-text css-truncate-target" title="0.4.2">
                0.4.2
              </span>
            </a>
            <a class="select-menu-item js-navigation-item js-navigation-open "
              href="/bokeh/bokeh/tree/0.4.1/examples/howto/notebook_comms/Jupyter%20Interactors.ipynb"
              data-name="0.4.1"
              data-skip-pjax="true"
              rel="nofollow">
              <svg aria-hidden="true" class="octicon octicon-check select-menu-item-icon" height="16" version="1.1" viewBox="0 0 12 16" width="12"><path fill-rule="evenodd" d="M12 5l-8 8-4-4 1.5-1.5L4 10l6.5-6.5z"/></svg>
              <span class="select-menu-item-text css-truncate-target" title="0.4.1">
                0.4.1
              </span>
            </a>
            <a class="select-menu-item js-navigation-item js-navigation-open "
              href="/bokeh/bokeh/tree/0.4.0/examples/howto/notebook_comms/Jupyter%20Interactors.ipynb"
              data-name="0.4.0"
              data-skip-pjax="true"
              rel="nofollow">
              <svg aria-hidden="true" class="octicon octicon-check select-menu-item-icon" height="16" version="1.1" viewBox="0 0 12 16" width="12"><path fill-rule="evenodd" d="M12 5l-8 8-4-4 1.5-1.5L4 10l6.5-6.5z"/></svg>
              <span class="select-menu-item-text css-truncate-target" title="0.4.0">
                0.4.0
              </span>
            </a>
            <a class="select-menu-item js-navigation-item js-navigation-open "
              href="/bokeh/bokeh/tree/0.3.0/examples/howto/notebook_comms/Jupyter%20Interactors.ipynb"
              data-name="0.3.0"
              data-skip-pjax="true"
              rel="nofollow">
              <svg aria-hidden="true" class="octicon octicon-check select-menu-item-icon" height="16" version="1.1" viewBox="0 0 12 16" width="12"><path fill-rule="evenodd" d="M12 5l-8 8-4-4 1.5-1.5L4 10l6.5-6.5z"/></svg>
              <span class="select-menu-item-text css-truncate-target" title="0.3.0">
                0.3.0
              </span>
            </a>
            <a class="select-menu-item js-navigation-item js-navigation-open "
              href="/bokeh/bokeh/tree/0.2.0/examples/howto/notebook_comms/Jupyter%20Interactors.ipynb"
              data-name="0.2.0"
              data-skip-pjax="true"
              rel="nofollow">
              <svg aria-hidden="true" class="octicon octicon-check select-menu-item-icon" height="16" version="1.1" viewBox="0 0 12 16" width="12"><path fill-rule="evenodd" d="M12 5l-8 8-4-4 1.5-1.5L4 10l6.5-6.5z"/></svg>
              <span class="select-menu-item-text css-truncate-target" title="0.2.0">
                0.2.0
              </span>
            </a>
            <a class="select-menu-item js-navigation-item js-navigation-open "
              href="/bokeh/bokeh/tree/0.1.1/examples/howto/notebook_comms/Jupyter%20Interactors.ipynb"
              data-name="0.1.1"
              data-skip-pjax="true"
              rel="nofollow">
              <svg aria-hidden="true" class="octicon octicon-check select-menu-item-icon" height="16" version="1.1" viewBox="0 0 12 16" width="12"><path fill-rule="evenodd" d="M12 5l-8 8-4-4 1.5-1.5L4 10l6.5-6.5z"/></svg>
              <span class="select-menu-item-text css-truncate-target" title="0.1.1">
                0.1.1
              </span>
            </a>
            <a class="select-menu-item js-navigation-item js-navigation-open "
              href="/bokeh/bokeh/tree/0.1.0/examples/howto/notebook_comms/Jupyter%20Interactors.ipynb"
              data-name="0.1.0"
              data-skip-pjax="true"
              rel="nofollow">
              <svg aria-hidden="true" class="octicon octicon-check select-menu-item-icon" height="16" version="1.1" viewBox="0 0 12 16" width="12"><path fill-rule="evenodd" d="M12 5l-8 8-4-4 1.5-1.5L4 10l6.5-6.5z"/></svg>
              <span class="select-menu-item-text css-truncate-target" title="0.1.0">
                0.1.0
              </span>
            </a>
            <a class="select-menu-item js-navigation-item js-navigation-open "
              href="/bokeh/bokeh/tree/0.0.1/examples/howto/notebook_comms/Jupyter%20Interactors.ipynb"
              data-name="0.0.1"
              data-skip-pjax="true"
              rel="nofollow">
              <svg aria-hidden="true" class="octicon octicon-check select-menu-item-icon" height="16" version="1.1" viewBox="0 0 12 16" width="12"><path fill-rule="evenodd" d="M12 5l-8 8-4-4 1.5-1.5L4 10l6.5-6.5z"/></svg>
              <span class="select-menu-item-text css-truncate-target" title="0.0.1">
                0.0.1
              </span>
            </a>
        </div>

        <div class="select-menu-no-results">Nothing to show</div>
      </div>

    </div>
  </div>
</div>

  <div class="BtnGroup float-right">
    <a href="/bokeh/bokeh/find/0.12.4"
          class="js-pjax-capture-input btn btn-sm BtnGroup-item"
          data-pjax
          data-hotkey="t">
      Find file
    </a>
    <button aria-label="Copy file path to clipboard" class="js-zeroclipboard btn btn-sm BtnGroup-item tooltipped tooltipped-s" data-copied-hint="Copied!" type="button">Copy path</button>
  </div>
  <div class="breadcrumb js-zeroclipboard-target">
    <span class="repo-root js-repo-root"><span class="js-path-segment"><a href="/bokeh/bokeh/tree/0.12.4"><span>bokeh</span></a></span></span><span class="separator">/</span><span class="js-path-segment"><a href="/bokeh/bokeh/tree/0.12.4/examples"><span>examples</span></a></span><span class="separator">/</span><span class="js-path-segment"><a href="/bokeh/bokeh/tree/0.12.4/examples/howto"><span>howto</span></a></span><span class="separator">/</span><span class="js-path-segment"><a href="/bokeh/bokeh/tree/0.12.4/examples/howto/notebook_comms"><span>notebook_comms</span></a></span><span class="separator">/</span><strong class="final-path">Jupyter Interactors.ipynb</strong>
  </div>
</div>


  <div class="commit-tease">
      <span class="float-right">
        <a class="commit-tease-sha" href="/bokeh/bokeh/commit/0d8204c127a436ee068810b819f287f43efafabf" data-pjax>
          0d8204c
        </a>
        <relative-time datetime="2016-08-29T15:23:38Z">Aug 29, 2016</relative-time>
      </span>
      <div>
        <img alt="@philippjfr" class="avatar" height="20" src="https://avatars2.githubusercontent.com/u/1550771?v=3&amp;s=40" width="20" />
        <a href="/philippjfr" class="user-mention" rel="contributor">philippjfr</a>
          <a href="/bokeh/bokeh/commit/0d8204c127a436ee068810b819f287f43efafabf" class="message" data-pjax="true" title="Notebook output waits until bokehJS is loaded (#5014)

* Notebook output waits until bokehJS is loaded

* Removed unnecessary function

* Changed bokeh loading console message

* Added maximum loading timeout

* Created notebook autoload template

* Various fixes to notebook loading templates

* Added notebook load failure warning

* Added notebook loaded message

* Minor indentation fixes

* Simplified bokehJS loaded message

* Updated notebook load unit tests

* Small fixes autoload_nb_js template

* Fixed notebook initialization when hide_banner=True

* Only display loaded message if hide_banner=False

* Ensured notebook comms handle is registered

* Made notebook handle optional

* Updated notebook_comms examples

* Reverted changes to Comms

* Ensured kernel exists before registering comm target

* Updated unit tests

* Fixed JS comparison">Notebook output waits until bokehJS is loaded (</a><a href="https://github.com/bokeh/bokeh/pull/5014" class="issue-link js-issue-link" data-url="https://github.com/bokeh/bokeh/issues/5014" data-id="172578214" data-error-text="Failed to load issue title" data-permission-text="Issue title is private">#5014</a><a href="/bokeh/bokeh/commit/0d8204c127a436ee068810b819f287f43efafabf" class="message" data-pjax="true" title="Notebook output waits until bokehJS is loaded (#5014)

* Notebook output waits until bokehJS is loaded

* Removed unnecessary function

* Changed bokeh loading console message

* Added maximum loading timeout

* Created notebook autoload template

* Various fixes to notebook loading templates

* Added notebook load failure warning

* Added notebook loaded message

* Minor indentation fixes

* Simplified bokehJS loaded message

* Updated notebook load unit tests

* Small fixes autoload_nb_js template

* Fixed notebook initialization when hide_banner=True

* Only display loaded message if hide_banner=False

* Ensured notebook comms handle is registered

* Made notebook handle optional

* Updated notebook_comms examples

* Reverted changes to Comms

* Ensured kernel exists before registering comm target

* Updated unit tests

* Fixed JS comparison">)</a>
      </div>

    <div class="commit-tease-contributors">
      <button type="button" class="btn-link muted-link contributors-toggle" data-facebox="#blob_contributors_box">
        <strong>3</strong>
         contributors
      </button>
          <a class="avatar-link tooltipped tooltipped-s" aria-label="philippjfr" href="/bokeh/bokeh/commits/0.12.3/examples/howto/notebook_comms/Jupyter%20Interactors.ipynb?author=philippjfr"><img alt="@philippjfr" class="avatar" height="20" src="https://avatars2.githubusercontent.com/u/1550771?v=3&amp;s=40" width="20" /> </a>
    <a class="avatar-link tooltipped tooltipped-s" aria-label="birdsarah" href="/bokeh/bokeh/commits/0.12.3/examples/howto/notebook_comms/Jupyter%20Interactors.ipynb?author=birdsarah"><img alt="@birdsarah" class="avatar" height="20" src="https://avatars2.githubusercontent.com/u/1796208?v=3&amp;s=40" width="20" /> </a>
    <a class="avatar-link tooltipped tooltipped-s" aria-label="bryevdv" href="/bokeh/bokeh/commits/0.12.3/examples/howto/notebook_comms/Jupyter%20Interactors.ipynb?author=bryevdv"><img alt="@bryevdv" class="avatar" height="20" src="https://avatars2.githubusercontent.com/u/1078448?v=3&amp;s=40" width="20" /> </a>


    </div>

    <div id="blob_contributors_box" style="display:none">
      <h2 class="facebox-header" data-facebox-id="facebox-header">Users who have contributed to this file</h2>
      <ul class="facebox-user-list" data-facebox-id="facebox-description">
          <li class="facebox-user-list-item">
            <img alt="@philippjfr" height="24" src="https://avatars0.githubusercontent.com/u/1550771?v=3&amp;s=48" width="24" />
            <a href="/philippjfr">philippjfr</a>
          </li>
          <li class="facebox-user-list-item">
            <img alt="@birdsarah" height="24" src="https://avatars0.githubusercontent.com/u/1796208?v=3&amp;s=48" width="24" />
            <a href="/birdsarah">birdsarah</a>
          </li>
          <li class="facebox-user-list-item">
            <img alt="@bryevdv" height="24" src="https://avatars0.githubusercontent.com/u/1078448?v=3&amp;s=48" width="24" />
            <a href="/bryevdv">bryevdv</a>
          </li>
      </ul>
    </div>
  </div>


<div class="file">
  <div class="file-header">
  <div class="file-actions">

    <div class="BtnGroup">
      <a href="/bokeh/bokeh/raw/0.12.4/examples/howto/notebook_comms/Jupyter%20Interactors.ipynb" class="btn btn-sm BtnGroup-item" id="raw-url">Raw</a>
        <a href="/bokeh/bokeh/blame/0.12.4/examples/howto/notebook_comms/Jupyter%20Interactors.ipynb" class="btn btn-sm js-update-url-with-hash BtnGroup-item" data-hotkey="b">Blame</a>
      <a href="/bokeh/bokeh/commits/0.12.4/examples/howto/notebook_comms/Jupyter%20Interactors.ipynb" class="btn btn-sm BtnGroup-item" rel="nofollow">History</a>
    </div>


        <button type="button" class="btn-octicon disabled tooltipped tooltipped-nw"
          aria-label="You must be signed in to make or propose changes">
          <svg aria-hidden="true" class="octicon octicon-pencil" height="16" version="1.1" viewBox="0 0 14 16" width="14"><path fill-rule="evenodd" d="M0 12v3h3l8-8-3-3-8 8zm3 2H1v-2h1v1h1v1zm10.3-9.3L12 6 9 3l1.3-1.3a.996.996 0 0 1 1.41 0l1.59 1.59c.39.39.39 1.02 0 1.41z"/></svg>
        </button>
        <button type="button" class="btn-octicon btn-octicon-danger disabled tooltipped tooltipped-nw"
          aria-label="You must be signed in to make or propose changes">
          <svg aria-hidden="true" class="octicon octicon-trashcan" height="16" version="1.1" viewBox="0 0 12 16" width="12"><path fill-rule="evenodd" d="M11 2H9c0-.55-.45-1-1-1H5c-.55 0-1 .45-1 1H2c-.55 0-1 .45-1 1v1c0 .55.45 1 1 1v9c0 .55.45 1 1 1h7c.55 0 1-.45 1-1V5c.55 0 1-.45 1-1V3c0-.55-.45-1-1-1zm-1 12H3V5h1v8h1V5h1v8h1V5h1v8h1V5h1v9zm1-10H2V3h9v1z"/></svg>
        </button>
  </div>

  <div class="file-info">
      136 lines (135 sloc)
      <span class="file-info-divider"></span>
    2.98 KB
  </div>
</div>

  

  <div itemprop="text" class="blob-wrapper data type-jupyter-notebook">
      
  <div class="render-wrapper">
    <div class="render-container is-render-pending js-render-target "
      data-identity="a55d5474-487e-4e5a-897f-8b6338a7ad37"
      data-host="https://render.githubusercontent.com"
      data-type="ipynb">
      <img alt="" class="octospinner" height="64" src="https://assets-cdn.github.com/images/spinners/octocat-spinner-128.gif" width="64" />
      <div class="render-viewer-error">Sorry, something went wrong. <a href="https://github.com/bokeh/bokeh/blob/0.12.4/examples/howto/notebook_comms/Jupyter%20Interactors.ipynb">Reload?</a></div>
      <div class="render-viewer-fatal">Sorry, we cannot display this file.</div>
      <div class="render-viewer-invalid">Sorry, this file is invalid so it cannot be displayed.</div>
      <iframe class="render-viewer" src="https://render.githubusercontent.com/view/ipynb?commit=760396a6f253dd5f906db457d24bafaa1e3c2540&amp;enc_url=68747470733a2f2f7261772e67697468756275736572636f6e74656e742e636f6d2f626f6b65682f626f6b65682f373630333936613666323533646435663930366462343537643234626166616131653363323534302f6578616d706c65732f686f77746f2f6e6f7465626f6f6b5f636f6d6d732f4a757079746572253230496e7465726163746f72732e6970796e62&amp;nwo=bokeh%2Fbokeh&amp;path=examples%2Fhowto%2Fnotebook_comms%2FJupyter+Interactors.ipynb&amp;repository_id=3834332#a55d5474-487e-4e5a-897f-8b6338a7ad37" sandbox="allow-scripts allow-same-origin allow-top-navigation">Viewer requires iframe.</iframe>
    </div>
  </div>

  </div>

</div>

<button type="button" data-facebox="#jump-to-line" data-facebox-class="linejump" data-hotkey="l" class="d-none">Jump to Line</button>
<div id="jump-to-line" style="display:none">
  <!-- '"` --><!-- </textarea></xmp> --></option></form><form accept-charset="UTF-8" action="" class="js-jump-to-line-form" method="get"><div style="margin:0;padding:0;display:inline"><input name="utf8" type="hidden" value="&#x2713;" /></div>
    <input class="form-control linejump-input js-jump-to-line-field" type="text" placeholder="Jump to line&hellip;" aria-label="Jump to line" autofocus>
    <button type="submit" class="btn">Go</button>
</form></div>

  </div>
  <div class="modal-backdrop js-touch-events"></div>
</div>


    </div>
  </div>

  </div>

      <div class="container site-footer-container">
  <div class="site-footer" role="contentinfo">
    <ul class="site-footer-links float-right">
        <li><a href="https://github.com/contact" data-ga-click="Footer, go to contact, text:contact">Contact GitHub</a></li>
      <li><a href="https://developer.github.com" data-ga-click="Footer, go to api, text:api">API</a></li>
      <li><a href="https://training.github.com" data-ga-click="Footer, go to training, text:training">Training</a></li>
      <li><a href="https://shop.github.com" data-ga-click="Footer, go to shop, text:shop">Shop</a></li>
        <li><a href="https://github.com/blog" data-ga-click="Footer, go to blog, text:blog">Blog</a></li>
        <li><a href="https://github.com/about" data-ga-click="Footer, go to about, text:about">About</a></li>

    </ul>

    <a href="https://github.com" aria-label="Homepage" class="site-footer-mark" title="GitHub">
      <svg aria-hidden="true" class="octicon octicon-mark-github" height="24" version="1.1" viewBox="0 0 16 16" width="24"><path fill-rule="evenodd" d="M8 0C3.58 0 0 3.58 0 8c0 3.54 2.29 6.53 5.47 7.59.4.07.55-.17.55-.38 0-.19-.01-.82-.01-1.49-2.01.37-2.53-.49-2.69-.94-.09-.23-.48-.94-.82-1.13-.28-.15-.68-.52-.01-.53.63-.01 1.08.58 1.23.82.72 1.21 1.87.87 2.33.66.07-.52.28-.87.51-1.07-1.78-.2-3.64-.89-3.64-3.95 0-.87.31-1.59.82-2.15-.08-.2-.36-1.02.08-2.12 0 0 .67-.21 2.2.82.64-.18 1.32-.27 2-.27.68 0 1.36.09 2 .27 1.53-1.04 2.2-.82 2.2-.82.44 1.1.16 1.92.08 2.12.51.56.82 1.27.82 2.15 0 3.07-1.87 3.75-3.65 3.95.29.25.54.73.54 1.48 0 1.07-.01 1.93-.01 2.2 0 .21.15.46.55.38A8.013 8.013 0 0 0 16 8c0-4.42-3.58-8-8-8z"/></svg>
</a>
    <ul class="site-footer-links">
      <li>&copy; 2017 <span title="0.07382s from github-fe161-cp1-prd.iad.github.net">GitHub</span>, Inc.</li>
        <li><a href="https://github.com/site/terms" data-ga-click="Footer, go to terms, text:terms">Terms</a></li>
        <li><a href="https://github.com/site/privacy" data-ga-click="Footer, go to privacy, text:privacy">Privacy</a></li>
        <li><a href="https://github.com/security" data-ga-click="Footer, go to security, text:security">Security</a></li>
        <li><a href="https://status.github.com/" data-ga-click="Footer, go to status, text:status">Status</a></li>
        <li><a href="https://help.github.com" data-ga-click="Footer, go to help, text:help">Help</a></li>
    </ul>
  </div>
</div>



  

  <div id="ajax-error-message" class="ajax-error-message flash flash-error">
    <svg aria-hidden="true" class="octicon octicon-alert" height="16" version="1.1" viewBox="0 0 16 16" width="16"><path fill-rule="evenodd" d="M8.865 1.52c-.18-.31-.51-.5-.87-.5s-.69.19-.87.5L.275 13.5c-.18.31-.18.69 0 1 .19.31.52.5.87.5h13.7c.36 0 .69-.19.86-.5.17-.31.18-.69.01-1L8.865 1.52zM8.995 13h-2v-2h2v2zm0-3h-2V6h2v4z"/></svg>
    <button type="button" class="flash-close js-flash-close js-ajax-error-dismiss" aria-label="Dismiss error">
      <svg aria-hidden="true" class="octicon octicon-x" height="16" version="1.1" viewBox="0 0 12 16" width="12"><path fill-rule="evenodd" d="M7.48 8l3.75 3.75-1.48 1.48L6 9.48l-3.75 3.75-1.48-1.48L4.52 8 .77 4.25l1.48-1.48L6 6.52l3.75-3.75 1.48 1.48z"/></svg>
    </button>
    You can't perform that action at this time.
  </div>


    
    <script crossorigin="anonymous" integrity="sha256-UGFpyy/nYlS5IejJRN1AblyrLXGeZX6s6K2phIYjFHI=" src="https://assets-cdn.github.com/assets/frameworks-506169cb2fe76254b921e8c944dd406e5cab2d719e657eace8ada98486231472.js"></script>
    <script async="async" crossorigin="anonymous" integrity="sha256-nrR/vKgzIgtY04IzQr+/baIfC0MMDbvXMn+eNDU7rcU=" src="https://assets-cdn.github.com/assets/github-9eb47fbca833220b58d3823342bfbf6da21f0b430c0dbbd7327f9e34353badc5.js"></script>
    
    
    
    
  <div class="js-stale-session-flash stale-session-flash flash flash-warn flash-banner d-none">
    <svg aria-hidden="true" class="octicon octicon-alert" height="16" version="1.1" viewBox="0 0 16 16" width="16"><path fill-rule="evenodd" d="M8.865 1.52c-.18-.31-.51-.5-.87-.5s-.69.19-.87.5L.275 13.5c-.18.31-.18.69 0 1 .19.31.52.5.87.5h13.7c.36 0 .69-.19.86-.5.17-.31.18-.69.01-1L8.865 1.52zM8.995 13h-2v-2h2v2zm0-3h-2V6h2v4z"/></svg>
    <span class="signed-in-tab-flash">You signed in with another tab or window. <a href="">Reload</a> to refresh your session.</span>
    <span class="signed-out-tab-flash">You signed out in another tab or window. <a href="">Reload</a> to refresh your session.</span>
  </div>
  <div class="facebox" id="facebox" style="display:none;">
  <div class="facebox-popup">
    <div class="facebox-content" role="dialog" aria-labelledby="facebox-header" aria-describedby="facebox-description">
    </div>
    <button type="button" class="facebox-close js-facebox-close" aria-label="Close modal">
      <svg aria-hidden="true" class="octicon octicon-x" height="16" version="1.1" viewBox="0 0 12 16" width="12"><path fill-rule="evenodd" d="M7.48 8l3.75 3.75-1.48 1.48L6 9.48l-3.75 3.75-1.48-1.48L4.52 8 .77 4.25l1.48-1.48L6 6.52l3.75-3.75 1.48 1.48z"/></svg>
    </button>
  </div>
</div>


  </body>
</html>

