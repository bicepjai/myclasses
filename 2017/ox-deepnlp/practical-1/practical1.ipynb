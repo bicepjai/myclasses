{
 "cells": [
  {
   "cell_type": "markdown",
   "metadata": {},
   "source": [
    "## Practical 1: word2vec\n",
    "<p>Oxford CS - Deep NLP 2017<br>\n",
    "https://www.cs.ox.ac.uk/teaching/courses/2016-2017/dl/</p>\n",
    "<p>[Yannis Assael, Brendan Shillingford, Chris Dyer]</p>"
   ]
  },
  {
   "cell_type": "markdown",
   "metadata": {},
   "source": [
    "This practical is presented as an IPython Notebook, with the code written for recent versions of **Python 3**. The code in this practical will not work with Python 2 unless you modify it. If you are using your own Python installation, ensure you have a setup identical to that described in the installation shell script (which is intended for use with the department lab machines). We will be unable to support installation on personal machines due to time constraints, so please use the lab machines and the setup script if you are unfamiliar with how to install Anaconda.\n",
    "\n",
    "To execute a notebook cell, press `shift-enter`. The return value of the last command will be displayed, if it is not `None`.\n",
    "\n",
    "Potentially useful library documentation, references, and resources:\n",
    "\n",
    "* IPython notebooks: <https://ipython.org/ipython-doc/3/notebook/notebook.html#introduction>\n",
    "* Numpy numerical array library: <https://docs.scipy.org/doc/>\n",
    "* Gensim's word2vec: <https://radimrehurek.com/gensim/models/word2vec.html>\n",
    "* Bokeh interactive plots: <http://bokeh.pydata.org/en/latest/> (we provide plotting code here, but click the thumbnails for more examples to copy-paste)\n",
    "* scikit-learn ML library (aka `sklearn`): <http://scikit-learn.org/stable/documentation.html>\n",
    "* nltk NLP toolkit: <http://www.nltk.org/>\n",
    "* tutorial for processing xml in python using `lxml`: <http://lxml.de/tutorial.html> (we did this for you below, but in case you need it in the future)"
   ]
  },
  {
   "cell_type": "code",
   "execution_count": 1,
   "metadata": {
    "collapsed": true
   },
   "outputs": [],
   "source": [
    "import numpy as np\n",
    "import os\n",
    "from random import shuffle\n",
    "import re"
   ]
  },
  {
   "cell_type": "code",
   "execution_count": 2,
   "metadata": {},
   "outputs": [
    {
     "data": {
      "text/html": [
       "\n",
       "    <div class=\"bk-root\">\n",
       "        <a href=\"http://bokeh.pydata.org\" target=\"_blank\" class=\"bk-logo bk-logo-small bk-logo-notebook\"></a>\n",
       "        <span id=\"41eae49f-29ed-40c6-a578-f447cbc530ba\">Loading BokehJS ...</span>\n",
       "    </div>"
      ]
     },
     "metadata": {},
     "output_type": "display_data"
    },
    {
     "data": {
      "application/javascript": [
       "\n",
       "(function(global) {\n",
       "  function now() {\n",
       "    return new Date();\n",
       "  }\n",
       "\n",
       "  var force = true;\n",
       "\n",
       "  if (typeof (window._bokeh_onload_callbacks) === \"undefined\" || force === true) {\n",
       "    window._bokeh_onload_callbacks = [];\n",
       "    window._bokeh_is_loading = undefined;\n",
       "  }\n",
       "\n",
       "\n",
       "  \n",
       "  if (typeof (window._bokeh_timeout) === \"undefined\" || force === true) {\n",
       "    window._bokeh_timeout = Date.now() + 5000;\n",
       "    window._bokeh_failed_load = false;\n",
       "  }\n",
       "\n",
       "  var NB_LOAD_WARNING = {'data': {'text/html':\n",
       "     \"<div style='background-color: #fdd'>\\n\"+\n",
       "     \"<p>\\n\"+\n",
       "     \"BokehJS does not appear to have successfully loaded. If loading BokehJS from CDN, this \\n\"+\n",
       "     \"may be due to a slow or bad network connection. Possible fixes:\\n\"+\n",
       "     \"</p>\\n\"+\n",
       "     \"<ul>\\n\"+\n",
       "     \"<li>re-rerun `output_notebook()` to attempt to load from CDN again, or</li>\\n\"+\n",
       "     \"<li>use INLINE resources instead, as so:</li>\\n\"+\n",
       "     \"</ul>\\n\"+\n",
       "     \"<code>\\n\"+\n",
       "     \"from bokeh.resources import INLINE\\n\"+\n",
       "     \"output_notebook(resources=INLINE)\\n\"+\n",
       "     \"</code>\\n\"+\n",
       "     \"</div>\"}};\n",
       "\n",
       "  function display_loaded() {\n",
       "    if (window.Bokeh !== undefined) {\n",
       "      var el = document.getElementById(\"41eae49f-29ed-40c6-a578-f447cbc530ba\");\n",
       "      el.textContent = \"BokehJS \" + Bokeh.version + \" successfully loaded.\";\n",
       "    } else if (Date.now() < window._bokeh_timeout) {\n",
       "      setTimeout(display_loaded, 100)\n",
       "    }\n",
       "  }\n",
       "\n",
       "  function run_callbacks() {\n",
       "    try {\n",
       "      window._bokeh_onload_callbacks.forEach(function(callback) { callback() });\n",
       "    }\n",
       "    finally {\n",
       "      delete window._bokeh_onload_callbacks\n",
       "    }\n",
       "    console.info(\"Bokeh: all callbacks have finished\");\n",
       "  }\n",
       "\n",
       "  function load_libs(js_urls, callback) {\n",
       "    window._bokeh_onload_callbacks.push(callback);\n",
       "    if (window._bokeh_is_loading > 0) {\n",
       "      console.log(\"Bokeh: BokehJS is being loaded, scheduling callback at\", now());\n",
       "      return null;\n",
       "    }\n",
       "    if (js_urls == null || js_urls.length === 0) {\n",
       "      run_callbacks();\n",
       "      return null;\n",
       "    }\n",
       "    console.log(\"Bokeh: BokehJS not loaded, scheduling load and callback at\", now());\n",
       "    window._bokeh_is_loading = js_urls.length;\n",
       "    for (var i = 0; i < js_urls.length; i++) {\n",
       "      var url = js_urls[i];\n",
       "      var s = document.createElement('script');\n",
       "      s.src = url;\n",
       "      s.async = false;\n",
       "      s.onreadystatechange = s.onload = function() {\n",
       "        window._bokeh_is_loading--;\n",
       "        if (window._bokeh_is_loading === 0) {\n",
       "          console.log(\"Bokeh: all BokehJS libraries loaded\");\n",
       "          run_callbacks()\n",
       "        }\n",
       "      };\n",
       "      s.onerror = function() {\n",
       "        console.warn(\"failed to load library \" + url);\n",
       "      };\n",
       "      console.log(\"Bokeh: injecting script tag for BokehJS library: \", url);\n",
       "      document.getElementsByTagName(\"head\")[0].appendChild(s);\n",
       "    }\n",
       "  };var element = document.getElementById(\"41eae49f-29ed-40c6-a578-f447cbc530ba\");\n",
       "  if (element == null) {\n",
       "    console.log(\"Bokeh: ERROR: autoload.js configured with elementid '41eae49f-29ed-40c6-a578-f447cbc530ba' but no matching script tag was found. \")\n",
       "    return false;\n",
       "  }\n",
       "\n",
       "  var js_urls = [\"https://cdn.pydata.org/bokeh/release/bokeh-0.12.6.min.js\", \"https://cdn.pydata.org/bokeh/release/bokeh-widgets-0.12.6.min.js\"];\n",
       "\n",
       "  var inline_js = [\n",
       "    function(Bokeh) {\n",
       "      Bokeh.set_log_level(\"info\");\n",
       "    },\n",
       "    \n",
       "    function(Bokeh) {\n",
       "      \n",
       "    },\n",
       "    \n",
       "    function(Bokeh) {\n",
       "      \n",
       "      document.getElementById(\"41eae49f-29ed-40c6-a578-f447cbc530ba\").textContent = \"BokehJS is loading...\";\n",
       "    },\n",
       "    function(Bokeh) {\n",
       "      console.log(\"Bokeh: injecting CSS: https://cdn.pydata.org/bokeh/release/bokeh-0.12.6.min.css\");\n",
       "      Bokeh.embed.inject_css(\"https://cdn.pydata.org/bokeh/release/bokeh-0.12.6.min.css\");\n",
       "      console.log(\"Bokeh: injecting CSS: https://cdn.pydata.org/bokeh/release/bokeh-widgets-0.12.6.min.css\");\n",
       "      Bokeh.embed.inject_css(\"https://cdn.pydata.org/bokeh/release/bokeh-widgets-0.12.6.min.css\");\n",
       "    }\n",
       "  ];\n",
       "\n",
       "  function run_inline_js() {\n",
       "    \n",
       "    if ((window.Bokeh !== undefined) || (force === true)) {\n",
       "      for (var i = 0; i < inline_js.length; i++) {\n",
       "        inline_js[i](window.Bokeh);\n",
       "      }if (force === true) {\n",
       "        display_loaded();\n",
       "      }} else if (Date.now() < window._bokeh_timeout) {\n",
       "      setTimeout(run_inline_js, 100);\n",
       "    } else if (!window._bokeh_failed_load) {\n",
       "      console.log(\"Bokeh: BokehJS failed to load within specified timeout.\");\n",
       "      window._bokeh_failed_load = true;\n",
       "    } else if (force !== true) {\n",
       "      var cell = $(document.getElementById(\"41eae49f-29ed-40c6-a578-f447cbc530ba\")).parents('.cell').data().cell;\n",
       "      cell.output_area.append_execute_result(NB_LOAD_WARNING)\n",
       "    }\n",
       "\n",
       "  }\n",
       "\n",
       "  if (window._bokeh_is_loading === 0) {\n",
       "    console.log(\"Bokeh: BokehJS loaded, going straight to plotting\");\n",
       "    run_inline_js();\n",
       "  } else {\n",
       "    load_libs(js_urls, function() {\n",
       "      console.log(\"Bokeh: BokehJS plotting callback run at\", now());\n",
       "      run_inline_js();\n",
       "    });\n",
       "  }\n",
       "}(this));"
      ]
     },
     "metadata": {},
     "output_type": "display_data"
    }
   ],
   "source": [
    "from bokeh.models import ColumnDataSource, LabelSet\n",
    "from bokeh.plotting import figure, show, output_file\n",
    "from bokeh.io import output_notebook\n",
    "output_notebook()"
   ]
  },
  {
   "cell_type": "code",
   "execution_count": 32,
   "metadata": {},
   "outputs": [
    {
     "name": "stdout",
     "output_type": "stream",
     "text": [
      "The autotime extension is already loaded. To reload it, use:\n",
      "  %reload_ext autotime\n",
      "time: 8.55 ms\n"
     ]
    }
   ],
   "source": [
    "import tqdm \n",
    "%load_ext autotime"
   ]
  },
  {
   "cell_type": "markdown",
   "metadata": {},
   "source": [
    "### Part 0: Download the TED dataset"
   ]
  },
  {
   "cell_type": "code",
   "execution_count": 21,
   "metadata": {},
   "outputs": [
    {
     "name": "stdout",
     "output_type": "stream",
     "text": [
      "time: 2.63 ms\n"
     ]
    }
   ],
   "source": [
    "import urllib.request\n",
    "import zipfile\n",
    "import lxml.etree"
   ]
  },
  {
   "cell_type": "code",
   "execution_count": 22,
   "metadata": {},
   "outputs": [
    {
     "name": "stdout",
     "output_type": "stream",
     "text": [
      "time: 3.37 ms\n"
     ]
    }
   ],
   "source": [
    "# Download the dataset if it's not already there: this may take a minute as it is 75MB\n",
    "if not os.path.isfile('ted_en-20160408.zip'):\n",
    "    urllib.request.urlretrieve(\"https://wit3.fbk.eu/get.php?path=XML_releases/xml/ted_en-20160408.zip&filename=ted_en-20160408.zip\", filename=\"ted_en-20160408.zip\")"
   ]
  },
  {
   "cell_type": "code",
   "execution_count": 23,
   "metadata": {},
   "outputs": [
    {
     "name": "stdout",
     "output_type": "stream",
     "text": [
      "time: 1.36 s\n"
     ]
    }
   ],
   "source": [
    "# For now, we're only interested in the subtitle text, so let's extract that from the XML:\n",
    "with zipfile.ZipFile('ted_en-20160408.zip', 'r') as z:\n",
    "    doc = lxml.etree.parse(z.open('ted_en-20160408.xml', 'r'))\n",
    "input_text = '\\n'.join(doc.xpath('//content/text()'))\n",
    "del doc"
   ]
  },
  {
   "cell_type": "markdown",
   "metadata": {},
   "source": [
    "### Part 1: Preprocessing\n",
    "\n",
    "In this part, we attempt to clean up the raw subtitles a bit, so that we get only sentences. The following substring shows examples of what we're trying to get rid of. Since it's hard to define precisely what we want to get rid of, we'll just use some simple heuristics."
   ]
  },
  {
   "cell_type": "code",
   "execution_count": 24,
   "metadata": {
    "scrolled": false
   },
   "outputs": [
    {
     "data": {
      "text/plain": [
       "' baby does.\\n(Video) Hyowon Gweon: See this? (Ball squeaks) Did you see that? (Ball squeaks) Cool. See this one? (Ball squeaks) Wow.\\nLaura Schulz: Told you. (Laughs)\\n(Vide'"
      ]
     },
     "execution_count": 24,
     "metadata": {},
     "output_type": "execute_result"
    },
    {
     "name": "stdout",
     "output_type": "stream",
     "text": [
      "time: 3.19 ms\n"
     ]
    }
   ],
   "source": [
    "i = input_text.find(\"Hyowon Gweon: See this?\")\n",
    "input_text[i-20:i+150]"
   ]
  },
  {
   "cell_type": "markdown",
   "metadata": {},
   "source": [
    "Let's start by removing all parenthesized strings using a regex:"
   ]
  },
  {
   "cell_type": "code",
   "execution_count": 25,
   "metadata": {},
   "outputs": [
    {
     "name": "stdout",
     "output_type": "stream",
     "text": [
      "time: 76.9 ms\n"
     ]
    }
   ],
   "source": [
    "input_text_noparens = re.sub(r'\\([^)]*\\)', '', input_text)"
   ]
  },
  {
   "cell_type": "markdown",
   "metadata": {},
   "source": [
    "We can verify the same location in the text is now clean as follows. We won't worry about the irregular spaces since we'll later split the text into sentences and tokenize it anyway."
   ]
  },
  {
   "cell_type": "code",
   "execution_count": 26,
   "metadata": {},
   "outputs": [
    {
     "data": {
      "text/plain": [
       "\"hat the baby does.\\n Hyowon Gweon: See this?  Did you see that?  Cool. See this one?  Wow.\\nLaura Schulz: Told you. \\n HG: See this one?  Hey Clara, this one's for you. You \""
      ]
     },
     "execution_count": 26,
     "metadata": {},
     "output_type": "execute_result"
    },
    {
     "name": "stdout",
     "output_type": "stream",
     "text": [
      "time: 8.68 ms\n"
     ]
    }
   ],
   "source": [
    "i = input_text_noparens.find(\"Hyowon Gweon: See this?\")\n",
    "input_text_noparens[i-20:i+150]"
   ]
  },
  {
   "cell_type": "markdown",
   "metadata": {},
   "source": [
    "Now, let's attempt to remove speakers' names that occur at the beginning of a line, by deleting pieces of the form \"`<up to 20 characters>:`\", as shown in this example. Of course, this is an imperfect heuristic. "
   ]
  },
  {
   "cell_type": "code",
   "execution_count": 27,
   "metadata": {},
   "outputs": [
    {
     "data": {
      "text/plain": [
       "[\"Here are two reasons companies fail: they only do more of the same, or they only do what's new\",\n",
       " 'To me the real, real solution to quality growth is figuring out the balance between two activities: exploration and exploitation',\n",
       " ' Both are necessary, but it can be too much of a good thing',\n",
       " 'Consider Facit',\n",
       " \" I'm actually old enough to remember them\"]"
      ]
     },
     "execution_count": 27,
     "metadata": {},
     "output_type": "execute_result"
    },
    {
     "name": "stdout",
     "output_type": "stream",
     "text": [
      "time: 303 ms\n"
     ]
    }
   ],
   "source": [
    "sentences_strings_ted = []\n",
    "for line in input_text_noparens.split('\\n'):\n",
    "    m = re.match(r'^(?:(?P<precolon>[^:]{,20}):)?(?P<postcolon>.*)$', line)\n",
    "    sentences_strings_ted.extend(sent for sent in m.groupdict()['postcolon'].split('.') if sent)\n",
    "\n",
    "# Uncomment if you need to save some RAM: these strings are about 50MB.\n",
    "# del input_text, input_text_noparens\n",
    "\n",
    "# Let's view the first few:\n",
    "sentences_strings_ted[:5]"
   ]
  },
  {
   "cell_type": "markdown",
   "metadata": {},
   "source": [
    "Now that we have sentences, we're ready to tokenize each of them into words. This tokenization is imperfect, of course. For instance, how many tokens is \"can't\", and where/how do we split it? We'll take the simplest naive approach of splitting on spaces. Before splitting, we remove non-alphanumeric characters, such as punctuation. You may want to consider the following question: why do we replace these characters with spaces rather than deleting them? Think of a case where this yields a different answer."
   ]
  },
  {
   "cell_type": "code",
   "execution_count": 28,
   "metadata": {},
   "outputs": [
    {
     "name": "stdout",
     "output_type": "stream",
     "text": [
      "time: 2.46 s\n"
     ]
    }
   ],
   "source": [
    "sentences_ted = []\n",
    "for sent_str in sentences_strings_ted:\n",
    "    tokens = re.sub(r\"[^a-z0-9]+\", \" \", sent_str.lower()).split()\n",
    "    sentences_ted.append(tokens)"
   ]
  },
  {
   "cell_type": "markdown",
   "metadata": {},
   "source": [
    "Two sample processed sentences:"
   ]
  },
  {
   "cell_type": "code",
   "execution_count": 29,
   "metadata": {},
   "outputs": [
    {
     "data": {
      "text/plain": [
       "266694"
      ]
     },
     "execution_count": 29,
     "metadata": {},
     "output_type": "execute_result"
    },
    {
     "name": "stdout",
     "output_type": "stream",
     "text": [
      "time: 2.17 ms\n"
     ]
    }
   ],
   "source": [
    "len(sentences_ted)"
   ]
  },
  {
   "cell_type": "code",
   "execution_count": 30,
   "metadata": {},
   "outputs": [
    {
     "name": "stdout",
     "output_type": "stream",
     "text": [
      "['here', 'are', 'two', 'reasons', 'companies', 'fail', 'they', 'only', 'do', 'more', 'of', 'the', 'same', 'or', 'they', 'only', 'do', 'what', 's', 'new']\n",
      "['to', 'me', 'the', 'real', 'real', 'solution', 'to', 'quality', 'growth', 'is', 'figuring', 'out', 'the', 'balance', 'between', 'two', 'activities', 'exploration', 'and', 'exploitation']\n",
      "time: 1.78 ms\n"
     ]
    }
   ],
   "source": [
    "print(sentences_ted[0])\n",
    "print(sentences_ted[1])"
   ]
  },
  {
   "cell_type": "markdown",
   "metadata": {},
   "source": [
    "### Part 2: Word Frequencies"
   ]
  },
  {
   "cell_type": "markdown",
   "metadata": {},
   "source": [
    "If you store the counts of the top 1000 words in a list called `counts_ted_top1000`, the code below will plot the histogram requested in the writeup."
   ]
  },
  {
   "cell_type": "code",
   "execution_count": 35,
   "metadata": {},
   "outputs": [
    {
     "name": "stderr",
     "output_type": "stream",
     "text": [
      "100%|██████████| 266694/266694 [09:40<00:00, 459.52it/s]"
     ]
    },
    {
     "name": "stdout",
     "output_type": "stream",
     "text": [
      "time: 9min 42s\n"
     ]
    },
    {
     "name": "stderr",
     "output_type": "stream",
     "text": [
      "\n"
     ]
    }
   ],
   "source": [
    "from collections import Counter\n",
    "ted_word_counts = [Counter(sentence_list) for sentence_list in sentences_ted]\n",
    "final_counts = Counter()\n",
    "for ted_count in tqdm.tqdm(ted_word_counts):\n",
    "    final_counts += ted_count\n"
   ]
  },
  {
   "cell_type": "code",
   "execution_count": 36,
   "metadata": {},
   "outputs": [
    {
     "name": "stdout",
     "output_type": "stream",
     "text": [
      "time: 56.4 ms\n"
     ]
    }
   ],
   "source": [
    "import operator\n",
    "len(final_counts.keys())\n",
    "sorted_final_counts = sorted(final_counts.items(), key=operator.itemgetter(1))\n",
    "sorted_final_counts.reverse()\n",
    "counts_ted_top1000 = np.array([value for _,value in sorted_final_counts[:1000]])\n",
    "words_top_ted = [key for key,_ in sorted_final_counts[:1000]]"
   ]
  },
  {
   "cell_type": "markdown",
   "metadata": {},
   "source": [
    "Plot distribution of top-1000 words"
   ]
  },
  {
   "cell_type": "code",
   "execution_count": 37,
   "metadata": {},
   "outputs": [
    {
     "data": {
      "text/html": [
       "\n",
       "\n",
       "    <div class=\"bk-root\">\n",
       "        <div class=\"bk-plotdiv\" id=\"e4e6c893-bdf0-454b-9db5-c7bb2a68cc80\"></div>\n",
       "    </div>\n",
       "<script type=\"text/javascript\">\n",
       "  \n",
       "  (function(global) {\n",
       "    function now() {\n",
       "      return new Date();\n",
       "    }\n",
       "  \n",
       "    var force = false;\n",
       "  \n",
       "    if (typeof (window._bokeh_onload_callbacks) === \"undefined\" || force === true) {\n",
       "      window._bokeh_onload_callbacks = [];\n",
       "      window._bokeh_is_loading = undefined;\n",
       "    }\n",
       "  \n",
       "  \n",
       "    \n",
       "    if (typeof (window._bokeh_timeout) === \"undefined\" || force === true) {\n",
       "      window._bokeh_timeout = Date.now() + 0;\n",
       "      window._bokeh_failed_load = false;\n",
       "    }\n",
       "  \n",
       "    var NB_LOAD_WARNING = {'data': {'text/html':\n",
       "       \"<div style='background-color: #fdd'>\\n\"+\n",
       "       \"<p>\\n\"+\n",
       "       \"BokehJS does not appear to have successfully loaded. If loading BokehJS from CDN, this \\n\"+\n",
       "       \"may be due to a slow or bad network connection. Possible fixes:\\n\"+\n",
       "       \"</p>\\n\"+\n",
       "       \"<ul>\\n\"+\n",
       "       \"<li>re-rerun `output_notebook()` to attempt to load from CDN again, or</li>\\n\"+\n",
       "       \"<li>use INLINE resources instead, as so:</li>\\n\"+\n",
       "       \"</ul>\\n\"+\n",
       "       \"<code>\\n\"+\n",
       "       \"from bokeh.resources import INLINE\\n\"+\n",
       "       \"output_notebook(resources=INLINE)\\n\"+\n",
       "       \"</code>\\n\"+\n",
       "       \"</div>\"}};\n",
       "  \n",
       "    function display_loaded() {\n",
       "      if (window.Bokeh !== undefined) {\n",
       "        var el = document.getElementById(\"e4e6c893-bdf0-454b-9db5-c7bb2a68cc80\");\n",
       "        el.textContent = \"BokehJS \" + Bokeh.version + \" successfully loaded.\";\n",
       "      } else if (Date.now() < window._bokeh_timeout) {\n",
       "        setTimeout(display_loaded, 100)\n",
       "      }\n",
       "    }\n",
       "  \n",
       "    function run_callbacks() {\n",
       "      try {\n",
       "        window._bokeh_onload_callbacks.forEach(function(callback) { callback() });\n",
       "      }\n",
       "      finally {\n",
       "        delete window._bokeh_onload_callbacks\n",
       "      }\n",
       "      console.info(\"Bokeh: all callbacks have finished\");\n",
       "    }\n",
       "  \n",
       "    function load_libs(js_urls, callback) {\n",
       "      window._bokeh_onload_callbacks.push(callback);\n",
       "      if (window._bokeh_is_loading > 0) {\n",
       "        console.log(\"Bokeh: BokehJS is being loaded, scheduling callback at\", now());\n",
       "        return null;\n",
       "      }\n",
       "      if (js_urls == null || js_urls.length === 0) {\n",
       "        run_callbacks();\n",
       "        return null;\n",
       "      }\n",
       "      console.log(\"Bokeh: BokehJS not loaded, scheduling load and callback at\", now());\n",
       "      window._bokeh_is_loading = js_urls.length;\n",
       "      for (var i = 0; i < js_urls.length; i++) {\n",
       "        var url = js_urls[i];\n",
       "        var s = document.createElement('script');\n",
       "        s.src = url;\n",
       "        s.async = false;\n",
       "        s.onreadystatechange = s.onload = function() {\n",
       "          window._bokeh_is_loading--;\n",
       "          if (window._bokeh_is_loading === 0) {\n",
       "            console.log(\"Bokeh: all BokehJS libraries loaded\");\n",
       "            run_callbacks()\n",
       "          }\n",
       "        };\n",
       "        s.onerror = function() {\n",
       "          console.warn(\"failed to load library \" + url);\n",
       "        };\n",
       "        console.log(\"Bokeh: injecting script tag for BokehJS library: \", url);\n",
       "        document.getElementsByTagName(\"head\")[0].appendChild(s);\n",
       "      }\n",
       "    };var element = document.getElementById(\"e4e6c893-bdf0-454b-9db5-c7bb2a68cc80\");\n",
       "    if (element == null) {\n",
       "      console.log(\"Bokeh: ERROR: autoload.js configured with elementid 'e4e6c893-bdf0-454b-9db5-c7bb2a68cc80' but no matching script tag was found. \")\n",
       "      return false;\n",
       "    }\n",
       "  \n",
       "    var js_urls = [];\n",
       "  \n",
       "    var inline_js = [\n",
       "      function(Bokeh) {\n",
       "        (function() {\n",
       "          var fn = function() {\n",
       "            var docs_json = {\"703bd736-768f-4395-a173-eb0c00e2b64d\":{\"roots\":{\"references\":[{\"attributes\":{},\"id\":\"2293aba3-b256-47ef-a735-dc911fa06e5f\",\"type\":\"LinearScale\"},{\"attributes\":{\"plot\":{\"id\":\"795bac67-63a3-458c-8fe1-91fe7fb1a165\",\"subtype\":\"Figure\",\"type\":\"Plot\"}},\"id\":\"89abff3e-e5bf-47cd-87dd-9aa232c09e17\",\"type\":\"WheelZoomTool\"},{\"attributes\":{\"plot\":{\"id\":\"795bac67-63a3-458c-8fe1-91fe7fb1a165\",\"subtype\":\"Figure\",\"type\":\"Plot\"}},\"id\":\"20d5e643-e8b3-4214-957c-53ff78d0923a\",\"type\":\"PanTool\"},{\"attributes\":{\"dimension\":1,\"plot\":{\"id\":\"795bac67-63a3-458c-8fe1-91fe7fb1a165\",\"subtype\":\"Figure\",\"type\":\"Plot\"},\"ticker\":{\"id\":\"0cec4202-4f69-4d73-b606-b24399989e1d\",\"type\":\"BasicTicker\"}},\"id\":\"6c5ad81e-2758-4fc3-a4fd-1a7209e378cf\",\"type\":\"Grid\"},{\"attributes\":{},\"id\":\"0cec4202-4f69-4d73-b606-b24399989e1d\",\"type\":\"BasicTicker\"},{\"attributes\":{\"plot\":null,\"text\":\"Top-1000 words distribution\"},\"id\":\"eaaf21ed-eae2-4c0d-b8a0-ce466c14c989\",\"type\":\"Title\"},{\"attributes\":{\"formatter\":{\"id\":\"4ec511b2-8028-40c8-b2b8-67dde1611983\",\"type\":\"BasicTickFormatter\"},\"plot\":{\"id\":\"795bac67-63a3-458c-8fe1-91fe7fb1a165\",\"subtype\":\"Figure\",\"type\":\"Plot\"},\"ticker\":{\"id\":\"0cec4202-4f69-4d73-b606-b24399989e1d\",\"type\":\"BasicTicker\"}},\"id\":\"6911c0bf-d6ef-4272-9b8b-3366cf2f1a09\",\"type\":\"LinearAxis\"},{\"attributes\":{\"bottom\":{\"value\":0},\"fill_alpha\":{\"value\":0.1},\"fill_color\":{\"value\":\"#1f77b4\"},\"left\":{\"field\":\"left\"},\"line_alpha\":{\"value\":0.1},\"line_color\":{\"value\":\"#1f77b4\"},\"right\":{\"field\":\"right\"},\"top\":{\"field\":\"top\"}},\"id\":\"2bdaaeaa-3267-429d-8f06-cb14daffec91\",\"type\":\"Quad\"},{\"attributes\":{\"formatter\":{\"id\":\"c26bf9aa-5b5e-4703-ac38-c4c9081e4e2c\",\"type\":\"BasicTickFormatter\"},\"plot\":{\"id\":\"795bac67-63a3-458c-8fe1-91fe7fb1a165\",\"subtype\":\"Figure\",\"type\":\"Plot\"},\"ticker\":{\"id\":\"2e837aea-015a-4a12-8f28-5b74cd042f1a\",\"type\":\"BasicTicker\"}},\"id\":\"5ece583e-4320-451f-99d9-0c7ae229e3e5\",\"type\":\"LinearAxis\"},{\"attributes\":{\"active_drag\":\"auto\",\"active_inspect\":\"auto\",\"active_scroll\":\"auto\",\"active_tap\":\"auto\",\"tools\":[{\"id\":\"20d5e643-e8b3-4214-957c-53ff78d0923a\",\"type\":\"PanTool\"},{\"id\":\"89abff3e-e5bf-47cd-87dd-9aa232c09e17\",\"type\":\"WheelZoomTool\"},{\"id\":\"dc49d7bb-d021-401d-8ddc-ae95259ae9ce\",\"type\":\"ResetTool\"},{\"id\":\"5ac2e3c3-cd61-42c2-a8ef-6a45dcb7fc1a\",\"type\":\"SaveTool\"}]},\"id\":\"8f81e857-4ec5-4f3e-b825-c228ab8b320d\",\"type\":\"Toolbar\"},{\"attributes\":{\"plot\":{\"id\":\"795bac67-63a3-458c-8fe1-91fe7fb1a165\",\"subtype\":\"Figure\",\"type\":\"Plot\"},\"ticker\":{\"id\":\"2e837aea-015a-4a12-8f28-5b74cd042f1a\",\"type\":\"BasicTicker\"}},\"id\":\"03d5f0aa-d274-4945-b373-4c5b0fe549d3\",\"type\":\"Grid\"},{\"attributes\":{},\"id\":\"c26bf9aa-5b5e-4703-ac38-c4c9081e4e2c\",\"type\":\"BasicTickFormatter\"},{\"attributes\":{\"callback\":null,\"column_names\":[\"left\",\"right\",\"top\"],\"data\":{\"left\":{\"__ndarray__\":\"AAAAAABAeUB7FK5H4VqjQHsUrkfhxrFAuB6F61HguUB7FK5H4fzAQJqZmZmZCcVAuB6F61EWyUDXo3A9CiPNQHsUrkfhl9BACtejcD2e0kCamZmZmaTUQClcj8L1qtZAuB6F61Gx2EBI4XoUrrfaQNejcD0KvtxAZ2ZmZmbE3kB7FK5HYWXgQMP1KFyPaOFACtejcL1r4kBSuB6F627jQJqZmZkZcuRA4XoUrkd15UApXI/CdXjmQHE9Cteje+dAuB6F69F+6EAAAAAAAILpQEjhehQuhepAkML1KFyI60DXo3A9iovsQB+F61G4ju1AZ2ZmZuaR7kCuR+F6FJXvQHsUrkchTPBAH4XrUbjN8EDD9ShcT0/xQGdmZmbm0PFACtejcH1S8kCuR+F6FNTyQFK4HoWrVfNA9ihcj0LX80CamZmZ2Vj0QD4K16Nw2vRA4XoUrgdc9UCF61G4nt31QClcj8I1X/ZAzczMzMzg9kBxPQrXY2L3QBWuR+H64/dAuB6F65Fl+EBcj8L1KOf4QAAAAADAaPlApHA9Clfq+UBI4XoU7mv6QOxRuB6F7fpAkML1KBxv+0AzMzMzs/D7QNejcD1KcvxAexSuR+Hz/EAfhetReHX9QMP1KFwP9/1AZ2ZmZqZ4/kAK16NwPfr+QK5H4XrUe/9AUrgehWv9/0B7FK5HgT8AQc3MzMxMgABBH4XrURjBAEFxPQrX4wEBQcP1KFyvQgFBFa5H4XqDAUFnZmZmRsQBQbgehesRBQJBCtejcN1FAkFcj8L1qIYCQa5H4Xp0xwJBAAAAAEAIA0FSuB6FC0kDQaRwPQrXiQNB9ihcj6LKA0FI4XoUbgsEQZqZmZk5TARB7FG4HgWNBEE+Ctej0M0EQZDC9SicDgVB4XoUrmdPBUEzMzMzM5AFQYXrUbj+0AVB16NwPcoRBkEpXI/ClVIGQXsUrkdhkwZBzczMzCzUBkEfhetR+BQHQXE9CtfDVQdBw/UoXI+WB0EVrkfhWtcHQWdmZmYmGAhBuB6F6/FYCEEK16NwvZkIQVyPwvWI2ghBrkfhelQbCUE=\",\"dtype\":\"float64\",\"shape\":[100]},\"right\":{\"__ndarray__\":\"exSuR+Fao0B7FK5H4caxQLgehetR4LlAexSuR+H8wECamZmZmQnFQLgehetRFslA16NwPQojzUB7FK5H4ZfQQArXo3A9ntJAmpmZmZmk1EApXI/C9arWQLgehetRsdhASOF6FK632kDXo3A9Cr7cQGdmZmZmxN5AexSuR2Fl4EDD9Shcj2jhQArXo3C9a+JAUrgehetu40CamZmZGXLkQOF6FK5HdeVAKVyPwnV45kBxPQrXo3vnQLgehevRfuhAAAAAAACC6UBI4XoULoXqQJDC9ShciOtA16NwPYqL7EAfhetRuI7tQGdmZmbmke5ArkfhehSV70B7FK5HIUzwQB+F61G4zfBAw/UoXE9P8UBnZmZm5tDxQArXo3B9UvJArkfhehTU8kBSuB6Fq1XzQPYoXI9C1/NAmpmZmdlY9EA+CtejcNr0QOF6FK4HXPVAhetRuJ7d9UApXI/CNV/2QM3MzMzM4PZAcT0K12Ni90AVrkfh+uP3QLgeheuRZfhAXI/C9Sjn+EAAAAAAwGj5QKRwPQpX6vlASOF6FO5r+kDsUbgehe36QJDC9Sgcb/tAMzMzM7Pw+0DXo3A9SnL8QHsUrkfh8/xAH4XrUXh1/UDD9ShcD/f9QGdmZmameP5ACtejcD36/kCuR+F61Hv/QFK4HoVr/f9AexSuR4E/AEHNzMzMTIAAQR+F61EYwQBBcT0K1+MBAUHD9Shcr0IBQRWuR+F6gwFBZ2ZmZkbEAUG4HoXrEQUCQQrXo3DdRQJBXI/C9aiGAkGuR+F6dMcCQQAAAABACANBUrgehQtJA0GkcD0K14kDQfYoXI+iygNBSOF6FG4LBEGamZmZOUwEQexRuB4FjQRBPgrXo9DNBEGQwvUonA4FQeF6FK5nTwVBMzMzMzOQBUGF61G4/tAFQdejcD3KEQZBKVyPwpVSBkF7FK5HYZMGQc3MzMws1AZBH4XrUfgUB0FxPQrXw1UHQcP1KFyPlgdBFa5H4VrXB0FnZmZmJhgIQbgehevxWAhBCtejcL2ZCEFcj8L1iNoIQa5H4XpUGwlBAAAAACBcCUE=\",\"dtype\":\"float64\",\"shape\":[100]},\"top\":{\"__ndarray__\":\"50H1zNSBOT/ypb1tgHIBPwsriUb5Uew+zuTFiLI04j78kGUPxTHhPh40R25oQNY+zuTFiLI00j4pPQWW1y7APsTbB2FDRsg+JT0FltcuwD4tPQWW1y6wPi09BZbXLrA+JT0FltcuwD4tPQWW1y6gPiU9BZbXLrA+LT0FltcuoD4AAAAAAAAAADU9BZbXLqA+AAAAAAAAAAAAAAAAAAAAAAAAAAAAAAAAAAAAAAAAAAAAAAAAAAAAADU9BZbXLqA+AAAAAAAAAAAAAAAAAAAAAAAAAAAAAAAANT0FltcuoD4AAAAAAAAAAAAAAAAAAAAANT0FltcuoD4AAAAAAAAAACU9BZbXLqA+AAAAAAAAAAAlPQWW1y6gPkU9BZbXLqA+AAAAAAAAAAAlPQWW1y6gPgAAAAAAAAAAJT0FltcuoD4AAAAAAAAAAAAAAAAAAAAAAAAAAAAAAAAAAAAAAAAAAAAAAAAAAAAAJT0FltcuoD4AAAAAAAAAAAAAAAAAAAAAAAAAAAAAAAAAAAAAAAAAACU9BZbXLqA+AAAAAAAAAAAAAAAAAAAAAAAAAAAAAAAAAAAAAAAAAAAlPQWW1y6gPgAAAAAAAAAAAAAAAAAAAAAAAAAAAAAAAAAAAAAAAAAART0FltcuoD4AAAAAAAAAAAAAAAAAAAAAAAAAAAAAAAAAAAAAAAAAAAAAAAAAAAAAAAAAAAAAAAAAAAAAAAAAAAAAAAAAAAAAAAAAAAAAAAAAAAAAAAAAACU9BZbXLqA+AAAAAAAAAAAAAAAAAAAAAAAAAAAAAAAAAAAAAAAAAAAAAAAAAAAAAAAAAAAAAAAAAAAAAAAAAAAAAAAAAAAAAAAAAAAAAAAAAAAAAAAAAAAAAAAAAAAAAAAAAAAAAAAAAAAAAAAAAAAAAAAAAAAAAAAAAAAAAAAAAAAAAAAAAAAAAAAAAAAAAAAAAAAAAAAAAAAAAAAAAAAAAAAAAAAAAAAAAAAAAAAAAAAAAAAAAAAAAAAAAAAAAAAAAAAAAAAAAAAAAAAAAAAAAAAAAAAAAAAAAAAAAAAAJT0FltcuoD4=\",\"dtype\":\"float64\",\"shape\":[100]}}},\"id\":\"fa90fbeb-28a3-4ee2-a8a2-cc7e5f941d67\",\"type\":\"ColumnDataSource\"},{\"attributes\":{},\"id\":\"2e837aea-015a-4a12-8f28-5b74cd042f1a\",\"type\":\"BasicTicker\"},{\"attributes\":{},\"id\":\"f021217e-114b-4985-9264-93f07acf221c\",\"type\":\"ToolEvents\"},{\"attributes\":{\"callback\":null},\"id\":\"809638d7-6ac1-4cc9-8b87-4291a581d892\",\"type\":\"DataRange1d\"},{\"attributes\":{\"below\":[{\"id\":\"5ece583e-4320-451f-99d9-0c7ae229e3e5\",\"type\":\"LinearAxis\"}],\"left\":[{\"id\":\"6911c0bf-d6ef-4272-9b8b-3366cf2f1a09\",\"type\":\"LinearAxis\"}],\"renderers\":[{\"id\":\"5ece583e-4320-451f-99d9-0c7ae229e3e5\",\"type\":\"LinearAxis\"},{\"id\":\"03d5f0aa-d274-4945-b373-4c5b0fe549d3\",\"type\":\"Grid\"},{\"id\":\"6911c0bf-d6ef-4272-9b8b-3366cf2f1a09\",\"type\":\"LinearAxis\"},{\"id\":\"6c5ad81e-2758-4fc3-a4fd-1a7209e378cf\",\"type\":\"Grid\"},{\"id\":\"0530a664-5ac2-4b7c-8d44-c7a1bc809db7\",\"type\":\"GlyphRenderer\"}],\"title\":{\"id\":\"eaaf21ed-eae2-4c0d-b8a0-ce466c14c989\",\"type\":\"Title\"},\"tool_events\":{\"id\":\"f021217e-114b-4985-9264-93f07acf221c\",\"type\":\"ToolEvents\"},\"toolbar\":{\"id\":\"8f81e857-4ec5-4f3e-b825-c228ab8b320d\",\"type\":\"Toolbar\"},\"toolbar_location\":\"above\",\"x_range\":{\"id\":\"809638d7-6ac1-4cc9-8b87-4291a581d892\",\"type\":\"DataRange1d\"},\"x_scale\":{\"id\":\"2293aba3-b256-47ef-a735-dc911fa06e5f\",\"type\":\"LinearScale\"},\"y_range\":{\"id\":\"3ee2b5e8-7d7b-44a0-9204-25cbe2de423b\",\"type\":\"DataRange1d\"},\"y_scale\":{\"id\":\"cf9b34d7-82df-4016-be7c-76e4a3060a46\",\"type\":\"LinearScale\"}},\"id\":\"795bac67-63a3-458c-8fe1-91fe7fb1a165\",\"subtype\":\"Figure\",\"type\":\"Plot\"},{\"attributes\":{\"plot\":{\"id\":\"795bac67-63a3-458c-8fe1-91fe7fb1a165\",\"subtype\":\"Figure\",\"type\":\"Plot\"}},\"id\":\"5ac2e3c3-cd61-42c2-a8ef-6a45dcb7fc1a\",\"type\":\"SaveTool\"},{\"attributes\":{\"data_source\":{\"id\":\"fa90fbeb-28a3-4ee2-a8a2-cc7e5f941d67\",\"type\":\"ColumnDataSource\"},\"glyph\":{\"id\":\"5e39bd37-3773-4ef2-99d7-9c24638079a2\",\"type\":\"Quad\"},\"hover_glyph\":null,\"muted_glyph\":null,\"nonselection_glyph\":{\"id\":\"2bdaaeaa-3267-429d-8f06-cb14daffec91\",\"type\":\"Quad\"},\"selection_glyph\":null},\"id\":\"0530a664-5ac2-4b7c-8d44-c7a1bc809db7\",\"type\":\"GlyphRenderer\"},{\"attributes\":{},\"id\":\"4ec511b2-8028-40c8-b2b8-67dde1611983\",\"type\":\"BasicTickFormatter\"},{\"attributes\":{},\"id\":\"cf9b34d7-82df-4016-be7c-76e4a3060a46\",\"type\":\"LinearScale\"},{\"attributes\":{\"plot\":{\"id\":\"795bac67-63a3-458c-8fe1-91fe7fb1a165\",\"subtype\":\"Figure\",\"type\":\"Plot\"}},\"id\":\"dc49d7bb-d021-401d-8ddc-ae95259ae9ce\",\"type\":\"ResetTool\"},{\"attributes\":{\"callback\":null},\"id\":\"3ee2b5e8-7d7b-44a0-9204-25cbe2de423b\",\"type\":\"DataRange1d\"},{\"attributes\":{\"bottom\":{\"value\":0},\"fill_color\":{\"value\":\"#1f77b4\"},\"left\":{\"field\":\"left\"},\"line_color\":{\"value\":\"#555555\"},\"right\":{\"field\":\"right\"},\"top\":{\"field\":\"top\"}},\"id\":\"5e39bd37-3773-4ef2-99d7-9c24638079a2\",\"type\":\"Quad\"}],\"root_ids\":[\"795bac67-63a3-458c-8fe1-91fe7fb1a165\"]},\"title\":\"Bokeh Application\",\"version\":\"0.12.6\"}};\n",
       "            var render_items = [{\"docid\":\"703bd736-768f-4395-a173-eb0c00e2b64d\",\"elementid\":\"e4e6c893-bdf0-454b-9db5-c7bb2a68cc80\",\"modelid\":\"795bac67-63a3-458c-8fe1-91fe7fb1a165\"}];\n",
       "            \n",
       "            Bokeh.embed.embed_items(docs_json, render_items);\n",
       "          };\n",
       "          if (document.readyState != \"loading\") fn();\n",
       "          else document.addEventListener(\"DOMContentLoaded\", fn);\n",
       "        })();\n",
       "      },\n",
       "      function(Bokeh) {\n",
       "      }\n",
       "    ];\n",
       "  \n",
       "    function run_inline_js() {\n",
       "      \n",
       "      if ((window.Bokeh !== undefined) || (force === true)) {\n",
       "        for (var i = 0; i < inline_js.length; i++) {\n",
       "          inline_js[i](window.Bokeh);\n",
       "        }if (force === true) {\n",
       "          display_loaded();\n",
       "        }} else if (Date.now() < window._bokeh_timeout) {\n",
       "        setTimeout(run_inline_js, 100);\n",
       "      } else if (!window._bokeh_failed_load) {\n",
       "        console.log(\"Bokeh: BokehJS failed to load within specified timeout.\");\n",
       "        window._bokeh_failed_load = true;\n",
       "      } else if (force !== true) {\n",
       "        var cell = $(document.getElementById(\"e4e6c893-bdf0-454b-9db5-c7bb2a68cc80\")).parents('.cell').data().cell;\n",
       "        cell.output_area.append_execute_result(NB_LOAD_WARNING)\n",
       "      }\n",
       "  \n",
       "    }\n",
       "  \n",
       "    if (window._bokeh_is_loading === 0) {\n",
       "      console.log(\"Bokeh: BokehJS loaded, going straight to plotting\");\n",
       "      run_inline_js();\n",
       "    } else {\n",
       "      load_libs(js_urls, function() {\n",
       "        console.log(\"Bokeh: BokehJS plotting callback run at\", now());\n",
       "        run_inline_js();\n",
       "      });\n",
       "    }\n",
       "  }(this));\n",
       "</script>"
      ]
     },
     "metadata": {},
     "output_type": "display_data"
    },
    {
     "name": "stdout",
     "output_type": "stream",
     "text": [
      "time: 90.2 ms\n"
     ]
    }
   ],
   "source": [
    "hist, edges = np.histogram(counts_ted_top1000, density=True, bins=100, normed=True)\n",
    "\n",
    "p = figure(tools=\"pan,wheel_zoom,reset,save\",\n",
    "           toolbar_location=\"above\",\n",
    "           title=\"Top-1000 words distribution\")\n",
    "p.quad(top=hist, bottom=0, left=edges[:-1], right=edges[1:], line_color=\"#555555\")\n",
    "show(p)"
   ]
  },
  {
   "cell_type": "markdown",
   "metadata": {},
   "source": [
    "### Part 3: Train Word2Vec"
   ]
  },
  {
   "cell_type": "code",
   "execution_count": 38,
   "metadata": {},
   "outputs": [
    {
     "name": "stdout",
     "output_type": "stream",
     "text": [
      "time: 338 ms\n"
     ]
    }
   ],
   "source": [
    "from gensim.models import Word2Vec"
   ]
  },
  {
   "cell_type": "code",
   "execution_count": 39,
   "metadata": {},
   "outputs": [
    {
     "name": "stdout",
     "output_type": "stream",
     "text": [
      "time: 10.7 s\n"
     ]
    }
   ],
   "source": [
    "model = Word2Vec(sentences_ted, size=100, window=5, min_count=10, workers=4)\n",
    "model.save(\"ted_word2vec.model\")"
   ]
  },
  {
   "cell_type": "code",
   "execution_count": 40,
   "metadata": {},
   "outputs": [
    {
     "name": "stdout",
     "output_type": "stream",
     "text": [
      "time: 103 ms\n"
     ]
    }
   ],
   "source": [
    "model_ted = Word2Vec.load(\"ted_word2vec.model\")"
   ]
  },
  {
   "cell_type": "markdown",
   "metadata": {},
   "source": [
    "### Part 4: Ted Learnt Representations"
   ]
  },
  {
   "cell_type": "markdown",
   "metadata": {},
   "source": [
    "Finding similar words: (see gensim docs for more functionality of `most_similar`)"
   ]
  },
  {
   "cell_type": "code",
   "execution_count": 41,
   "metadata": {},
   "outputs": [
    {
     "data": {
      "text/plain": [
       "[('woman', 0.8497589826583862),\n",
       " ('guy', 0.7974798679351807),\n",
       " ('lady', 0.7795628905296326),\n",
       " ('boy', 0.7521253228187561),\n",
       " ('gentleman', 0.7463899850845337),\n",
       " ('girl', 0.7416039109230042),\n",
       " ('poet', 0.6975832581520081),\n",
       " ('kid', 0.6701671481132507),\n",
       " ('soldier', 0.6684935092926025),\n",
       " ('david', 0.6652417182922363)]"
      ]
     },
     "execution_count": 41,
     "metadata": {},
     "output_type": "execute_result"
    },
    {
     "name": "stdout",
     "output_type": "stream",
     "text": [
      "time: 14.1 ms\n"
     ]
    }
   ],
   "source": [
    "model_ted.most_similar(\"man\")"
   ]
  },
  {
   "cell_type": "code",
   "execution_count": 42,
   "metadata": {},
   "outputs": [
    {
     "data": {
      "text/plain": [
       "[('machine', 0.7700843811035156),\n",
       " ('software', 0.7199214696884155),\n",
       " ('robot', 0.7062963843345642),\n",
       " ('device', 0.6655927896499634),\n",
       " ('3d', 0.6401070356369019),\n",
       " ('program', 0.6369738578796387),\n",
       " ('interface', 0.6364388465881348),\n",
       " ('simulation', 0.6358679533004761),\n",
       " ('camera', 0.6300681233406067),\n",
       " ('video', 0.6297894716262817)]"
      ]
     },
     "execution_count": 42,
     "metadata": {},
     "output_type": "execute_result"
    },
    {
     "name": "stdout",
     "output_type": "stream",
     "text": [
      "time: 10.1 ms\n"
     ]
    }
   ],
   "source": [
    "model_ted.most_similar(\"computer\")"
   ]
  },
  {
   "cell_type": "markdown",
   "metadata": {},
   "source": [
    "#### t-SNE visualization\n",
    "To use the t-SNE code below, first put a list of the top 1000 words (as strings) into a variable `words_top_ted`. The following code gets the corresponding vectors from the model, assuming it's called `model_ted`:"
   ]
  },
  {
   "cell_type": "code",
   "execution_count": 43,
   "metadata": {},
   "outputs": [
    {
     "name": "stdout",
     "output_type": "stream",
     "text": [
      "time: 10.1 ms\n"
     ]
    }
   ],
   "source": [
    "# This assumes words_top_ted is a list of strings, the top 1000 words\n",
    "words_top_vec_ted = model_ted[words_top_ted]"
   ]
  },
  {
   "cell_type": "code",
   "execution_count": 44,
   "metadata": {},
   "outputs": [
    {
     "name": "stdout",
     "output_type": "stream",
     "text": [
      "time: 3.99 s\n"
     ]
    }
   ],
   "source": [
    "from sklearn.manifold import TSNE\n",
    "tsne = TSNE(n_components=2, random_state=0)\n",
    "words_top_ted_tsne = tsne.fit_transform(words_top_vec_ted)"
   ]
  },
  {
   "cell_type": "code",
   "execution_count": 45,
   "metadata": {},
   "outputs": [
    {
     "data": {
      "text/html": [
       "\n",
       "\n",
       "    <div class=\"bk-root\">\n",
       "        <div class=\"bk-plotdiv\" id=\"b5c57d66-ccd0-4091-80ba-6d962e94e45a\"></div>\n",
       "    </div>\n",
       "<script type=\"text/javascript\">\n",
       "  \n",
       "  (function(global) {\n",
       "    function now() {\n",
       "      return new Date();\n",
       "    }\n",
       "  \n",
       "    var force = false;\n",
       "  \n",
       "    if (typeof (window._bokeh_onload_callbacks) === \"undefined\" || force === true) {\n",
       "      window._bokeh_onload_callbacks = [];\n",
       "      window._bokeh_is_loading = undefined;\n",
       "    }\n",
       "  \n",
       "  \n",
       "    \n",
       "    if (typeof (window._bokeh_timeout) === \"undefined\" || force === true) {\n",
       "      window._bokeh_timeout = Date.now() + 0;\n",
       "      window._bokeh_failed_load = false;\n",
       "    }\n",
       "  \n",
       "    var NB_LOAD_WARNING = {'data': {'text/html':\n",
       "       \"<div style='background-color: #fdd'>\\n\"+\n",
       "       \"<p>\\n\"+\n",
       "       \"BokehJS does not appear to have successfully loaded. If loading BokehJS from CDN, this \\n\"+\n",
       "       \"may be due to a slow or bad network connection. Possible fixes:\\n\"+\n",
       "       \"</p>\\n\"+\n",
       "       \"<ul>\\n\"+\n",
       "       \"<li>re-rerun `output_notebook()` to attempt to load from CDN again, or</li>\\n\"+\n",
       "       \"<li>use INLINE resources instead, as so:</li>\\n\"+\n",
       "       \"</ul>\\n\"+\n",
       "       \"<code>\\n\"+\n",
       "       \"from bokeh.resources import INLINE\\n\"+\n",
       "       \"output_notebook(resources=INLINE)\\n\"+\n",
       "       \"</code>\\n\"+\n",
       "       \"</div>\"}};\n",
       "  \n",
       "    function display_loaded() {\n",
       "      if (window.Bokeh !== undefined) {\n",
       "        var el = document.getElementById(\"b5c57d66-ccd0-4091-80ba-6d962e94e45a\");\n",
       "        el.textContent = \"BokehJS \" + Bokeh.version + \" successfully loaded.\";\n",
       "      } else if (Date.now() < window._bokeh_timeout) {\n",
       "        setTimeout(display_loaded, 100)\n",
       "      }\n",
       "    }\n",
       "  \n",
       "    function run_callbacks() {\n",
       "      try {\n",
       "        window._bokeh_onload_callbacks.forEach(function(callback) { callback() });\n",
       "      }\n",
       "      finally {\n",
       "        delete window._bokeh_onload_callbacks\n",
       "      }\n",
       "      console.info(\"Bokeh: all callbacks have finished\");\n",
       "    }\n",
       "  \n",
       "    function load_libs(js_urls, callback) {\n",
       "      window._bokeh_onload_callbacks.push(callback);\n",
       "      if (window._bokeh_is_loading > 0) {\n",
       "        console.log(\"Bokeh: BokehJS is being loaded, scheduling callback at\", now());\n",
       "        return null;\n",
       "      }\n",
       "      if (js_urls == null || js_urls.length === 0) {\n",
       "        run_callbacks();\n",
       "        return null;\n",
       "      }\n",
       "      console.log(\"Bokeh: BokehJS not loaded, scheduling load and callback at\", now());\n",
       "      window._bokeh_is_loading = js_urls.length;\n",
       "      for (var i = 0; i < js_urls.length; i++) {\n",
       "        var url = js_urls[i];\n",
       "        var s = document.createElement('script');\n",
       "        s.src = url;\n",
       "        s.async = false;\n",
       "        s.onreadystatechange = s.onload = function() {\n",
       "          window._bokeh_is_loading--;\n",
       "          if (window._bokeh_is_loading === 0) {\n",
       "            console.log(\"Bokeh: all BokehJS libraries loaded\");\n",
       "            run_callbacks()\n",
       "          }\n",
       "        };\n",
       "        s.onerror = function() {\n",
       "          console.warn(\"failed to load library \" + url);\n",
       "        };\n",
       "        console.log(\"Bokeh: injecting script tag for BokehJS library: \", url);\n",
       "        document.getElementsByTagName(\"head\")[0].appendChild(s);\n",
       "      }\n",
       "    };var element = document.getElementById(\"b5c57d66-ccd0-4091-80ba-6d962e94e45a\");\n",
       "    if (element == null) {\n",
       "      console.log(\"Bokeh: ERROR: autoload.js configured with elementid 'b5c57d66-ccd0-4091-80ba-6d962e94e45a' but no matching script tag was found. \")\n",
       "      return false;\n",
       "    }\n",
       "  \n",
       "    var js_urls = [];\n",
       "  \n",
       "    var inline_js = [\n",
       "      function(Bokeh) {\n",
       "        (function() {\n",
       "          var fn = function() {\n",
       "            var docs_json = {\"2b85c0f2-a77d-48d9-8db2-6237790d0a86\":{\"roots\":{\"references\":[{\"attributes\":{\"callback\":null},\"id\":\"65deeb55-1539-4bd1-973c-09b4b24f275b\",\"type\":\"DataRange1d\"},{\"attributes\":{\"plot\":null,\"text\":\"word2vec T-SNE for most common words\"},\"id\":\"8df6e668-307e-4ca0-b895-d45f86a756a1\",\"type\":\"Title\"},{\"attributes\":{\"dimension\":1,\"plot\":{\"id\":\"89559289-be19-41d9-8653-4b7dd5a3ca2c\",\"subtype\":\"Figure\",\"type\":\"Plot\"},\"ticker\":{\"id\":\"987c3ec6-4c53-4853-a77d-fa4c9914d8c9\",\"type\":\"BasicTicker\"}},\"id\":\"778ac683-c13c-48ee-97de-879c1377f0bf\",\"type\":\"Grid\"},{\"attributes\":{\"fill_color\":{\"value\":\"#1f77b4\"},\"line_color\":{\"value\":\"#1f77b4\"},\"size\":{\"units\":\"screen\",\"value\":8},\"x\":{\"field\":\"x1\"},\"y\":{\"field\":\"x2\"}},\"id\":\"a8dc5023-90b7-4275-84fd-bdda67b12e0a\",\"type\":\"Circle\"},{\"attributes\":{\"callback\":null,\"column_names\":[\"x1\",\"x2\",\"names\"],\"data\":{\"names\":[\"the\",\"and\",\"to\",\"of\",\"a\",\"that\",\"i\",\"in\",\"it\",\"you\",\"we\",\"is\",\"s\",\"this\",\"so\",\"they\",\"was\",\"for\",\"are\",\"have\",\"but\",\"what\",\"on\",\"with\",\"can\",\"t\",\"about\",\"there\",\"be\",\"as\",\"at\",\"all\",\"not\",\"do\",\"my\",\"one\",\"re\",\"people\",\"like\",\"if\",\"from\",\"now\",\"our\",\"he\",\"an\",\"just\",\"these\",\"or\",\"when\",\"because\",\"very\",\"me\",\"out\",\"by\",\"them\",\"how\",\"know\",\"up\",\"going\",\"had\",\"more\",\"think\",\"who\",\"were\",\"see\",\"your\",\"their\",\"which\",\"would\",\"here\",\"really\",\"get\",\"ve\",\"then\",\"m\",\"world\",\"us\",\"time\",\"some\",\"has\",\"don\",\"actually\",\"into\",\"way\",\"where\",\"will\",\"years\",\"things\",\"other\",\"no\",\"could\",\"go\",\"well\",\"want\",\"been\",\"make\",\"right\",\"she\",\"said\",\"something\",\"those\",\"first\",\"two\",\"than\",\"much\",\"also\",\"look\",\"new\",\"thing\",\"little\",\"got\",\"back\",\"over\",\"most\",\"say\",\"even\",\"his\",\"life\",\"only\",\"work\",\"many\",\"take\",\"need\",\"did\",\"lot\",\"kind\",\"why\",\"good\",\"around\",\"every\",\"different\",\"down\",\"ll\",\"let\",\"her\",\"through\",\"same\",\"being\",\"come\",\"d\",\"day\",\"year\",\"three\",\"use\",\"doing\",\"put\",\"called\",\"any\",\"today\",\"percent\",\"made\",\"after\",\"thank\",\"tell\",\"great\",\"human\",\"find\",\"didn\",\"fact\",\"talk\",\"change\",\"started\",\"another\",\"idea\",\"big\",\"last\",\"own\",\"before\",\"its\",\"never\",\"should\",\"better\",\"give\",\"thought\",\"went\",\"might\",\"important\",\"000\",\"again\",\"together\",\"able\",\"still\",\"problem\",\"off\",\"next\",\"part\",\"course\",\"system\",\"him\",\"does\",\"each\",\"start\",\"show\",\"long\",\"ago\",\"story\",\"came\",\"brain\",\"few\",\"bit\",\"between\",\"used\",\"place\",\"technology\",\"women\",\"too\",\"old\",\"mean\",\"data\",\"water\",\"looking\",\"question\",\"maybe\",\"found\",\"love\",\"doesn\",\"end\",\"example\",\"10\",\"done\",\"point\",\"four\",\"real\",\"wanted\",\"ever\",\"understand\",\"school\",\"sort\",\"live\",\"call\",\"whole\",\"always\",\"children\",\"trying\",\"may\",\"person\",\"away\",\"feel\",\"believe\",\"try\",\"million\",\"working\",\"help\",\"everything\",\"five\",\"country\",\"thinking\",\"second\",\"using\",\"information\",\"money\",\"means\",\"took\",\"power\",\"times\",\"high\",\"space\",\"number\",\"kids\",\"home\",\"become\",\"create\",\"small\",\"design\",\"making\",\"best\",\"left\",\"getting\",\"future\",\"enough\",\"man\",\"quite\",\"city\",\"without\",\"sense\",\"happened\",\"comes\",\"social\",\"probably\",\"light\",\"less\",\"energy\",\"talking\",\"am\",\"building\",\"science\",\"food\",\"body\",\"told\",\"interesting\",\"half\",\"ask\",\"pretty\",\"play\",\"hard\",\"anything\",\"lives\",\"countries\",\"such\",\"coming\",\"family\",\"stuff\",\"dollars\",\"moment\",\"earth\",\"20\",\"imagine\",\"across\",\"side\",\"saw\",\"while\",\"happen\",\"okay\",\"once\",\"build\",\"having\",\"men\",\"later\",\"experience\",\"asked\",\"makes\",\"living\",\"says\",\"seen\",\"room\",\"hand\",\"simple\",\"health\",\"ways\",\"else\",\"case\",\"almost\",\"yet\",\"young\",\"days\",\"nothing\",\"bad\",\"care\",\"happens\",\"goes\",\"move\",\"states\",\"reason\",\"computer\",\"open\",\"africa\",\"learn\",\"process\",\"inside\",\"someone\",\"six\",\"far\",\"project\",\"mind\",\"remember\",\"single\",\"picture\",\"both\",\"whether\",\"problems\",\"basically\",\"community\",\"saying\",\"already\",\"within\",\"looked\",\"myself\",\"billion\",\"possible\",\"often\",\"business\",\"planet\",\"global\",\"top\",\"everybody\",\"public\",\"sure\",\"set\",\"wrong\",\"book\",\"car\",\"keep\",\"answer\",\"yes\",\"oh\",\"sometimes\",\"hope\",\"history\",\"true\",\"war\",\"child\",\"guy\",\"instead\",\"months\",\"ideas\",\"looks\",\"matter\",\"government\",\"amazing\",\"united\",\"since\",\"cells\",\"age\",\"bring\",\"job\",\"heard\",\"until\",\"face\",\"wasn\",\"100\",\"read\",\"control\",\"isn\",\"research\",\"30\",\"words\",\"u\",\"group\",\"under\",\"self\",\"somebody\",\"built\",\"state\",\"woman\",\"turn\",\"beautiful\",\"friends\",\"line\",\"knew\",\"couple\",\"order\",\"form\",\"yeah\",\"internet\",\"middle\",\"music\",\"piece\",\"nature\",\"head\",\"though\",\"stop\",\"everyone\",\"50\",\"places\",\"video\",\"language\",\"learned\",\"run\",\"night\",\"decided\",\"word\",\"study\",\"cancer\",\"works\",\"taking\",\"became\",\"exactly\",\"species\",\"completely\",\"society\",\"education\",\"against\",\"stories\",\"large\",\"share\",\"level\",\"heart\",\"america\",\"model\",\"gets\",\"questions\",\"mother\",\"god\",\"company\",\"turns\",\"ourselves\",\"happening\",\"art\",\"hear\",\"themselves\",\"must\",\"itself\",\"kinds\",\"rather\",\"students\",\"name\",\"hours\",\"disease\",\"front\",\"house\",\"couldn\",\"huge\",\"created\",\"universe\",\"ok\",\"animals\",\"american\",\"environment\",\"worked\",\"minutes\",\"ones\",\"black\",\"1\",\"perhaps\",\"past\",\"third\",\"along\",\"finally\",\"others\",\"early\",\"sound\",\"game\",\"thousands\",\"century\",\"least\",\"based\",\"per\",\"ted\",\"lots\",\"figure\",\"free\",\"particular\",\"guys\",\"happy\",\"news\",\"learning\",\"entire\",\"won\",\"gave\",\"india\",\"machine\",\"during\",\"systems\",\"air\",\"difference\",\"outside\",\"taken\",\"natural\",\"seven\",\"changed\",\"given\",\"leave\",\"cell\",\"15\",\"close\",\"cities\",\"behind\",\"full\",\"scale\",\"china\",\"difficult\",\"takes\",\"companies\",\"area\",\"yourself\",\"reality\",\"seeing\",\"easy\",\"turned\",\"cost\",\"eyes\",\"moving\",\"team\",\"population\",\"culture\",\"york\",\"hands\",\"began\",\"whatever\",\"terms\",\"needs\",\"image\",\"needed\",\"simply\",\"beginning\",\"father\",\"local\",\"realized\",\"media\",\"parents\",\"death\",\"walk\",\"view\",\"white\",\"market\",\"parts\",\"ocean\",\"eight\",\"economic\",\"powerful\",\"week\",\"known\",\"size\",\"felt\",\"humans\",\"certain\",\"spend\",\"longer\",\"phone\",\"wonderful\",\"cannot\",\"common\",\"grow\",\"tried\",\"center\",\"fish\",\"land\",\"oil\",\"deal\",\"interested\",\"political\",\"red\",\"gone\",\"amount\",\"weeks\",\"opportunity\",\"spent\",\"lost\",\"paper\",\"quickly\",\"national\",\"blue\",\"step\",\"poor\",\"green\",\"buy\",\"wouldn\",\"growth\",\"either\",\"patients\",\"sitting\",\"ability\",\"changes\",\"write\",\"south\",\"challenge\",\"low\",\"friend\",\"growing\",\"field\",\"2\",\"shows\",\"rest\",\"born\",\"climate\",\"40\",\"test\",\"street\",\"incredible\",\"surface\",\"average\",\"value\",\"pay\",\"program\",\"scientists\",\"morning\",\"physical\",\"behavior\",\"met\",\"girl\",\"hundreds\",\"feeling\",\"economy\",\"dna\",\"complex\",\"access\",\"risk\",\"animal\",\"structure\",\"feet\",\"attention\",\"anyone\",\"areas\",\"deep\",\"watch\",\"short\",\"absolutely\",\"brought\",\"speak\",\"bottom\",\"die\",\"audience\",\"numbers\",\"stage\",\"realize\",\"images\",\"law\",\"wrote\",\"understanding\",\"books\",\"literally\",\"knowledge\",\"movement\",\"giving\",\"ground\",\"eat\",\"force\",\"alone\",\"seems\",\"telling\",\"hold\",\"starting\",\"nice\",\"sea\",\"forward\",\"developed\",\"kid\",\"individual\",\"millions\",\"support\",\"running\",\"tools\",\"miles\",\"online\",\"result\",\"technologies\",\"medical\",\"act\",\"north\",\"development\",\"lab\",\"blood\",\"fear\",\"map\",\"nobody\",\"personal\",\"voice\",\"issue\",\"key\",\"material\",\"recently\",\"12\",\"theory\",\"cut\",\"cars\",\"fast\",\"sun\",\"changing\",\"clear\",\"playing\",\"especially\",\"patient\",\"girls\",\"soon\",\"fly\",\"choice\",\"creating\",\"relationship\",\"talked\",\"europe\",\"discovered\",\"normal\",\"gives\",\"generation\",\"dark\",\"showed\",\"type\",\"asking\",\"industry\",\"seem\",\"chance\",\"rate\",\"hour\",\"designed\",\"color\",\"issues\",\"fun\",\"computers\",\"class\",\"several\",\"innovation\",\"university\",\"tiny\",\"english\",\"focus\",\"save\",\"allow\",\"developing\",\"solve\",\"digital\",\"film\",\"network\",\"special\",\"wall\",\"baby\",\"situation\",\"solution\",\"knows\",\"box\",\"reasons\",\"stand\",\"dead\",\"meet\",\"anybody\",\"impact\",\"haven\",\"begin\",\"term\",\"pictures\",\"beyond\",\"please\",\"produce\",\"ice\",\"shape\",\"non\",\"cool\",\"robot\",\"resources\",\"stay\",\"likely\",\"groups\",\"major\",\"rights\",\"truth\",\"available\",\"experiment\",\"writing\",\"obviously\",\"evidence\",\"cause\",\"drug\",\"modern\",\"incredibly\",\"becomes\",\"guess\",\"bigger\",\"aren\",\"drugs\",\"product\",\"nine\",\"lived\",\"involved\",\"month\",\"google\",\"perfect\",\"putting\",\"similar\",\"effect\",\"pick\",\"eye\",\"message\",\"web\",\"violence\",\"quality\",\"office\",\"security\",\"evolution\",\"general\",\"indeed\",\"solar\",\"basic\",\"towards\",\"drive\",\"present\",\"worth\",\"listen\",\"send\",\"revolution\",\"hundred\",\"explain\",\"died\",\"certainly\",\"teach\",\"ready\",\"25\",\"journey\",\"walking\",\"hit\",\"led\",\"international\",\"approach\",\"200\",\"games\",\"scientific\",\"chinese\",\"communities\",\"crazy\",\"potential\",\"60\",\"device\",\"camera\",\"source\",\"carbon\",\"sex\",\"rules\",\"sounds\",\"boy\",\"reach\",\"starts\",\"west\",\"examples\",\"3\",\"software\",\"particularly\",\"measure\",\"success\",\"totally\",\"suddenly\",\"action\",\"higher\",\"college\",\"code\",\"eventually\",\"democracy\",\"sit\",\"minute\",\"among\",\"largest\",\"hospital\",\"showing\",\"period\",\"notice\",\"develop\",\"mass\",\"onto\",\"dream\",\"memory\",\"add\",\"break\",\"plants\",\"zero\",\"11\",\"favorite\",\"everywhere\",\"response\",\"moved\",\"schools\",\"speed\",\"wants\",\"wait\",\"table\",\"individuals\",\"movie\",\"extremely\",\"trust\",\"anyway\",\"follow\",\"medicine\",\"biggest\",\"plant\",\"organization\",\"watching\",\"road\",\"creative\",\"worse\",\"choose\",\"500\",\"results\",\"lead\",\"exciting\",\"materials\",\"grew\",\"jobs\",\"positive\",\"poverty\",\"east\",\"plan\",\"fall\",\"strong\",\"safe\",\"essentially\",\"door\",\"object\",\"continue\",\"happiness\",\"further\",\"vision\",\"son\",\"doctor\",\"student\",\"objects\",\"role\",\"named\",\"including\",\"extraordinary\",\"standing\",\"projects\",\"conversation\",\"african\",\"usually\",\"leaders\",\"skin\",\"models\",\"allowed\",\"supposed\",\"interest\",\"faster\",\"fight\",\"police\",\"families\",\"connected\",\"tree\",\"cases\",\"5\",\"screen\",\"somewhere\",\"goal\",\"shown\",\"buildings\",\"finding\"],\"x1\":{\"__ndarray__\":\"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\",\"dtype\":\"float64\",\"shape\":[1000]},\"x2\":{\"__ndarray__\":\"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\",\"dtype\":\"float64\",\"shape\":[1000]}}},\"id\":\"ebc40e7f-f5d7-4fe5-be9c-90c2d3ea4463\",\"type\":\"ColumnDataSource\"},{\"attributes\":{},\"id\":\"987c3ec6-4c53-4853-a77d-fa4c9914d8c9\",\"type\":\"BasicTicker\"},{\"attributes\":{\"plot\":{\"id\":\"89559289-be19-41d9-8653-4b7dd5a3ca2c\",\"subtype\":\"Figure\",\"type\":\"Plot\"}},\"id\":\"3aeb06ab-c954-49b1-807e-4b139dffc9ad\",\"type\":\"ResetTool\"},{\"attributes\":{\"below\":[{\"id\":\"8a3883ce-7c3d-4366-86d0-2a4835c1d566\",\"type\":\"LinearAxis\"}],\"left\":[{\"id\":\"21c97c67-c38f-41fa-9008-e1d07640c0c1\",\"type\":\"LinearAxis\"}],\"renderers\":[{\"id\":\"8a3883ce-7c3d-4366-86d0-2a4835c1d566\",\"type\":\"LinearAxis\"},{\"id\":\"f8b49b2e-edfc-407e-959a-148a0f458138\",\"type\":\"Grid\"},{\"id\":\"21c97c67-c38f-41fa-9008-e1d07640c0c1\",\"type\":\"LinearAxis\"},{\"id\":\"778ac683-c13c-48ee-97de-879c1377f0bf\",\"type\":\"Grid\"},{\"id\":\"44e77894-faf4-42cf-8f8d-f59d5eeeb9c2\",\"type\":\"GlyphRenderer\"},{\"id\":\"db88528e-5e56-4e1a-8e78-bee86b9c53fa\",\"type\":\"LabelSet\"}],\"title\":{\"id\":\"8df6e668-307e-4ca0-b895-d45f86a756a1\",\"type\":\"Title\"},\"tool_events\":{\"id\":\"3bdffa7c-698f-4609-a00c-04504bd6cfa2\",\"type\":\"ToolEvents\"},\"toolbar\":{\"id\":\"436f1205-8a5d-4604-a143-ce90db367176\",\"type\":\"Toolbar\"},\"toolbar_location\":\"above\",\"x_range\":{\"id\":\"65deeb55-1539-4bd1-973c-09b4b24f275b\",\"type\":\"DataRange1d\"},\"x_scale\":{\"id\":\"228a8131-58c5-493d-a7fa-25f857538ea2\",\"type\":\"LinearScale\"},\"y_range\":{\"id\":\"2b84d8be-595c-4044-a24a-def7c0ee6e2b\",\"type\":\"DataRange1d\"},\"y_scale\":{\"id\":\"9278cf9e-2235-4b68-9918-79b02a11a93e\",\"type\":\"LinearScale\"}},\"id\":\"89559289-be19-41d9-8653-4b7dd5a3ca2c\",\"subtype\":\"Figure\",\"type\":\"Plot\"},{\"attributes\":{\"formatter\":{\"id\":\"9dd9d51f-c2b6-436f-9970-fcc970023be7\",\"type\":\"BasicTickFormatter\"},\"plot\":{\"id\":\"89559289-be19-41d9-8653-4b7dd5a3ca2c\",\"subtype\":\"Figure\",\"type\":\"Plot\"},\"ticker\":{\"id\":\"987c3ec6-4c53-4853-a77d-fa4c9914d8c9\",\"type\":\"BasicTicker\"}},\"id\":\"21c97c67-c38f-41fa-9008-e1d07640c0c1\",\"type\":\"LinearAxis\"},{\"attributes\":{\"plot\":{\"id\":\"89559289-be19-41d9-8653-4b7dd5a3ca2c\",\"subtype\":\"Figure\",\"type\":\"Plot\"},\"source\":{\"id\":\"ebc40e7f-f5d7-4fe5-be9c-90c2d3ea4463\",\"type\":\"ColumnDataSource\"},\"text\":{\"field\":\"names\"},\"text_align\":\"center\",\"text_color\":{\"value\":\"#555555\"},\"text_font_size\":{\"value\":\"8pt\"},\"x\":{\"field\":\"x1\"},\"y\":{\"field\":\"x2\"},\"y_offset\":{\"value\":6}},\"id\":\"db88528e-5e56-4e1a-8e78-bee86b9c53fa\",\"type\":\"LabelSet\"},{\"attributes\":{},\"id\":\"0144a9a0-8105-4dc0-a4b7-109b97f183c0\",\"type\":\"BasicTicker\"},{\"attributes\":{\"formatter\":{\"id\":\"9200687b-aacc-45a7-af55-0ce93052c45a\",\"type\":\"BasicTickFormatter\"},\"plot\":{\"id\":\"89559289-be19-41d9-8653-4b7dd5a3ca2c\",\"subtype\":\"Figure\",\"type\":\"Plot\"},\"ticker\":{\"id\":\"0144a9a0-8105-4dc0-a4b7-109b97f183c0\",\"type\":\"BasicTicker\"}},\"id\":\"8a3883ce-7c3d-4366-86d0-2a4835c1d566\",\"type\":\"LinearAxis\"},{\"attributes\":{\"plot\":{\"id\":\"89559289-be19-41d9-8653-4b7dd5a3ca2c\",\"subtype\":\"Figure\",\"type\":\"Plot\"},\"ticker\":{\"id\":\"0144a9a0-8105-4dc0-a4b7-109b97f183c0\",\"type\":\"BasicTicker\"}},\"id\":\"f8b49b2e-edfc-407e-959a-148a0f458138\",\"type\":\"Grid\"},{\"attributes\":{},\"id\":\"9278cf9e-2235-4b68-9918-79b02a11a93e\",\"type\":\"LinearScale\"},{\"attributes\":{\"callback\":null},\"id\":\"2b84d8be-595c-4044-a24a-def7c0ee6e2b\",\"type\":\"DataRange1d\"},{\"attributes\":{},\"id\":\"228a8131-58c5-493d-a7fa-25f857538ea2\",\"type\":\"LinearScale\"},{\"attributes\":{\"fill_alpha\":{\"value\":0.1},\"fill_color\":{\"value\":\"#1f77b4\"},\"line_alpha\":{\"value\":0.1},\"line_color\":{\"value\":\"#1f77b4\"},\"size\":{\"units\":\"screen\",\"value\":8},\"x\":{\"field\":\"x1\"},\"y\":{\"field\":\"x2\"}},\"id\":\"569035ec-a8d8-47e1-ac0b-a5d7912afec2\",\"type\":\"Circle\"},{\"attributes\":{\"data_source\":{\"id\":\"ebc40e7f-f5d7-4fe5-be9c-90c2d3ea4463\",\"type\":\"ColumnDataSource\"},\"glyph\":{\"id\":\"a8dc5023-90b7-4275-84fd-bdda67b12e0a\",\"type\":\"Circle\"},\"hover_glyph\":null,\"muted_glyph\":null,\"nonselection_glyph\":{\"id\":\"569035ec-a8d8-47e1-ac0b-a5d7912afec2\",\"type\":\"Circle\"},\"selection_glyph\":null},\"id\":\"44e77894-faf4-42cf-8f8d-f59d5eeeb9c2\",\"type\":\"GlyphRenderer\"},{\"attributes\":{\"plot\":{\"id\":\"89559289-be19-41d9-8653-4b7dd5a3ca2c\",\"subtype\":\"Figure\",\"type\":\"Plot\"}},\"id\":\"e276adb9-5590-4e15-9e00-c461988ac0c7\",\"type\":\"PanTool\"},{\"attributes\":{\"plot\":{\"id\":\"89559289-be19-41d9-8653-4b7dd5a3ca2c\",\"subtype\":\"Figure\",\"type\":\"Plot\"}},\"id\":\"4b4b3cc7-edda-4323-a4cf-b5c22860090d\",\"type\":\"SaveTool\"},{\"attributes\":{},\"id\":\"9dd9d51f-c2b6-436f-9970-fcc970023be7\",\"type\":\"BasicTickFormatter\"},{\"attributes\":{\"active_drag\":\"auto\",\"active_inspect\":\"auto\",\"active_scroll\":\"auto\",\"active_tap\":\"auto\",\"tools\":[{\"id\":\"e276adb9-5590-4e15-9e00-c461988ac0c7\",\"type\":\"PanTool\"},{\"id\":\"97010208-bbf8-4570-a3c3-05735a8e127d\",\"type\":\"WheelZoomTool\"},{\"id\":\"3aeb06ab-c954-49b1-807e-4b139dffc9ad\",\"type\":\"ResetTool\"},{\"id\":\"4b4b3cc7-edda-4323-a4cf-b5c22860090d\",\"type\":\"SaveTool\"}]},\"id\":\"436f1205-8a5d-4604-a143-ce90db367176\",\"type\":\"Toolbar\"},{\"attributes\":{},\"id\":\"3bdffa7c-698f-4609-a00c-04504bd6cfa2\",\"type\":\"ToolEvents\"},{\"attributes\":{\"plot\":{\"id\":\"89559289-be19-41d9-8653-4b7dd5a3ca2c\",\"subtype\":\"Figure\",\"type\":\"Plot\"}},\"id\":\"97010208-bbf8-4570-a3c3-05735a8e127d\",\"type\":\"WheelZoomTool\"},{\"attributes\":{},\"id\":\"9200687b-aacc-45a7-af55-0ce93052c45a\",\"type\":\"BasicTickFormatter\"}],\"root_ids\":[\"89559289-be19-41d9-8653-4b7dd5a3ca2c\"]},\"title\":\"Bokeh Application\",\"version\":\"0.12.6\"}};\n",
       "            var render_items = [{\"docid\":\"2b85c0f2-a77d-48d9-8db2-6237790d0a86\",\"elementid\":\"b5c57d66-ccd0-4091-80ba-6d962e94e45a\",\"modelid\":\"89559289-be19-41d9-8653-4b7dd5a3ca2c\"}];\n",
       "            \n",
       "            Bokeh.embed.embed_items(docs_json, render_items);\n",
       "          };\n",
       "          if (document.readyState != \"loading\") fn();\n",
       "          else document.addEventListener(\"DOMContentLoaded\", fn);\n",
       "        })();\n",
       "      },\n",
       "      function(Bokeh) {\n",
       "      }\n",
       "    ];\n",
       "  \n",
       "    function run_inline_js() {\n",
       "      \n",
       "      if ((window.Bokeh !== undefined) || (force === true)) {\n",
       "        for (var i = 0; i < inline_js.length; i++) {\n",
       "          inline_js[i](window.Bokeh);\n",
       "        }if (force === true) {\n",
       "          display_loaded();\n",
       "        }} else if (Date.now() < window._bokeh_timeout) {\n",
       "        setTimeout(run_inline_js, 100);\n",
       "      } else if (!window._bokeh_failed_load) {\n",
       "        console.log(\"Bokeh: BokehJS failed to load within specified timeout.\");\n",
       "        window._bokeh_failed_load = true;\n",
       "      } else if (force !== true) {\n",
       "        var cell = $(document.getElementById(\"b5c57d66-ccd0-4091-80ba-6d962e94e45a\")).parents('.cell').data().cell;\n",
       "        cell.output_area.append_execute_result(NB_LOAD_WARNING)\n",
       "      }\n",
       "  \n",
       "    }\n",
       "  \n",
       "    if (window._bokeh_is_loading === 0) {\n",
       "      console.log(\"Bokeh: BokehJS loaded, going straight to plotting\");\n",
       "      run_inline_js();\n",
       "    } else {\n",
       "      load_libs(js_urls, function() {\n",
       "        console.log(\"Bokeh: BokehJS plotting callback run at\", now());\n",
       "        run_inline_js();\n",
       "      });\n",
       "    }\n",
       "  }(this));\n",
       "</script>"
      ]
     },
     "metadata": {},
     "output_type": "display_data"
    },
    {
     "name": "stdout",
     "output_type": "stream",
     "text": [
      "time: 52.3 ms\n"
     ]
    }
   ],
   "source": [
    "p = figure(tools=\"pan,wheel_zoom,reset,save\",\n",
    "           toolbar_location=\"above\",\n",
    "           title=\"word2vec T-SNE for most common words\")\n",
    "\n",
    "source = ColumnDataSource(data=dict(x1=words_top_ted_tsne[:,0],\n",
    "                                    x2=words_top_ted_tsne[:,1],\n",
    "                                    names=words_top_ted))\n",
    "\n",
    "p.scatter(x=\"x1\", y=\"x2\", size=8, source=source)\n",
    "\n",
    "labels = LabelSet(x=\"x1\", y=\"x2\", text=\"names\", y_offset=6,\n",
    "                  text_font_size=\"8pt\", text_color=\"#555555\",\n",
    "                  source=source, text_align='center')\n",
    "p.add_layout(labels)\n",
    "\n",
    "show(p)"
   ]
  },
  {
   "cell_type": "markdown",
   "metadata": {},
   "source": [
    "### Part 5: Wiki Learnt Representations"
   ]
  },
  {
   "cell_type": "markdown",
   "metadata": {},
   "source": [
    "Download dataset"
   ]
  },
  {
   "cell_type": "code",
   "execution_count": 46,
   "metadata": {},
   "outputs": [
    {
     "name": "stdout",
     "output_type": "stream",
     "text": [
      "time: 2.86 ms\n"
     ]
    }
   ],
   "source": [
    "if not os.path.isfile('wikitext-103-raw-v1.zip'):\n",
    "    urllib.request.urlretrieve(\"https://s3.amazonaws.com/research.metamind.io/wikitext/wikitext-103-raw-v1.zip\", filename=\"wikitext-103-raw-v1.zip\")"
   ]
  },
  {
   "cell_type": "code",
   "execution_count": 47,
   "metadata": {},
   "outputs": [
    {
     "name": "stdout",
     "output_type": "stream",
     "text": [
      "time: 2.73 s\n"
     ]
    }
   ],
   "source": [
    "with zipfile.ZipFile('wikitext-103-raw-v1.zip', 'r') as z:\n",
    "    input_text = str(z.open('wikitext-103-raw/wiki.train.raw', 'r').read(), encoding='utf-8') # Thanks Robert Bastian"
   ]
  },
  {
   "cell_type": "markdown",
   "metadata": {},
   "source": [
    "Preprocess sentences (note that it's important to remove small sentences for performance)"
   ]
  },
  {
   "cell_type": "code",
   "execution_count": 48,
   "metadata": {},
   "outputs": [
    {
     "name": "stderr",
     "output_type": "stream",
     "text": [
      "100%|██████████| 4267112/4267112 [00:37<00:00, 113333.64it/s]"
     ]
    },
    {
     "name": "stdout",
     "output_type": "stream",
     "text": [
      "time: 46.2 s\n"
     ]
    },
    {
     "name": "stderr",
     "output_type": "stream",
     "text": [
      "\n"
     ]
    }
   ],
   "source": [
    "sentences_strings_wiki = []\n",
    "for line in input_text.split('\\n'):\n",
    "    s = [x for x in line.split('.') if x and len(x.split()) >= 5]\n",
    "    sentences_strings_wiki.extend(s)\n",
    "    \n",
    "for s_i in tqdm.tqdm(range(len(sentences_strings_wiki))):\n",
    "    sentences_strings_wiki[s_i] = re.sub(\"[^a-z]\", \" \", sentences_strings_wiki[s_i].lower())\n",
    "    sentences_strings_wiki[s_i] = re.sub(r'\\([^)]*\\)', '', sentences_strings_wiki[s_i])\n",
    "del input_text"
   ]
  },
  {
   "cell_type": "code",
   "execution_count": 49,
   "metadata": {},
   "outputs": [
    {
     "name": "stdout",
     "output_type": "stream",
     "text": [
      "4267112\n",
      "time: 4.19 s\n"
     ]
    }
   ],
   "source": [
    "# sample 1/5 of the data\n",
    "shuffle(sentences_strings_wiki)\n",
    "print(len(sentences_strings_wiki))\n"
   ]
  },
  {
   "cell_type": "code",
   "execution_count": 50,
   "metadata": {},
   "outputs": [
    {
     "name": "stdout",
     "output_type": "stream",
     "text": [
      "853422\n",
      "time: 294 ms\n"
     ]
    }
   ],
   "source": [
    "sentences_strings_wiki = sentences_strings_wiki[:int(len(sentences_strings_wiki)/5)]\n",
    "print(len(sentences_strings_wiki))\n"
   ]
  },
  {
   "cell_type": "code",
   "execution_count": 51,
   "metadata": {},
   "outputs": [
    {
     "name": "stderr",
     "output_type": "stream",
     "text": [
      "100%|██████████| 853422/853422 [00:09<00:00, 87265.19it/s] "
     ]
    },
    {
     "name": "stdout",
     "output_type": "stream",
     "text": [
      "time: 9.79 s\n"
     ]
    },
    {
     "name": "stderr",
     "output_type": "stream",
     "text": [
      "\n"
     ]
    }
   ],
   "source": [
    "sentences_wiki = []\n",
    "for sent_str in tqdm.tqdm(sentences_strings_wiki):\n",
    "    tokens = re.sub(r\"[^a-z0-9]+\", \" \", sent_str.lower()).split()\n",
    "    sentences_wiki.append(tokens)"
   ]
  },
  {
   "cell_type": "code",
   "execution_count": 52,
   "metadata": {},
   "outputs": [
    {
     "name": "stdout",
     "output_type": "stream",
     "text": [
      "['first', 'steps']\n",
      "['in', 'games', 'with', 'the', 'netherlands', 'he', 'recorded', 'a']\n",
      "time: 2.87 ms\n"
     ]
    }
   ],
   "source": [
    "print (sentences_wiki[0])\n",
    "print (sentences_wiki[1])"
   ]
  },
  {
   "cell_type": "markdown",
   "metadata": {},
   "source": [
    "Now, repeat all the same steps that you performed above. You should be able to reuse essentially all the code."
   ]
  },
  {
   "cell_type": "code",
   "execution_count": 53,
   "metadata": {},
   "outputs": [
    {
     "name": "stdout",
     "output_type": "stream",
     "text": [
      "CPU times: user 0 ns, sys: 0 ns, total: 0 ns\n",
      "Wall time: 11.9 µs\n",
      "time: 6.49 s\n"
     ]
    }
   ],
   "source": [
    "%time\n",
    "wiki_word_counts = [Counter(sentence_list) for sentence_list in sentences_wiki]"
   ]
  },
  {
   "cell_type": "code",
   "execution_count": 54,
   "metadata": {},
   "outputs": [
    {
     "name": "stdout",
     "output_type": "stream",
     "text": [
      "853422\n",
      "time: 952 µs\n"
     ]
    }
   ],
   "source": [
    "final_counts_wiki = Counter()\n",
    "print (len(wiki_word_counts))\n"
   ]
  },
  {
   "cell_type": "code",
   "execution_count": 55,
   "metadata": {},
   "outputs": [
    {
     "name": "stderr",
     "output_type": "stream",
     "text": [
      "  0%|          | 480/853422 [00:00<02:57, 4795.89it/s]"
     ]
    },
    {
     "name": "stdout",
     "output_type": "stream",
     "text": [
      "CPU times: user 0 ns, sys: 0 ns, total: 0 ns\n",
      "Wall time: 13.6 µs\n"
     ]
    },
    {
     "name": "stderr",
     "output_type": "stream",
     "text": [
      "100%|██████████| 853422/853422 [4:04:04<00:00, 58.28it/s]  "
     ]
    },
    {
     "name": "stdout",
     "output_type": "stream",
     "text": [
      "time: 4h 4min 4s\n"
     ]
    },
    {
     "name": "stderr",
     "output_type": "stream",
     "text": [
      "\n"
     ]
    }
   ],
   "source": [
    "%time\n",
    "for wiki_count in tqdm.tqdm(wiki_word_counts):\n",
    "    final_counts_wiki += wiki_count"
   ]
  },
  {
   "cell_type": "code",
   "execution_count": 56,
   "metadata": {},
   "outputs": [
    {
     "name": "stdout",
     "output_type": "stream",
     "text": [
      "234948\n",
      "time: 146 ms\n"
     ]
    }
   ],
   "source": [
    "print (len(final_counts_wiki.keys()))\n",
    "sorted_final_counts_wiki = sorted(final_counts_wiki.items(), key=operator.itemgetter(1))\n",
    "sorted_final_counts_wiki.reverse()\n",
    "counts_wiki_top1000 = np.array([value for _,value in sorted_final_counts_wiki[:1000]])\n",
    "words_top_wiki = [key for key,_ in sorted_final_counts_wiki[:1000]]"
   ]
  },
  {
   "cell_type": "code",
   "execution_count": 57,
   "metadata": {},
   "outputs": [
    {
     "name": "stdout",
     "output_type": "stream",
     "text": [
      "time: 48.6 s\n"
     ]
    }
   ],
   "source": [
    "model1 = Word2Vec(sentences_wiki, size=100, window=5, min_count=10, workers=4)\n",
    "model1.save(\"wiki_word2vec.model\")\n",
    "model_wiki = Word2Vec.load(\"wiki_word2vec.model\")"
   ]
  },
  {
   "cell_type": "code",
   "execution_count": 59,
   "metadata": {},
   "outputs": [
    {
     "data": {
      "text/plain": [
       "'the'"
      ]
     },
     "execution_count": 59,
     "metadata": {},
     "output_type": "execute_result"
    },
    {
     "name": "stdout",
     "output_type": "stream",
     "text": [
      "time: 4.1 ms\n"
     ]
    }
   ],
   "source": [
    "words_top_wiki[0]"
   ]
  },
  {
   "cell_type": "code",
   "execution_count": 60,
   "metadata": {},
   "outputs": [
    {
     "data": {
      "text/plain": [
       "[('woman', 0.7459496259689331),\n",
       " ('person', 0.6308660507202148),\n",
       " ('girl', 0.6241695880889893),\n",
       " ('boy', 0.5806270837783813),\n",
       " ('soldier', 0.5727490186691284),\n",
       " ('someone', 0.543090283870697),\n",
       " ('kid', 0.5382193922996521),\n",
       " ('dog', 0.5380415916442871),\n",
       " ('thief', 0.5373824834823608),\n",
       " ('knife', 0.5320389270782471)]"
      ]
     },
     "execution_count": 60,
     "metadata": {},
     "output_type": "execute_result"
    },
    {
     "name": "stdout",
     "output_type": "stream",
     "text": [
      "time: 30.9 ms\n"
     ]
    }
   ],
   "source": [
    "model_wiki.most_similar(\"man\")"
   ]
  },
  {
   "cell_type": "code",
   "execution_count": 61,
   "metadata": {},
   "outputs": [
    {
     "data": {
      "text/plain": [
       "[('software', 0.7582915425300598),\n",
       " ('user', 0.7185367345809937),\n",
       " ('simulation', 0.7015782594680786),\n",
       " ('browser', 0.6973167657852173),\n",
       " ('hardware', 0.6929763555526733),\n",
       " ('computing', 0.6904938220977783),\n",
       " ('graphical', 0.6893253922462463),\n",
       " ('sensor', 0.6835991144180298),\n",
       " ('computers', 0.6835297346115112),\n",
       " ('interface', 0.6821520328521729)]"
      ]
     },
     "execution_count": 61,
     "metadata": {},
     "output_type": "execute_result"
    },
    {
     "name": "stdout",
     "output_type": "stream",
     "text": [
      "time: 11.6 ms\n"
     ]
    }
   ],
   "source": [
    "model_wiki.most_similar(\"computer\")"
   ]
  },
  {
   "cell_type": "markdown",
   "metadata": {},
   "source": [
    "#### t-SNE visualization"
   ]
  },
  {
   "cell_type": "code",
   "execution_count": 62,
   "metadata": {},
   "outputs": [
    {
     "name": "stdout",
     "output_type": "stream",
     "text": [
      "time: 3.93 s\n"
     ]
    }
   ],
   "source": [
    "# This assumes words_top_wiki is a list of strings, the top 1000 words\n",
    "words_top_vec_wiki = model_wiki[words_top_wiki]\n",
    "\n",
    "tsne = TSNE(n_components=2, random_state=0)\n",
    "words_top_wiki_tsne = tsne.fit_transform(words_top_vec_wiki)"
   ]
  },
  {
   "cell_type": "code",
   "execution_count": 63,
   "metadata": {},
   "outputs": [
    {
     "data": {
      "text/html": [
       "\n",
       "\n",
       "    <div class=\"bk-root\">\n",
       "        <div class=\"bk-plotdiv\" id=\"cfece693-afd8-4746-88fd-6f235c3c9944\"></div>\n",
       "    </div>\n",
       "<script type=\"text/javascript\">\n",
       "  \n",
       "  (function(global) {\n",
       "    function now() {\n",
       "      return new Date();\n",
       "    }\n",
       "  \n",
       "    var force = false;\n",
       "  \n",
       "    if (typeof (window._bokeh_onload_callbacks) === \"undefined\" || force === true) {\n",
       "      window._bokeh_onload_callbacks = [];\n",
       "      window._bokeh_is_loading = undefined;\n",
       "    }\n",
       "  \n",
       "  \n",
       "    \n",
       "    if (typeof (window._bokeh_timeout) === \"undefined\" || force === true) {\n",
       "      window._bokeh_timeout = Date.now() + 0;\n",
       "      window._bokeh_failed_load = false;\n",
       "    }\n",
       "  \n",
       "    var NB_LOAD_WARNING = {'data': {'text/html':\n",
       "       \"<div style='background-color: #fdd'>\\n\"+\n",
       "       \"<p>\\n\"+\n",
       "       \"BokehJS does not appear to have successfully loaded. If loading BokehJS from CDN, this \\n\"+\n",
       "       \"may be due to a slow or bad network connection. Possible fixes:\\n\"+\n",
       "       \"</p>\\n\"+\n",
       "       \"<ul>\\n\"+\n",
       "       \"<li>re-rerun `output_notebook()` to attempt to load from CDN again, or</li>\\n\"+\n",
       "       \"<li>use INLINE resources instead, as so:</li>\\n\"+\n",
       "       \"</ul>\\n\"+\n",
       "       \"<code>\\n\"+\n",
       "       \"from bokeh.resources import INLINE\\n\"+\n",
       "       \"output_notebook(resources=INLINE)\\n\"+\n",
       "       \"</code>\\n\"+\n",
       "       \"</div>\"}};\n",
       "  \n",
       "    function display_loaded() {\n",
       "      if (window.Bokeh !== undefined) {\n",
       "        var el = document.getElementById(\"cfece693-afd8-4746-88fd-6f235c3c9944\");\n",
       "        el.textContent = \"BokehJS \" + Bokeh.version + \" successfully loaded.\";\n",
       "      } else if (Date.now() < window._bokeh_timeout) {\n",
       "        setTimeout(display_loaded, 100)\n",
       "      }\n",
       "    }\n",
       "  \n",
       "    function run_callbacks() {\n",
       "      try {\n",
       "        window._bokeh_onload_callbacks.forEach(function(callback) { callback() });\n",
       "      }\n",
       "      finally {\n",
       "        delete window._bokeh_onload_callbacks\n",
       "      }\n",
       "      console.info(\"Bokeh: all callbacks have finished\");\n",
       "    }\n",
       "  \n",
       "    function load_libs(js_urls, callback) {\n",
       "      window._bokeh_onload_callbacks.push(callback);\n",
       "      if (window._bokeh_is_loading > 0) {\n",
       "        console.log(\"Bokeh: BokehJS is being loaded, scheduling callback at\", now());\n",
       "        return null;\n",
       "      }\n",
       "      if (js_urls == null || js_urls.length === 0) {\n",
       "        run_callbacks();\n",
       "        return null;\n",
       "      }\n",
       "      console.log(\"Bokeh: BokehJS not loaded, scheduling load and callback at\", now());\n",
       "      window._bokeh_is_loading = js_urls.length;\n",
       "      for (var i = 0; i < js_urls.length; i++) {\n",
       "        var url = js_urls[i];\n",
       "        var s = document.createElement('script');\n",
       "        s.src = url;\n",
       "        s.async = false;\n",
       "        s.onreadystatechange = s.onload = function() {\n",
       "          window._bokeh_is_loading--;\n",
       "          if (window._bokeh_is_loading === 0) {\n",
       "            console.log(\"Bokeh: all BokehJS libraries loaded\");\n",
       "            run_callbacks()\n",
       "          }\n",
       "        };\n",
       "        s.onerror = function() {\n",
       "          console.warn(\"failed to load library \" + url);\n",
       "        };\n",
       "        console.log(\"Bokeh: injecting script tag for BokehJS library: \", url);\n",
       "        document.getElementsByTagName(\"head\")[0].appendChild(s);\n",
       "      }\n",
       "    };var element = document.getElementById(\"cfece693-afd8-4746-88fd-6f235c3c9944\");\n",
       "    if (element == null) {\n",
       "      console.log(\"Bokeh: ERROR: autoload.js configured with elementid 'cfece693-afd8-4746-88fd-6f235c3c9944' but no matching script tag was found. \")\n",
       "      return false;\n",
       "    }\n",
       "  \n",
       "    var js_urls = [];\n",
       "  \n",
       "    var inline_js = [\n",
       "      function(Bokeh) {\n",
       "        (function() {\n",
       "          var fn = function() {\n",
       "            var docs_json = {\"77a02860-5085-4f0d-b51c-dbba42e2ade4\":{\"roots\":{\"references\":[{\"attributes\":{\"formatter\":{\"id\":\"63c91847-d327-402d-8b83-24d23f2dcd84\",\"type\":\"BasicTickFormatter\"},\"plot\":{\"id\":\"1bd6e532-1777-4165-847f-fea0ec957d59\",\"subtype\":\"Figure\",\"type\":\"Plot\"},\"ticker\":{\"id\":\"cf9692e6-5a1c-478c-a4a9-87fa7ee43f25\",\"type\":\"BasicTicker\"}},\"id\":\"e773f83e-0d38-4dd3-ab4f-9744b4965cc7\",\"type\":\"LinearAxis\"},{\"attributes\":{},\"id\":\"cf9692e6-5a1c-478c-a4a9-87fa7ee43f25\",\"type\":\"BasicTicker\"},{\"attributes\":{\"dimension\":1,\"plot\":{\"id\":\"1bd6e532-1777-4165-847f-fea0ec957d59\",\"subtype\":\"Figure\",\"type\":\"Plot\"},\"ticker\":{\"id\":\"cf9692e6-5a1c-478c-a4a9-87fa7ee43f25\",\"type\":\"BasicTicker\"}},\"id\":\"ad741e41-0aaf-425e-a088-61203c5f4f42\",\"type\":\"Grid\"},{\"attributes\":{},\"id\":\"ce0dfbaa-d5d8-45cf-b40c-9d3410feca59\",\"type\":\"BasicTickFormatter\"},{\"attributes\":{\"plot\":{\"id\":\"1bd6e532-1777-4165-847f-fea0ec957d59\",\"subtype\":\"Figure\",\"type\":\"Plot\"},\"source\":{\"id\":\"ef9c9fd5-d186-4f2f-a9d1-6032ac7d3f69\",\"type\":\"ColumnDataSource\"},\"text\":{\"field\":\"names\"},\"text_align\":\"center\",\"text_color\":{\"value\":\"#555555\"},\"text_font_size\":{\"value\":\"8pt\"},\"x\":{\"field\":\"x1\"},\"y\":{\"field\":\"x2\"},\"y_offset\":{\"value\":6}},\"id\":\"f0b09cb1-882a-49b9-b0aa-aebeeba2e71c\",\"type\":\"LabelSet\"},{\"attributes\":{\"active_drag\":\"auto\",\"active_inspect\":\"auto\",\"active_scroll\":\"auto\",\"active_tap\":\"auto\",\"tools\":[{\"id\":\"f0941169-913d-47bc-8e32-2b7aaa4e41c3\",\"type\":\"PanTool\"},{\"id\":\"63c93d9f-f99c-45d9-b784-199fa3345b95\",\"type\":\"WheelZoomTool\"},{\"id\":\"0baa4c3e-3895-4fe7-a172-0aeac2feb195\",\"type\":\"ResetTool\"},{\"id\":\"70c6d0b9-327a-4b2b-95cd-d8c351afd103\",\"type\":\"SaveTool\"}]},\"id\":\"7c930e19-e6bb-4155-b73e-e64388f9825d\",\"type\":\"Toolbar\"},{\"attributes\":{},\"id\":\"63c91847-d327-402d-8b83-24d23f2dcd84\",\"type\":\"BasicTickFormatter\"},{\"attributes\":{\"below\":[{\"id\":\"0eba5a1c-9307-4f6b-bf63-e7caf7c48825\",\"type\":\"LinearAxis\"}],\"left\":[{\"id\":\"e773f83e-0d38-4dd3-ab4f-9744b4965cc7\",\"type\":\"LinearAxis\"}],\"renderers\":[{\"id\":\"0eba5a1c-9307-4f6b-bf63-e7caf7c48825\",\"type\":\"LinearAxis\"},{\"id\":\"5c270047-13d8-455a-9ef7-1d6fd991ff01\",\"type\":\"Grid\"},{\"id\":\"e773f83e-0d38-4dd3-ab4f-9744b4965cc7\",\"type\":\"LinearAxis\"},{\"id\":\"ad741e41-0aaf-425e-a088-61203c5f4f42\",\"type\":\"Grid\"},{\"id\":\"626b31e2-ed58-4aec-ad62-e1ee1049be29\",\"type\":\"GlyphRenderer\"},{\"id\":\"f0b09cb1-882a-49b9-b0aa-aebeeba2e71c\",\"type\":\"LabelSet\"}],\"title\":{\"id\":\"8a56e1f2-ead7-406d-be22-8333346d0d4d\",\"type\":\"Title\"},\"tool_events\":{\"id\":\"d3160b52-8f7d-4cf3-b55b-583e89b21746\",\"type\":\"ToolEvents\"},\"toolbar\":{\"id\":\"7c930e19-e6bb-4155-b73e-e64388f9825d\",\"type\":\"Toolbar\"},\"toolbar_location\":\"above\",\"x_range\":{\"id\":\"be496ac0-00b0-48ca-a8c9-a495cbb3dd57\",\"type\":\"DataRange1d\"},\"x_scale\":{\"id\":\"be44b113-0d25-4172-88de-c780d620a144\",\"type\":\"LinearScale\"},\"y_range\":{\"id\":\"40d2f5ca-fd7d-4d7e-8160-2b087f2f9642\",\"type\":\"DataRange1d\"},\"y_scale\":{\"id\":\"3584631c-c3d6-4a11-bd50-5868c6f5d331\",\"type\":\"LinearScale\"}},\"id\":\"1bd6e532-1777-4165-847f-fea0ec957d59\",\"subtype\":\"Figure\",\"type\":\"Plot\"},{\"attributes\":{\"plot\":{\"id\":\"1bd6e532-1777-4165-847f-fea0ec957d59\",\"subtype\":\"Figure\",\"type\":\"Plot\"}},\"id\":\"f0941169-913d-47bc-8e32-2b7aaa4e41c3\",\"type\":\"PanTool\"},{\"attributes\":{\"callback\":null,\"column_names\":[\"x1\",\"x2\",\"names\"],\"data\":{\"names\":[\"the\",\"of\",\"and\",\"in\",\"to\",\"a\",\"was\",\"s\",\"on\",\"as\",\"for\",\"that\",\"with\",\"by\",\"is\",\"his\",\"at\",\"he\",\"from\",\"it\",\"were\",\"an\",\"had\",\"which\",\"be\",\"this\",\"but\",\"are\",\"first\",\"not\",\"their\",\"after\",\"her\",\"one\",\"its\",\"also\",\"they\",\"two\",\"or\",\"have\",\"who\",\"new\",\"been\",\"has\",\"she\",\"when\",\"during\",\"time\",\"other\",\"would\",\"into\",\"all\",\"i\",\"more\",\"while\",\"over\",\"him\",\"game\",\"only\",\"later\",\"up\",\"most\",\"about\",\"three\",\"out\",\"between\",\"th\",\"than\",\"there\",\"some\",\"film\",\"may\",\"before\",\"year\",\"made\",\"such\",\"no\",\"season\",\"second\",\"where\",\"world\",\"years\",\"war\",\"however\",\"song\",\"through\",\"both\",\"them\",\"then\",\"being\",\"these\",\"used\",\"against\",\"series\",\"m\",\"many\",\"album\",\"city\",\"team\",\"part\",\"became\",\"well\",\"number\",\"north\",\"several\",\"four\",\"including\",\"can\",\"united\",\"early\",\"under\",\"state\",\"south\",\"music\",\"so\",\"day\",\"episode\",\"said\",\"states\",\"following\",\"known\",\"american\",\"although\",\"could\",\"did\",\"work\",\"until\",\"began\",\"t\",\"because\",\"released\",\"called\",\"like\",\"people\",\"high\",\"end\",\"since\",\"british\",\"around\",\"long\",\"life\",\"each\",\"national\",\"best\",\"if\",\"same\",\"us\",\"found\",\"west\",\"along\",\"september\",\"million\",\"five\",\"back\",\"show\",\"another\",\"km\",\"any\",\"took\",\"use\",\"you\",\"area\",\"off\",\"october\",\"final\",\"century\",\"august\",\"group\",\"received\",\"will\",\"school\",\"john\",\"due\",\"what\",\"november\",\"line\",\"single\",\"system\",\"july\",\"june\",\"east\",\"games\",\"government\",\"home\",\"third\",\"march\",\"general\",\"large\",\"april\",\"set\",\"down\",\"major\",\"much\",\"based\",\"place\",\"left\",\"family\",\"company\",\"york\",\"house\",\"army\",\"december\",\"band\",\"name\",\"just\",\"we\",\"character\",\"january\",\"included\",\"history\",\"played\",\"six\",\"road\",\"king\",\"now\",\"won\",\"wrote\",\"men\",\"last\",\"according\",\"led\",\"within\",\"times\",\"video\",\"named\",\"described\",\"own\",\"near\",\"river\",\"main\",\"death\",\"those\",\"d\",\"battle\",\"original\",\"release\",\"record\",\"st\",\"de\",\"way\",\"late\",\"air\",\"still\",\"league\",\"next\",\"make\",\"very\",\"u\",\"great\",\"man\",\"even\",\"top\",\"storm\",\"ship\",\"production\",\"though\",\"route\",\"public\",\"small\",\"species\",\"club\",\"old\",\"force\",\"play\",\"days\",\"built\",\"again\",\"february\",\"among\",\"university\",\"division\",\"do\",\"further\",\"held\",\"b\",\"role\",\"members\",\"story\",\"book\",\"side\",\"white\",\"having\",\"match\",\"french\",\"service\",\"power\",\"water\",\"h\",\"player\",\"point\",\"often\",\"german\",\"park\",\"career\",\"continued\",\"former\",\"town\",\"order\",\"local\",\"without\",\"despite\",\"england\",\"came\",\"considered\",\"black\",\"half\",\"party\",\"development\",\"take\",\"form\",\"county\",\"island\",\"c\",\"moved\",\"few\",\"written\",\"version\",\"period\",\"lost\",\"different\",\"military\",\"given\",\"become\",\"songs\",\"support\",\"re\",\"ii\",\"tropical\",\"little\",\"forces\",\"court\",\"president\",\"my\",\"building\",\"country\",\"london\",\"english\",\"street\",\"international\",\"tour\",\"lead\",\"church\",\"track\",\"never\",\"gave\",\"western\",\"similar\",\"went\",\"produced\",\"returned\",\"attack\",\"n\",\"performance\",\"published\",\"ships\",\"using\",\"short\",\"class\",\"royal\",\"total\",\"land\",\"making\",\"star\",\"television\",\"stated\",\"children\",\"recorded\",\"position\",\"per\",\"good\",\"father\",\"throughout\",\"women\",\"aircraft\",\"live\",\"include\",\"run\",\"how\",\"me\",\"week\",\"right\",\"once\",\"highway\",\"upon\",\"control\",\"fire\",\"love\",\"less\",\"himself\",\"head\",\"characters\",\"central\",\"australia\",\"design\",\"age\",\"r\",\"result\",\"ten\",\"light\",\"young\",\"away\",\"title\",\"seven\",\"sea\",\"instead\",\"months\",\"previous\",\"return\",\"remained\",\"players\",\"writing\",\"red\",\"night\",\"hurricane\",\"ft\",\"political\",\"center\",\"died\",\"southern\",\"noted\",\"developed\",\"rock\",\"law\",\"areas\",\"across\",\"e\",\"james\",\"station\",\"too\",\"eight\",\"son\",\"reported\",\"office\",\"low\",\"announced\",\"felt\",\"race\",\"william\",\"field\",\"construction\",\"eventually\",\"style\",\"college\",\"sent\",\"miles\",\"act\",\"various\",\"japanese\",\"win\",\"seen\",\"award\",\"reached\",\"created\",\"served\",\"america\",\"together\",\"followed\",\"should\",\"full\",\"performed\",\"level\",\"range\",\"member\",\"points\",\"born\",\"campaign\",\"able\",\"established\",\"killed\",\"special\",\"originally\",\"northern\",\"appeared\",\"action\",\"chart\",\"others\",\"thought\",\"common\",\"mm\",\"works\",\"success\",\"heavy\",\"football\",\"taken\",\"located\",\"project\",\"get\",\"modern\",\"playing\",\"started\",\"george\",\"front\",\"features\",\"caused\",\"body\",\"sold\",\"post\",\"australian\",\"fourth\",\"addition\",\"feet\",\"championship\",\"rather\",\"bridge\",\"stage\",\"fleet\",\"damage\",\"f\",\"site\",\"present\",\"o\",\"director\",\"critics\",\"formed\",\"eastern\",\"see\",\"behind\",\"added\",\"important\",\"strong\",\"almost\",\"decided\",\"awards\",\"popular\",\"david\",\"every\",\"non\",\"close\",\"completed\",\"opened\",\"command\",\"go\",\"art\",\"population\",\"initially\",\"coast\",\"saw\",\"soon\",\"region\",\"guns\",\"kingdom\",\"l\",\"france\",\"case\",\"open\",\"scene\",\"mother\",\"towards\",\"leading\",\"weeks\",\"free\",\"event\",\"mi\",\"michael\",\"hall\",\"brought\",\"ever\",\"average\",\"worked\",\"ground\",\"sound\",\"working\",\"training\",\"union\",\"records\",\"help\",\"recording\",\"least\",\"does\",\"example\",\"put\",\"either\",\"henry\",\"provided\",\"featured\",\"generally\",\"navy\",\"wanted\",\"scored\",\"allowed\",\"hit\",\"events\",\"cup\",\"wife\",\"council\",\"victory\",\"human\",\"troops\",\"co\",\"magazine\",\"joined\",\"start\",\"far\",\"washington\",\"placed\",\"runs\",\"europe\",\"robert\",\"studio\",\"hours\",\"official\",\"mid\",\"replaced\",\"opening\",\"nine\",\"rest\",\"brown\",\"media\",\"designed\",\"al\",\"summer\",\"shot\",\"crew\",\"saying\",\"believed\",\"minutes\",\"list\",\"month\",\"possible\",\"society\",\"operation\",\"police\",\"finished\",\"met\",\"mph\",\"forced\",\"squadron\",\"significant\",\"particularly\",\"x\",\"earlier\",\"base\",\"involved\",\"test\",\"japan\",\"outside\",\"european\",\"beginning\",\"radio\",\"films\",\"association\",\"increased\",\"ended\",\"captain\",\"big\",\"taking\",\"cast\",\"review\",\"units\",\"come\",\"process\",\"change\",\"successful\",\"must\",\"highest\",\"winds\",\"move\",\"turned\",\"largest\",\"social\",\"relationship\",\"real\",\"available\",\"stone\",\"middle\",\"better\",\"passed\",\"ordered\",\"praised\",\"going\",\"research\",\"lower\",\"san\",\"additional\",\"g\",\"goal\",\"appearance\",\"charles\",\"section\",\"signed\",\"space\",\"committee\",\"above\",\"chief\",\"reviews\",\"enough\",\"thus\",\"spent\",\"program\",\"future\",\"community\",\"hill\",\"musical\",\"rights\",\"thomas\",\"female\",\"elements\",\"business\",\"critical\",\"brother\",\"board\",\"don\",\"previously\",\"gold\",\"germany\",\"staff\",\"california\",\"canada\",\"attempt\",\"v\",\"lines\",\"overall\",\"parts\",\"whose\",\"positive\",\"failed\",\"infantry\",\"paul\",\"asked\",\"castle\",\"told\",\"lake\",\"prior\",\"gun\",\"cross\",\"required\",\"plan\",\"give\",\"sometimes\",\"find\",\"round\",\"india\",\"interest\",\"grand\",\"money\",\"news\",\"district\",\"election\",\"cover\",\"room\",\"itself\",\"type\",\"hand\",\"uk\",\"directed\",\"groups\",\"already\",\"green\",\"personal\",\"port\",\"plot\",\"novel\",\"square\",\"past\",\"term\",\"introduced\",\"our\",\"usually\",\"study\",\"governor\",\"score\",\"whom\",\"bill\",\"background\",\"woman\",\"loss\",\"reception\",\"entire\",\"press\",\"p\",\"evidence\",\"flight\",\"smith\",\"debut\",\"pressure\",\"claimed\",\"effects\",\"commander\",\"education\",\"limited\",\"decision\",\"carried\",\"blue\",\"complete\",\"village\",\"speed\",\"britain\",\"indian\",\"turn\",\"battalion\",\"peter\",\"stars\",\"food\",\"response\",\"quickly\",\"cut\",\"la\",\"anti\",\"minister\",\"material\",\"virginia\",\"person\",\"idea\",\"services\",\"especially\",\"teams\",\"bay\",\"ny\",\"earth\",\"students\",\"movement\",\"industry\",\"science\",\"latter\",\"surface\",\"department\",\"k\",\"shows\",\"god\",\"arrived\",\"queen\",\"estimated\",\"structure\",\"entered\",\"defeated\",\"issue\",\"might\",\"suggested\",\"becoming\",\"episodes\",\"larger\",\"remaining\",\"language\",\"changes\",\"length\",\"richard\",\"centre\",\"operations\",\"scenes\",\"depression\",\"los\",\"civil\",\"commercial\",\"self\",\"running\",\"winning\",\"producer\",\"influence\",\"nearly\",\"mark\",\"car\",\"dark\",\"today\",\"voice\",\"experience\",\"approximately\",\"fifth\",\"living\",\"percent\",\"writer\",\"proposed\",\"nature\",\"islands\",\"supported\",\"leaving\",\"appointed\",\"pop\",\"regular\",\"shortly\",\"view\",\"naval\",\"current\",\"destroyed\",\"size\",\"married\",\"date\",\"intended\",\"empire\",\"report\",\"immediately\",\"wide\",\"subsequently\",\"hot\",\"fact\",\"railway\",\"compared\",\"higher\",\"planned\",\"provide\",\"contract\",\"daughter\",\"brigade\",\"lack\",\"appear\",\"spanish\",\"finally\",\"soviet\",\"leader\",\"longer\",\"officer\",\"feature\",\"captured\",\"course\",\"agreed\",\"face\",\"guitar\",\"something\",\"manager\",\"professional\",\"awarded\",\"network\",\"child\",\"cost\",\"whether\",\"fans\",\"natural\",\"issued\",\"trade\",\"soldiers\",\"helped\",\"chicago\",\"fort\",\"related\",\"probably\",\"information\",\"regiment\",\"tracks\",\"ball\",\"corps\",\"cm\",\"health\",\"friends\",\"associated\",\"upper\",\"changed\",\"johnson\",\"initial\",\"federal\",\"your\",\"minor\",\"themselves\",\"private\",\"nd\",\"plans\",\"moving\",\"jackson\",\"yet\",\"create\",\"effect\",\"lord\",\"singles\",\"chinese\",\"atlantic\",\"singer\",\"done\",\"remains\",\"officers\",\"lyrics\",\"friend\",\"museum\",\"copies\",\"buildings\",\"leave\",\"edward\",\"pacific\",\"roman\",\"books\",\"forward\",\"includes\",\"countries\",\"likely\",\"j\",\"mostly\",\"numerous\",\"christian\",\"dead\",\"really\",\"billboard\",\"removed\",\"independent\",\"energy\",\"fight\",\"dance\",\"extended\",\"inspired\",\"minute\",\"key\",\"mixed\",\"keep\",\"increase\",\"here\",\"sales\",\"difficult\",\"wind\",\"conditions\",\"got\",\"conference\",\"takes\",\"status\",\"wall\"],\"x1\":{\"__ndarray__\":\"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\",\"dtype\":\"float64\",\"shape\":[1000]},\"x2\":{\"__ndarray__\":\"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\",\"dtype\":\"float64\",\"shape\":[1000]}}},\"id\":\"ef9c9fd5-d186-4f2f-a9d1-6032ac7d3f69\",\"type\":\"ColumnDataSource\"},{\"attributes\":{\"fill_color\":{\"value\":\"#1f77b4\"},\"line_color\":{\"value\":\"#1f77b4\"},\"size\":{\"units\":\"screen\",\"value\":8},\"x\":{\"field\":\"x1\"},\"y\":{\"field\":\"x2\"}},\"id\":\"4219f620-686b-400a-805d-b412fbcb895d\",\"type\":\"Circle\"},{\"attributes\":{\"plot\":{\"id\":\"1bd6e532-1777-4165-847f-fea0ec957d59\",\"subtype\":\"Figure\",\"type\":\"Plot\"}},\"id\":\"63c93d9f-f99c-45d9-b784-199fa3345b95\",\"type\":\"WheelZoomTool\"},{\"attributes\":{\"plot\":null,\"text\":\"word2vec T-SNE for most common words\"},\"id\":\"8a56e1f2-ead7-406d-be22-8333346d0d4d\",\"type\":\"Title\"},{\"attributes\":{\"plot\":{\"id\":\"1bd6e532-1777-4165-847f-fea0ec957d59\",\"subtype\":\"Figure\",\"type\":\"Plot\"}},\"id\":\"0baa4c3e-3895-4fe7-a172-0aeac2feb195\",\"type\":\"ResetTool\"},{\"attributes\":{\"plot\":{\"id\":\"1bd6e532-1777-4165-847f-fea0ec957d59\",\"subtype\":\"Figure\",\"type\":\"Plot\"}},\"id\":\"70c6d0b9-327a-4b2b-95cd-d8c351afd103\",\"type\":\"SaveTool\"},{\"attributes\":{},\"id\":\"d3160b52-8f7d-4cf3-b55b-583e89b21746\",\"type\":\"ToolEvents\"},{\"attributes\":{\"data_source\":{\"id\":\"ef9c9fd5-d186-4f2f-a9d1-6032ac7d3f69\",\"type\":\"ColumnDataSource\"},\"glyph\":{\"id\":\"4219f620-686b-400a-805d-b412fbcb895d\",\"type\":\"Circle\"},\"hover_glyph\":null,\"muted_glyph\":null,\"nonselection_glyph\":{\"id\":\"62d13686-be24-46f4-9988-0f37dc72c4fb\",\"type\":\"Circle\"},\"selection_glyph\":null},\"id\":\"626b31e2-ed58-4aec-ad62-e1ee1049be29\",\"type\":\"GlyphRenderer\"},{\"attributes\":{\"callback\":null},\"id\":\"be496ac0-00b0-48ca-a8c9-a495cbb3dd57\",\"type\":\"DataRange1d\"},{\"attributes\":{\"fill_alpha\":{\"value\":0.1},\"fill_color\":{\"value\":\"#1f77b4\"},\"line_alpha\":{\"value\":0.1},\"line_color\":{\"value\":\"#1f77b4\"},\"size\":{\"units\":\"screen\",\"value\":8},\"x\":{\"field\":\"x1\"},\"y\":{\"field\":\"x2\"}},\"id\":\"62d13686-be24-46f4-9988-0f37dc72c4fb\",\"type\":\"Circle\"},{\"attributes\":{},\"id\":\"be44b113-0d25-4172-88de-c780d620a144\",\"type\":\"LinearScale\"},{\"attributes\":{\"callback\":null},\"id\":\"40d2f5ca-fd7d-4d7e-8160-2b087f2f9642\",\"type\":\"DataRange1d\"},{\"attributes\":{},\"id\":\"3584631c-c3d6-4a11-bd50-5868c6f5d331\",\"type\":\"LinearScale\"},{\"attributes\":{\"plot\":{\"id\":\"1bd6e532-1777-4165-847f-fea0ec957d59\",\"subtype\":\"Figure\",\"type\":\"Plot\"},\"ticker\":{\"id\":\"dbaefd16-c75e-4fe4-b204-c2475600b0db\",\"type\":\"BasicTicker\"}},\"id\":\"5c270047-13d8-455a-9ef7-1d6fd991ff01\",\"type\":\"Grid\"},{\"attributes\":{\"formatter\":{\"id\":\"ce0dfbaa-d5d8-45cf-b40c-9d3410feca59\",\"type\":\"BasicTickFormatter\"},\"plot\":{\"id\":\"1bd6e532-1777-4165-847f-fea0ec957d59\",\"subtype\":\"Figure\",\"type\":\"Plot\"},\"ticker\":{\"id\":\"dbaefd16-c75e-4fe4-b204-c2475600b0db\",\"type\":\"BasicTicker\"}},\"id\":\"0eba5a1c-9307-4f6b-bf63-e7caf7c48825\",\"type\":\"LinearAxis\"},{\"attributes\":{},\"id\":\"dbaefd16-c75e-4fe4-b204-c2475600b0db\",\"type\":\"BasicTicker\"}],\"root_ids\":[\"1bd6e532-1777-4165-847f-fea0ec957d59\"]},\"title\":\"Bokeh Application\",\"version\":\"0.12.6\"}};\n",
       "            var render_items = [{\"docid\":\"77a02860-5085-4f0d-b51c-dbba42e2ade4\",\"elementid\":\"cfece693-afd8-4746-88fd-6f235c3c9944\",\"modelid\":\"1bd6e532-1777-4165-847f-fea0ec957d59\"}];\n",
       "            \n",
       "            Bokeh.embed.embed_items(docs_json, render_items);\n",
       "          };\n",
       "          if (document.readyState != \"loading\") fn();\n",
       "          else document.addEventListener(\"DOMContentLoaded\", fn);\n",
       "        })();\n",
       "      },\n",
       "      function(Bokeh) {\n",
       "      }\n",
       "    ];\n",
       "  \n",
       "    function run_inline_js() {\n",
       "      \n",
       "      if ((window.Bokeh !== undefined) || (force === true)) {\n",
       "        for (var i = 0; i < inline_js.length; i++) {\n",
       "          inline_js[i](window.Bokeh);\n",
       "        }if (force === true) {\n",
       "          display_loaded();\n",
       "        }} else if (Date.now() < window._bokeh_timeout) {\n",
       "        setTimeout(run_inline_js, 100);\n",
       "      } else if (!window._bokeh_failed_load) {\n",
       "        console.log(\"Bokeh: BokehJS failed to load within specified timeout.\");\n",
       "        window._bokeh_failed_load = true;\n",
       "      } else if (force !== true) {\n",
       "        var cell = $(document.getElementById(\"cfece693-afd8-4746-88fd-6f235c3c9944\")).parents('.cell').data().cell;\n",
       "        cell.output_area.append_execute_result(NB_LOAD_WARNING)\n",
       "      }\n",
       "  \n",
       "    }\n",
       "  \n",
       "    if (window._bokeh_is_loading === 0) {\n",
       "      console.log(\"Bokeh: BokehJS loaded, going straight to plotting\");\n",
       "      run_inline_js();\n",
       "    } else {\n",
       "      load_libs(js_urls, function() {\n",
       "        console.log(\"Bokeh: BokehJS plotting callback run at\", now());\n",
       "        run_inline_js();\n",
       "      });\n",
       "    }\n",
       "  }(this));\n",
       "</script>"
      ]
     },
     "metadata": {},
     "output_type": "display_data"
    },
    {
     "name": "stdout",
     "output_type": "stream",
     "text": [
      "time: 115 ms\n"
     ]
    }
   ],
   "source": [
    "p = figure(tools=\"pan,wheel_zoom,reset,save\",\n",
    "           toolbar_location=\"above\",\n",
    "           title=\"word2vec T-SNE for most common words\")\n",
    "\n",
    "source = ColumnDataSource(data=dict(x1=words_top_wiki_tsne[:,0],\n",
    "                                    x2=words_top_wiki_tsne[:,1],\n",
    "                                    names=words_top_wiki))\n",
    "\n",
    "p.scatter(x=\"x1\", y=\"x2\", size=8, source=source)\n",
    "\n",
    "labels = LabelSet(x=\"x1\", y=\"x2\", text=\"names\", y_offset=6,\n",
    "                  text_font_size=\"8pt\", text_color=\"#555555\",\n",
    "                  source=source, text_align='center')\n",
    "p.add_layout(labels)\n",
    "\n",
    "show(p)"
   ]
  },
  {
   "cell_type": "code",
   "execution_count": null,
   "metadata": {
    "collapsed": true
   },
   "outputs": [],
   "source": []
  }
 ],
 "metadata": {
  "anaconda-cloud": {},
  "kernelspec": {
   "display_name": "Python 3",
   "language": "python",
   "name": "python3"
  },
  "language_info": {
   "codemirror_mode": {
    "name": "ipython",
    "version": 3
   },
   "file_extension": ".py",
   "mimetype": "text/x-python",
   "name": "python",
   "nbconvert_exporter": "python",
   "pygments_lexer": "ipython3",
   "version": "3.6.2"
  }
 },
 "nbformat": 4,
 "nbformat_minor": 1
}
